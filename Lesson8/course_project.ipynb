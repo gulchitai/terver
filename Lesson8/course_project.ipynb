{
 "cells": [
  {
   "cell_type": "markdown",
   "metadata": {},
   "source": [
    "***Тема курсового проекта: \"Спрогнозировать количество к заказу с помощью модели линейной регрессии y_hat = b0 + b1*x1 + b2*x2 + ... bn*xn матричным способом\"***"
   ]
  },
  {
   "cell_type": "markdown",
   "metadata": {},
   "source": [
    "**Описание датасета**\n",
    "\n",
    "* **НомерЗаказа**     - номер документа Автозаказ в программе 1с\n",
    "* **ГодЗаказа**       - год из поля дата документа Автозаказ\n",
    "* **МесяцЗаказа**     - месяц из поля дата документа Автозаказ\n",
    "* **ДеньЗаказа**      - день из поля дата документа Автозаказ\n",
    "* **НеделяЗаказа**    - номер недели из поля дата документа Автозаказ\n",
    "* **КодТовара**       - код товара, количество которого необходимо заказать (из табличной части документа Автозаказ)\n",
    "* **ЦЕНА_ЗКП_РУБ**    - цена закупочная в рублях\n",
    "* **СРОК_ГДН_ОСТ_Д**  - срок годности остаточный, в днях\n",
    "* **ОСТ_ТЕК_ШТ**      - текущий остаток в шт/кг\n",
    "* **ТОВ_В_ПУТ_СУМ_ШТ**- товара в пути в шт/кг\n",
    "* **ПРДЖ_СР_ШТ_ДО**   - продажи средние шт/кг\n",
    "* **КВО_ПРДЖ_БАЗА_ШТ**- продажи базовые в шт\n",
    "* **ПРДЖ_БАЗА_СР_ШТ** - продажи, базовые, средние, шт/кг\n",
    "* **ППП_ДЛН_Д**       - период покрытия продаж длительность дней\n",
    "* **ТРБ_МАГ_КВНТ_ШТ** - требование магазина, квант, шт/кг\n",
    "* **ПРДЖ_ШТ_НЕД**     - недельные продажи \n",
    "* **СПИС_ШТ_НЕД**     - недельные списания \n",
    "\n",
    "* **ЗКЗ_ИТГ_ШТ**    - количество к заказу, наша целевая переменная, которую мы будем пытаться предсказать"
   ]
  },
  {
   "cell_type": "code",
   "execution_count": 2,
   "metadata": {},
   "outputs": [],
   "source": [
    "import numpy as np\n",
    "import pandas as pd\n",
    "import matplotlib.pyplot as plt\n",
    "import seaborn as sns\n",
    "%matplotlib inline"
   ]
  },
  {
   "cell_type": "code",
   "execution_count": 3,
   "metadata": {},
   "outputs": [
    {
     "data": {
      "text/html": [
       "<div>\n",
       "<style scoped>\n",
       "    .dataframe tbody tr th:only-of-type {\n",
       "        vertical-align: middle;\n",
       "    }\n",
       "\n",
       "    .dataframe tbody tr th {\n",
       "        vertical-align: top;\n",
       "    }\n",
       "\n",
       "    .dataframe thead th {\n",
       "        text-align: right;\n",
       "    }\n",
       "</style>\n",
       "<table border=\"1\" class=\"dataframe\">\n",
       "  <thead>\n",
       "    <tr style=\"text-align: right;\">\n",
       "      <th></th>\n",
       "      <th>НомерЗаказа</th>\n",
       "      <th>ГодЗаказа</th>\n",
       "      <th>МесяцЗаказа</th>\n",
       "      <th>ДеньЗаказа</th>\n",
       "      <th>НеделяЗаказа</th>\n",
       "      <th>КодТовара</th>\n",
       "      <th>ЦЕНА_ЗКП_РУБ</th>\n",
       "      <th>СРОК_ГДН_ОСТ_Д</th>\n",
       "      <th>ОСТ_ТЕК_ШТ</th>\n",
       "      <th>ТОВ_В_ПУТ_СУМ_ШТ</th>\n",
       "      <th>ПРДЖ_СР_ШТ_ДО</th>\n",
       "      <th>КВО_ПРДЖ_БАЗА_ШТ</th>\n",
       "      <th>ПРДЖ_БАЗА_СР_ШТ</th>\n",
       "      <th>ППП_ДЛН_Д</th>\n",
       "      <th>ТРБ_МАГ_КВНТ_ШТ</th>\n",
       "      <th>ПРДЖ_ШТ_НЕД</th>\n",
       "      <th>СПИС_ШТ_НЕД</th>\n",
       "      <th>ЗКЗ_ИТГ_ШТ</th>\n",
       "    </tr>\n",
       "  </thead>\n",
       "  <tbody>\n",
       "    <tr>\n",
       "      <th>0</th>\n",
       "      <td>M3300009893</td>\n",
       "      <td>2018</td>\n",
       "      <td>4</td>\n",
       "      <td>24</td>\n",
       "      <td>17</td>\n",
       "      <td>389 965</td>\n",
       "      <td>67.85</td>\n",
       "      <td>245</td>\n",
       "      <td>21.0</td>\n",
       "      <td>0.0</td>\n",
       "      <td>0.68421</td>\n",
       "      <td>3</td>\n",
       "      <td>5.50612</td>\n",
       "      <td>14</td>\n",
       "      <td>6.0</td>\n",
       "      <td>2.0</td>\n",
       "      <td>0.0</td>\n",
       "      <td>6.0</td>\n",
       "    </tr>\n",
       "    <tr>\n",
       "      <th>1</th>\n",
       "      <td>M3300009893</td>\n",
       "      <td>2018</td>\n",
       "      <td>4</td>\n",
       "      <td>24</td>\n",
       "      <td>17</td>\n",
       "      <td>389 970</td>\n",
       "      <td>36.03</td>\n",
       "      <td>245</td>\n",
       "      <td>14.0</td>\n",
       "      <td>0.0</td>\n",
       "      <td>0.45714</td>\n",
       "      <td>5</td>\n",
       "      <td>3.28168</td>\n",
       "      <td>14</td>\n",
       "      <td>12.0</td>\n",
       "      <td>3.0</td>\n",
       "      <td>0.0</td>\n",
       "      <td>12.0</td>\n",
       "    </tr>\n",
       "    <tr>\n",
       "      <th>2</th>\n",
       "      <td>M3300009893</td>\n",
       "      <td>2018</td>\n",
       "      <td>4</td>\n",
       "      <td>24</td>\n",
       "      <td>17</td>\n",
       "      <td>366 976</td>\n",
       "      <td>30.54</td>\n",
       "      <td>482</td>\n",
       "      <td>12.0</td>\n",
       "      <td>0.0</td>\n",
       "      <td>0.31428</td>\n",
       "      <td>5</td>\n",
       "      <td>2.20001</td>\n",
       "      <td>14</td>\n",
       "      <td>6.0</td>\n",
       "      <td>0.0</td>\n",
       "      <td>0.0</td>\n",
       "      <td>6.0</td>\n",
       "    </tr>\n",
       "    <tr>\n",
       "      <th>3</th>\n",
       "      <td>M3300009893</td>\n",
       "      <td>2018</td>\n",
       "      <td>4</td>\n",
       "      <td>24</td>\n",
       "      <td>17</td>\n",
       "      <td>367 448</td>\n",
       "      <td>46.40</td>\n",
       "      <td>241</td>\n",
       "      <td>11.0</td>\n",
       "      <td>0.0</td>\n",
       "      <td>0.10345</td>\n",
       "      <td>4</td>\n",
       "      <td>0.79365</td>\n",
       "      <td>14</td>\n",
       "      <td>10.0</td>\n",
       "      <td>0.0</td>\n",
       "      <td>1.0</td>\n",
       "      <td>10.0</td>\n",
       "    </tr>\n",
       "    <tr>\n",
       "      <th>4</th>\n",
       "      <td>M3300009893</td>\n",
       "      <td>2018</td>\n",
       "      <td>4</td>\n",
       "      <td>24</td>\n",
       "      <td>17</td>\n",
       "      <td>260 461</td>\n",
       "      <td>50.92</td>\n",
       "      <td>245</td>\n",
       "      <td>12.0</td>\n",
       "      <td>0.0</td>\n",
       "      <td>0.39999</td>\n",
       "      <td>5</td>\n",
       "      <td>2.62693</td>\n",
       "      <td>14</td>\n",
       "      <td>12.0</td>\n",
       "      <td>4.0</td>\n",
       "      <td>0.0</td>\n",
       "      <td>12.0</td>\n",
       "    </tr>\n",
       "  </tbody>\n",
       "</table>\n",
       "</div>"
      ],
      "text/plain": [
       "   НомерЗаказа  ГодЗаказа  МесяцЗаказа  ДеньЗаказа  НеделяЗаказа КодТовара  \\\n",
       "0  M3300009893       2018            4          24            17   389 965   \n",
       "1  M3300009893       2018            4          24            17   389 970   \n",
       "2  M3300009893       2018            4          24            17   366 976   \n",
       "3  M3300009893       2018            4          24            17   367 448   \n",
       "4  M3300009893       2018            4          24            17   260 461   \n",
       "\n",
       "   ЦЕНА_ЗКП_РУБ  СРОК_ГДН_ОСТ_Д  ОСТ_ТЕК_ШТ  ТОВ_В_ПУТ_СУМ_ШТ  ПРДЖ_СР_ШТ_ДО  \\\n",
       "0         67.85             245        21.0               0.0        0.68421   \n",
       "1         36.03             245        14.0               0.0        0.45714   \n",
       "2         30.54             482        12.0               0.0        0.31428   \n",
       "3         46.40             241        11.0               0.0        0.10345   \n",
       "4         50.92             245        12.0               0.0        0.39999   \n",
       "\n",
       "   КВО_ПРДЖ_БАЗА_ШТ  ПРДЖ_БАЗА_СР_ШТ  ППП_ДЛН_Д  ТРБ_МАГ_КВНТ_ШТ  ПРДЖ_ШТ_НЕД  \\\n",
       "0                 3          5.50612         14              6.0          2.0   \n",
       "1                 5          3.28168         14             12.0          3.0   \n",
       "2                 5          2.20001         14              6.0          0.0   \n",
       "3                 4          0.79365         14             10.0          0.0   \n",
       "4                 5          2.62693         14             12.0          4.0   \n",
       "\n",
       "   СПИС_ШТ_НЕД  ЗКЗ_ИТГ_ШТ  \n",
       "0          0.0         6.0  \n",
       "1          0.0        12.0  \n",
       "2          0.0         6.0  \n",
       "3          1.0        10.0  \n",
       "4          0.0        12.0  "
      ]
     },
     "execution_count": 3,
     "metadata": {},
     "output_type": "execute_result"
    }
   ],
   "source": [
    "df = pd.read_csv('Order1c_pred.csv')\n",
    "df.head()"
   ]
  },
  {
   "cell_type": "code",
   "execution_count": 4,
   "metadata": {},
   "outputs": [
    {
     "name": "stdout",
     "output_type": "stream",
     "text": [
      "<class 'pandas.core.frame.DataFrame'>\n",
      "RangeIndex: 659803 entries, 0 to 659802\n",
      "Data columns (total 18 columns):\n",
      "НомерЗаказа         659803 non-null object\n",
      "ГодЗаказа           659803 non-null int64\n",
      "МесяцЗаказа         659803 non-null int64\n",
      "ДеньЗаказа          659803 non-null int64\n",
      "НеделяЗаказа        659803 non-null int64\n",
      "КодТовара           659803 non-null object\n",
      "ЦЕНА_ЗКП_РУБ        659803 non-null float64\n",
      "СРОК_ГДН_ОСТ_Д      659803 non-null int64\n",
      "ОСТ_ТЕК_ШТ          659803 non-null float64\n",
      "ТОВ_В_ПУТ_СУМ_ШТ    659803 non-null float64\n",
      "ПРДЖ_СР_ШТ_ДО       659803 non-null float64\n",
      "КВО_ПРДЖ_БАЗА_ШТ    659803 non-null int64\n",
      "ПРДЖ_БАЗА_СР_ШТ     659803 non-null float64\n",
      "ППП_ДЛН_Д           659803 non-null int64\n",
      "ТРБ_МАГ_КВНТ_ШТ     659803 non-null float64\n",
      "ПРДЖ_ШТ_НЕД         659803 non-null float64\n",
      "СПИС_ШТ_НЕД         659803 non-null float64\n",
      "ЗКЗ_ИТГ_ШТ          659803 non-null float64\n",
      "dtypes: float64(9), int64(7), object(2)\n",
      "memory usage: 90.6+ MB\n"
     ]
    }
   ],
   "source": [
    "df.info()"
   ]
  },
  {
   "cell_type": "code",
   "execution_count": 5,
   "metadata": {
    "scrolled": true
   },
   "outputs": [
    {
     "data": {
      "text/html": [
       "<div>\n",
       "<style scoped>\n",
       "    .dataframe tbody tr th:only-of-type {\n",
       "        vertical-align: middle;\n",
       "    }\n",
       "\n",
       "    .dataframe tbody tr th {\n",
       "        vertical-align: top;\n",
       "    }\n",
       "\n",
       "    .dataframe thead th {\n",
       "        text-align: right;\n",
       "    }\n",
       "</style>\n",
       "<table border=\"1\" class=\"dataframe\">\n",
       "  <thead>\n",
       "    <tr style=\"text-align: right;\">\n",
       "      <th></th>\n",
       "      <th>ГодЗаказа</th>\n",
       "      <th>МесяцЗаказа</th>\n",
       "      <th>ДеньЗаказа</th>\n",
       "      <th>НеделяЗаказа</th>\n",
       "      <th>ЦЕНА_ЗКП_РУБ</th>\n",
       "      <th>СРОК_ГДН_ОСТ_Д</th>\n",
       "      <th>ОСТ_ТЕК_ШТ</th>\n",
       "      <th>ТОВ_В_ПУТ_СУМ_ШТ</th>\n",
       "      <th>ПРДЖ_СР_ШТ_ДО</th>\n",
       "      <th>КВО_ПРДЖ_БАЗА_ШТ</th>\n",
       "      <th>ПРДЖ_БАЗА_СР_ШТ</th>\n",
       "      <th>ППП_ДЛН_Д</th>\n",
       "      <th>ТРБ_МАГ_КВНТ_ШТ</th>\n",
       "      <th>ПРДЖ_ШТ_НЕД</th>\n",
       "      <th>СПИС_ШТ_НЕД</th>\n",
       "      <th>ЗКЗ_ИТГ_ШТ</th>\n",
       "    </tr>\n",
       "  </thead>\n",
       "  <tbody>\n",
       "    <tr>\n",
       "      <th>0</th>\n",
       "      <td>2018</td>\n",
       "      <td>4</td>\n",
       "      <td>24</td>\n",
       "      <td>17</td>\n",
       "      <td>67.85</td>\n",
       "      <td>245</td>\n",
       "      <td>21.0</td>\n",
       "      <td>0.0</td>\n",
       "      <td>0.68421</td>\n",
       "      <td>3</td>\n",
       "      <td>5.50612</td>\n",
       "      <td>14</td>\n",
       "      <td>6.0</td>\n",
       "      <td>2.0</td>\n",
       "      <td>0.0</td>\n",
       "      <td>6.0</td>\n",
       "    </tr>\n",
       "    <tr>\n",
       "      <th>1</th>\n",
       "      <td>2018</td>\n",
       "      <td>4</td>\n",
       "      <td>24</td>\n",
       "      <td>17</td>\n",
       "      <td>36.03</td>\n",
       "      <td>245</td>\n",
       "      <td>14.0</td>\n",
       "      <td>0.0</td>\n",
       "      <td>0.45714</td>\n",
       "      <td>5</td>\n",
       "      <td>3.28168</td>\n",
       "      <td>14</td>\n",
       "      <td>12.0</td>\n",
       "      <td>3.0</td>\n",
       "      <td>0.0</td>\n",
       "      <td>12.0</td>\n",
       "    </tr>\n",
       "    <tr>\n",
       "      <th>2</th>\n",
       "      <td>2018</td>\n",
       "      <td>4</td>\n",
       "      <td>24</td>\n",
       "      <td>17</td>\n",
       "      <td>30.54</td>\n",
       "      <td>482</td>\n",
       "      <td>12.0</td>\n",
       "      <td>0.0</td>\n",
       "      <td>0.31428</td>\n",
       "      <td>5</td>\n",
       "      <td>2.20001</td>\n",
       "      <td>14</td>\n",
       "      <td>6.0</td>\n",
       "      <td>0.0</td>\n",
       "      <td>0.0</td>\n",
       "      <td>6.0</td>\n",
       "    </tr>\n",
       "    <tr>\n",
       "      <th>3</th>\n",
       "      <td>2018</td>\n",
       "      <td>4</td>\n",
       "      <td>24</td>\n",
       "      <td>17</td>\n",
       "      <td>46.40</td>\n",
       "      <td>241</td>\n",
       "      <td>11.0</td>\n",
       "      <td>0.0</td>\n",
       "      <td>0.10345</td>\n",
       "      <td>4</td>\n",
       "      <td>0.79365</td>\n",
       "      <td>14</td>\n",
       "      <td>10.0</td>\n",
       "      <td>0.0</td>\n",
       "      <td>1.0</td>\n",
       "      <td>10.0</td>\n",
       "    </tr>\n",
       "    <tr>\n",
       "      <th>4</th>\n",
       "      <td>2018</td>\n",
       "      <td>4</td>\n",
       "      <td>24</td>\n",
       "      <td>17</td>\n",
       "      <td>50.92</td>\n",
       "      <td>245</td>\n",
       "      <td>12.0</td>\n",
       "      <td>0.0</td>\n",
       "      <td>0.39999</td>\n",
       "      <td>5</td>\n",
       "      <td>2.62693</td>\n",
       "      <td>14</td>\n",
       "      <td>12.0</td>\n",
       "      <td>4.0</td>\n",
       "      <td>0.0</td>\n",
       "      <td>12.0</td>\n",
       "    </tr>\n",
       "  </tbody>\n",
       "</table>\n",
       "</div>"
      ],
      "text/plain": [
       "   ГодЗаказа  МесяцЗаказа  ДеньЗаказа  НеделяЗаказа  ЦЕНА_ЗКП_РУБ  \\\n",
       "0       2018            4          24            17         67.85   \n",
       "1       2018            4          24            17         36.03   \n",
       "2       2018            4          24            17         30.54   \n",
       "3       2018            4          24            17         46.40   \n",
       "4       2018            4          24            17         50.92   \n",
       "\n",
       "   СРОК_ГДН_ОСТ_Д  ОСТ_ТЕК_ШТ  ТОВ_В_ПУТ_СУМ_ШТ  ПРДЖ_СР_ШТ_ДО  \\\n",
       "0             245        21.0               0.0        0.68421   \n",
       "1             245        14.0               0.0        0.45714   \n",
       "2             482        12.0               0.0        0.31428   \n",
       "3             241        11.0               0.0        0.10345   \n",
       "4             245        12.0               0.0        0.39999   \n",
       "\n",
       "   КВО_ПРДЖ_БАЗА_ШТ  ПРДЖ_БАЗА_СР_ШТ  ППП_ДЛН_Д  ТРБ_МАГ_КВНТ_ШТ  ПРДЖ_ШТ_НЕД  \\\n",
       "0                 3          5.50612         14              6.0          2.0   \n",
       "1                 5          3.28168         14             12.0          3.0   \n",
       "2                 5          2.20001         14              6.0          0.0   \n",
       "3                 4          0.79365         14             10.0          0.0   \n",
       "4                 5          2.62693         14             12.0          4.0   \n",
       "\n",
       "   СПИС_ШТ_НЕД  ЗКЗ_ИТГ_ШТ  \n",
       "0          0.0         6.0  \n",
       "1          0.0        12.0  \n",
       "2          0.0         6.0  \n",
       "3          1.0        10.0  \n",
       "4          0.0        12.0  "
      ]
     },
     "execution_count": 5,
     "metadata": {},
     "output_type": "execute_result"
    }
   ],
   "source": [
    "df = df.select_dtypes(include = ['float64', 'int64'])\n",
    "df.head()"
   ]
  },
  {
   "cell_type": "markdown",
   "metadata": {},
   "source": [
    "Посмотрите, какие предикторы коррелируют с игреком, а какие нет. Оставить, которые коррелируют. Также уберите те предикторы, которые коррелируют c теми, что в модель включены. "
   ]
  },
  {
   "cell_type": "code",
   "execution_count": 6,
   "metadata": {},
   "outputs": [
    {
     "data": {
      "text/plain": [
       "array([ 6., 12.,  6., ...,  6.,  2.,  9.])"
      ]
     },
     "execution_count": 6,
     "metadata": {},
     "output_type": "execute_result"
    }
   ],
   "source": [
    "y = df.iloc[:,-1].values\n",
    "y"
   ]
  },
  {
   "cell_type": "code",
   "execution_count": 7,
   "metadata": {},
   "outputs": [
    {
     "data": {
      "text/plain": [
       "array([[ 1.        , -0.05842335],\n",
       "       [-0.05842335,  1.        ]])"
      ]
     },
     "execution_count": 7,
     "metadata": {},
     "output_type": "execute_result"
    }
   ],
   "source": [
    "np.corrcoef(df['ЦЕНА_ЗКП_РУБ'].values, y)"
   ]
  },
  {
   "cell_type": "code",
   "execution_count": 8,
   "metadata": {},
   "outputs": [
    {
     "data": {
      "text/plain": [
       "array([[ 1.00000000e+00, -2.73910469e-04],\n",
       "       [-2.73910469e-04,  1.00000000e+00]])"
      ]
     },
     "execution_count": 8,
     "metadata": {},
     "output_type": "execute_result"
    }
   ],
   "source": [
    "np.corrcoef(df['СРОК_ГДН_ОСТ_Д'].values, y)"
   ]
  },
  {
   "cell_type": "code",
   "execution_count": 9,
   "metadata": {},
   "outputs": [
    {
     "data": {
      "text/plain": [
       "array([[1.        , 0.69014253],\n",
       "       [0.69014253, 1.        ]])"
      ]
     },
     "execution_count": 9,
     "metadata": {},
     "output_type": "execute_result"
    }
   ],
   "source": [
    "np.corrcoef(df['ОСТ_ТЕК_ШТ'].values, y)"
   ]
  },
  {
   "cell_type": "code",
   "execution_count": 11,
   "metadata": {},
   "outputs": [
    {
     "data": {
      "text/plain": [
       "array([[1.        , 0.57512423],\n",
       "       [0.57512423, 1.        ]])"
      ]
     },
     "execution_count": 11,
     "metadata": {},
     "output_type": "execute_result"
    }
   ],
   "source": [
    "np.corrcoef(df['ПРДЖ_СР_ШТ_ДО'].values, y)"
   ]
  },
  {
   "cell_type": "code",
   "execution_count": 12,
   "metadata": {},
   "outputs": [
    {
     "data": {
      "text/plain": [
       "array([[1.        , 0.03643546],\n",
       "       [0.03643546, 1.        ]])"
      ]
     },
     "execution_count": 12,
     "metadata": {},
     "output_type": "execute_result"
    }
   ],
   "source": [
    "np.corrcoef(df['КВО_ПРДЖ_БАЗА_ШТ'].values, y)"
   ]
  },
  {
   "cell_type": "code",
   "execution_count": 13,
   "metadata": {},
   "outputs": [
    {
     "data": {
      "text/plain": [
       "array([[1.        , 0.57687704],\n",
       "       [0.57687704, 1.        ]])"
      ]
     },
     "execution_count": 13,
     "metadata": {},
     "output_type": "execute_result"
    }
   ],
   "source": [
    "np.corrcoef(df['ПРДЖ_БАЗА_СР_ШТ'].values, y)"
   ]
  },
  {
   "cell_type": "code",
   "execution_count": 14,
   "metadata": {},
   "outputs": [
    {
     "data": {
      "text/plain": [
       "array([[1.       , 0.0988474],\n",
       "       [0.0988474, 1.       ]])"
      ]
     },
     "execution_count": 14,
     "metadata": {},
     "output_type": "execute_result"
    }
   ],
   "source": [
    "np.corrcoef(df['ППП_ДЛН_Д'].values, y)"
   ]
  },
  {
   "cell_type": "code",
   "execution_count": 15,
   "metadata": {},
   "outputs": [
    {
     "data": {
      "text/plain": [
       "array([[1.        , 0.90938257],\n",
       "       [0.90938257, 1.        ]])"
      ]
     },
     "execution_count": 15,
     "metadata": {},
     "output_type": "execute_result"
    }
   ],
   "source": [
    "np.corrcoef(df['ТРБ_МАГ_КВНТ_ШТ'].values, y)"
   ]
  },
  {
   "cell_type": "code",
   "execution_count": 16,
   "metadata": {},
   "outputs": [
    {
     "data": {
      "text/plain": [
       "array([[1.        , 0.44213608],\n",
       "       [0.44213608, 1.        ]])"
      ]
     },
     "execution_count": 16,
     "metadata": {},
     "output_type": "execute_result"
    }
   ],
   "source": [
    "np.corrcoef(df['ПРДЖ_ШТ_НЕД'].values, y)"
   ]
  },
  {
   "cell_type": "code",
   "execution_count": 17,
   "metadata": {},
   "outputs": [
    {
     "data": {
      "text/plain": [
       "array([[1.        , 0.04971807],\n",
       "       [0.04971807, 1.        ]])"
      ]
     },
     "execution_count": 17,
     "metadata": {},
     "output_type": "execute_result"
    }
   ],
   "source": [
    "np.corrcoef(df['СПИС_ШТ_НЕД'].values, y)"
   ]
  },
  {
   "cell_type": "markdown",
   "metadata": {},
   "source": [
    "С y коррелируют более 0,5 следующие предикторы: ОСТ_ТЕК_ШТ, ПРДЖ_СР_ШТ_ДО, ПРДЖ_БАЗА_СР_ШТ, ТРБ_МАГ_КВНТ_ШТ.\n",
    "    Посмотрим, как эти предикторы коррелируют между собой"
   ]
  },
  {
   "cell_type": "code",
   "execution_count": 19,
   "metadata": {},
   "outputs": [
    {
     "data": {
      "text/plain": [
       "array([[1.        , 0.71652766],\n",
       "       [0.71652766, 1.        ]])"
      ]
     },
     "execution_count": 19,
     "metadata": {},
     "output_type": "execute_result"
    }
   ],
   "source": [
    "np.corrcoef(df['ОСТ_ТЕК_ШТ'].values, df['ПРДЖ_СР_ШТ_ДО'].values)"
   ]
  },
  {
   "cell_type": "code",
   "execution_count": 20,
   "metadata": {},
   "outputs": [
    {
     "data": {
      "text/plain": [
       "array([[1.        , 0.71938291],\n",
       "       [0.71938291, 1.        ]])"
      ]
     },
     "execution_count": 20,
     "metadata": {},
     "output_type": "execute_result"
    }
   ],
   "source": [
    "np.corrcoef(df['ОСТ_ТЕК_ШТ'].values, df['ПРДЖ_БАЗА_СР_ШТ'].values)"
   ]
  },
  {
   "cell_type": "code",
   "execution_count": 21,
   "metadata": {},
   "outputs": [
    {
     "data": {
      "text/plain": [
       "array([[1.        , 0.61749227],\n",
       "       [0.61749227, 1.        ]])"
      ]
     },
     "execution_count": 21,
     "metadata": {},
     "output_type": "execute_result"
    }
   ],
   "source": [
    "np.corrcoef(df['ОСТ_ТЕК_ШТ'].values, df['ТРБ_МАГ_КВНТ_ШТ'].values)"
   ]
  },
  {
   "cell_type": "code",
   "execution_count": 33,
   "metadata": {},
   "outputs": [
    {
     "data": {
      "text/plain": [
       "(659803,)"
      ]
     },
     "execution_count": 33,
     "metadata": {},
     "output_type": "execute_result"
    }
   ],
   "source": [
    "y.shape"
   ]
  },
  {
   "cell_type": "code",
   "execution_count": 34,
   "metadata": {},
   "outputs": [
    {
     "data": {
      "text/plain": [
       "array([[ 6.],\n",
       "       [12.],\n",
       "       [ 6.],\n",
       "       ...,\n",
       "       [ 6.],\n",
       "       [ 2.],\n",
       "       [ 9.]])"
      ]
     },
     "execution_count": 34,
     "metadata": {},
     "output_type": "execute_result"
    }
   ],
   "source": [
    "y = y.reshape(659803, 1)\n",
    "y"
   ]
  },
  {
   "cell_type": "code",
   "execution_count": 35,
   "metadata": {},
   "outputs": [
    {
     "data": {
      "text/plain": [
       "(659803, 1)"
      ]
     },
     "execution_count": 35,
     "metadata": {},
     "output_type": "execute_result"
    }
   ],
   "source": [
    "y.shape"
   ]
  },
  {
   "cell_type": "code",
   "execution_count": 35,
   "metadata": {},
   "outputs": [
    {
     "data": {
      "text/plain": [
       "array([[ 0.68421,  6.     ],\n",
       "       [ 0.45714, 12.     ],\n",
       "       [ 0.31428,  6.     ],\n",
       "       ...,\n",
       "       [ 0.0835 ,  3.     ],\n",
       "       [ 0.06262,  2.     ],\n",
       "       [ 0.59459,  9.     ]])"
      ]
     },
     "execution_count": 35,
     "metadata": {},
     "output_type": "execute_result"
    }
   ],
   "source": [
    "X = df.loc[:,['ПРДЖ_СР_ШТ_ДО', 'ТРБ_МАГ_КВНТ_ШТ']].values\n",
    "X"
   ]
  },
  {
   "cell_type": "code",
   "execution_count": 36,
   "metadata": {},
   "outputs": [
    {
     "data": {
      "text/plain": [
       "(659803, 2)"
      ]
     },
     "execution_count": 36,
     "metadata": {},
     "output_type": "execute_result"
    }
   ],
   "source": [
    "X.shape"
   ]
  },
  {
   "cell_type": "code",
   "execution_count": 37,
   "metadata": {},
   "outputs": [
    {
     "data": {
      "text/plain": [
       "array([[ 1.     ,  0.68421,  6.     ],\n",
       "       [ 1.     ,  0.45714, 12.     ],\n",
       "       [ 1.     ,  0.31428,  6.     ],\n",
       "       ...,\n",
       "       [ 1.     ,  0.0835 ,  3.     ],\n",
       "       [ 1.     ,  0.06262,  2.     ],\n",
       "       [ 1.     ,  0.59459,  9.     ]])"
      ]
     },
     "execution_count": 37,
     "metadata": {},
     "output_type": "execute_result"
    }
   ],
   "source": [
    "X = np.hstack([np.ones((659803, 1)), X])\n",
    "X"
   ]
  },
  {
   "cell_type": "code",
   "execution_count": 38,
   "metadata": {},
   "outputs": [
    {
     "data": {
      "text/plain": [
       "(659803, 3)"
      ]
     },
     "execution_count": 38,
     "metadata": {},
     "output_type": "execute_result"
    }
   ],
   "source": [
    "X.shape"
   ]
  },
  {
   "cell_type": "code",
   "execution_count": 39,
   "metadata": {},
   "outputs": [
    {
     "data": {
      "text/plain": [
       "array([-0.95057168,  3.01613258,  1.09870565])"
      ]
     },
     "execution_count": 39,
     "metadata": {},
     "output_type": "execute_result"
    }
   ],
   "source": [
    "B = np.dot(np.linalg.inv(np.dot(X.T, X)), X.T@y)\n",
    "B"
   ]
  },
  {
   "cell_type": "code",
   "execution_count": 40,
   "metadata": {},
   "outputs": [
    {
     "data": {
      "text/plain": [
       "(3,)"
      ]
     },
     "execution_count": 40,
     "metadata": {},
     "output_type": "execute_result"
    }
   ],
   "source": [
    "B.shape"
   ]
  },
  {
   "cell_type": "code",
   "execution_count": 41,
   "metadata": {},
   "outputs": [
    {
     "data": {
      "text/html": [
       "<div>\n",
       "<style scoped>\n",
       "    .dataframe tbody tr th:only-of-type {\n",
       "        vertical-align: middle;\n",
       "    }\n",
       "\n",
       "    .dataframe tbody tr th {\n",
       "        vertical-align: top;\n",
       "    }\n",
       "\n",
       "    .dataframe thead th {\n",
       "        text-align: right;\n",
       "    }\n",
       "</style>\n",
       "<table border=\"1\" class=\"dataframe\">\n",
       "  <thead>\n",
       "    <tr style=\"text-align: right;\">\n",
       "      <th></th>\n",
       "      <th>y</th>\n",
       "      <th>y_hat</th>\n",
       "    </tr>\n",
       "  </thead>\n",
       "  <tbody>\n",
       "    <tr>\n",
       "      <th>0</th>\n",
       "      <td>6.0</td>\n",
       "      <td>7.705330</td>\n",
       "    </tr>\n",
       "    <tr>\n",
       "      <th>1</th>\n",
       "      <td>12.0</td>\n",
       "      <td>13.612691</td>\n",
       "    </tr>\n",
       "    <tr>\n",
       "      <th>2</th>\n",
       "      <td>6.0</td>\n",
       "      <td>6.589572</td>\n",
       "    </tr>\n",
       "    <tr>\n",
       "      <th>3</th>\n",
       "      <td>10.0</td>\n",
       "      <td>10.348504</td>\n",
       "    </tr>\n",
       "    <tr>\n",
       "      <th>4</th>\n",
       "      <td>12.0</td>\n",
       "      <td>13.440319</td>\n",
       "    </tr>\n",
       "    <tr>\n",
       "      <th>5</th>\n",
       "      <td>12.0</td>\n",
       "      <td>7.537483</td>\n",
       "    </tr>\n",
       "    <tr>\n",
       "      <th>6</th>\n",
       "      <td>15.0</td>\n",
       "      <td>16.564094</td>\n",
       "    </tr>\n",
       "    <tr>\n",
       "      <th>7</th>\n",
       "      <td>6.0</td>\n",
       "      <td>2.776430</td>\n",
       "    </tr>\n",
       "    <tr>\n",
       "      <th>8</th>\n",
       "      <td>3.0</td>\n",
       "      <td>2.604058</td>\n",
       "    </tr>\n",
       "    <tr>\n",
       "      <th>9</th>\n",
       "      <td>48.0</td>\n",
       "      <td>32.484680</td>\n",
       "    </tr>\n",
       "    <tr>\n",
       "      <th>10</th>\n",
       "      <td>6.0</td>\n",
       "      <td>6.417231</td>\n",
       "    </tr>\n",
       "    <tr>\n",
       "      <th>11</th>\n",
       "      <td>3.0</td>\n",
       "      <td>0.525151</td>\n",
       "    </tr>\n",
       "    <tr>\n",
       "      <th>12</th>\n",
       "      <td>1.0</td>\n",
       "      <td>0.148134</td>\n",
       "    </tr>\n",
       "    <tr>\n",
       "      <th>13</th>\n",
       "      <td>3.0</td>\n",
       "      <td>1.488624</td>\n",
       "    </tr>\n",
       "    <tr>\n",
       "      <th>14</th>\n",
       "      <td>6.0</td>\n",
       "      <td>0.483256</td>\n",
       "    </tr>\n",
       "    <tr>\n",
       "      <th>15</th>\n",
       "      <td>1.0</td>\n",
       "      <td>0.148134</td>\n",
       "    </tr>\n",
       "    <tr>\n",
       "      <th>16</th>\n",
       "      <td>12.0</td>\n",
       "      <td>4.478332</td>\n",
       "    </tr>\n",
       "    <tr>\n",
       "      <th>17</th>\n",
       "      <td>12.0</td>\n",
       "      <td>13.267977</td>\n",
       "    </tr>\n",
       "    <tr>\n",
       "      <th>18</th>\n",
       "      <td>40.0</td>\n",
       "      <td>29.296310</td>\n",
       "    </tr>\n",
       "    <tr>\n",
       "      <th>19</th>\n",
       "      <td>15.0</td>\n",
       "      <td>7.128174</td>\n",
       "    </tr>\n",
       "  </tbody>\n",
       "</table>\n",
       "</div>"
      ],
      "text/plain": [
       "       y      y_hat\n",
       "0    6.0   7.705330\n",
       "1   12.0  13.612691\n",
       "2    6.0   6.589572\n",
       "3   10.0  10.348504\n",
       "4   12.0  13.440319\n",
       "5   12.0   7.537483\n",
       "6   15.0  16.564094\n",
       "7    6.0   2.776430\n",
       "8    3.0   2.604058\n",
       "9   48.0  32.484680\n",
       "10   6.0   6.417231\n",
       "11   3.0   0.525151\n",
       "12   1.0   0.148134\n",
       "13   3.0   1.488624\n",
       "14   6.0   0.483256\n",
       "15   1.0   0.148134\n",
       "16  12.0   4.478332\n",
       "17  12.0  13.267977\n",
       "18  40.0  29.296310\n",
       "19  15.0   7.128174"
      ]
     },
     "execution_count": 41,
     "metadata": {},
     "output_type": "execute_result"
    }
   ],
   "source": [
    "df2 = pd.DataFrame(data=y, columns=['y'])\n",
    "df2['y_hat'] = np.dot(X, B)\n",
    "df2.head(20)"
   ]
  },
  {
   "cell_type": "code",
   "execution_count": 42,
   "metadata": {},
   "outputs": [
    {
     "data": {
      "image/png": "[encoded data removed]",
      "text/plain": [
       "<Figure size 1296x864 with 1 Axes>"
      ]
     },
     "metadata": {
      "needs_background": "light"
     },
     "output_type": "display_data"
    }
   ],
   "source": [
    "from pylab import rcParams\n",
    "\n",
    "rcParams[\"figure.figsize\"] = 18, 12\n",
    "\n",
    "plt.scatter(df2.index, df2['y'])\n",
    "plt.scatter(df2.index, df2['y_hat'])\n",
    "plt.title(\"Сравнение реального количества к заказу и предсказанного\")\n",
    "plt.show()"
   ]
  },
  {
   "cell_type": "code",
   "execution_count": 43,
   "metadata": {},
   "outputs": [
    {
     "data": {
      "text/plain": [
       "218.73010407551692"
      ]
     },
     "execution_count": 43,
     "metadata": {},
     "output_type": "execute_result"
    }
   ],
   "source": [
    "mse = ((y-np.dot(X, B))**2).sum()/659803\n",
    "mse"
   ]
  },
  {
   "cell_type": "code",
   "execution_count": 44,
   "metadata": {},
   "outputs": [
    {
     "data": {
      "text/plain": [
       "58.16637593750193"
      ]
     },
     "execution_count": 44,
     "metadata": {},
     "output_type": "execute_result"
    }
   ],
   "source": [
    "A_mean = 100 * np.mean(np.abs((y - np.dot(X, B)) / y))\n",
    "A_mean"
   ]
  },
  {
   "cell_type": "markdown",
   "metadata": {},
   "source": [
    "Проверим, является ли полученная модель статистически значимой с помощью критерия Фишера. Установим уровень значимости альфа = 0,05. \n",
    "* 1) H0: модель не является статистически значимой\n",
    "* 2) H1: модель является статистически значимой"
   ]
  },
  {
   "cell_type": "code",
   "execution_count": 21,
   "metadata": {},
   "outputs": [],
   "source": [
    "n = 659803\n",
    "p = 17\n",
    "alpha = 0.05"
   ]
  },
  {
   "cell_type": "code",
   "execution_count": 22,
   "metadata": {},
   "outputs": [
    {
     "data": {
      "text/plain": [
       "16"
      ]
     },
     "execution_count": 22,
     "metadata": {},
     "output_type": "execute_result"
    }
   ],
   "source": [
    "df1 = p - 1\n",
    "df1"
   ]
  },
  {
   "cell_type": "code",
   "execution_count": 23,
   "metadata": {},
   "outputs": [
    {
     "data": {
      "text/plain": [
       "659786"
      ]
     },
     "execution_count": 23,
     "metadata": {},
     "output_type": "execute_result"
    }
   ],
   "source": [
    "df2 = n - p\n",
    "df2"
   ]
  },
  {
   "cell_type": "code",
   "execution_count": 25,
   "metadata": {},
   "outputs": [
    {
     "data": {
      "text/plain": [
       "880105113.1265177"
      ]
     },
     "execution_count": 25,
     "metadata": {},
     "output_type": "execute_result"
    }
   ],
   "source": [
    "SSf = ((np.dot(X, B) - y.mean())**2).sum()\n",
    "SSf"
   ]
  },
  {
   "cell_type": "code",
   "execution_count": 26,
   "metadata": {},
   "outputs": [
    {
     "data": {
      "text/plain": [
       "138238565.96820495"
      ]
     },
     "execution_count": 26,
     "metadata": {},
     "output_type": "execute_result"
    }
   ],
   "source": [
    "SSo = ((y-np.dot(X, B))**2).sum()\n",
    "SSo"
   ]
  },
  {
   "cell_type": "code",
   "execution_count": 27,
   "metadata": {},
   "outputs": [
    {
     "data": {
      "text/plain": [
       "55006569.57040735"
      ]
     },
     "execution_count": 27,
     "metadata": {},
     "output_type": "execute_result"
    }
   ],
   "source": [
    "MSf = SSf / df1\n",
    "MSf"
   ]
  },
  {
   "cell_type": "code",
   "execution_count": 28,
   "metadata": {},
   "outputs": [
    {
     "data": {
      "text/plain": [
       "209.5203080517091"
      ]
     },
     "execution_count": 28,
     "metadata": {},
     "output_type": "execute_result"
    }
   ],
   "source": [
    "MSo = SSo / df2\n",
    "MSo"
   ]
  },
  {
   "cell_type": "code",
   "execution_count": 29,
   "metadata": {},
   "outputs": [
    {
     "data": {
      "text/plain": [
       "262535.74215265026"
      ]
     },
     "execution_count": 29,
     "metadata": {},
     "output_type": "execute_result"
    }
   ],
   "source": [
    "Fp = MSf / MSo\n",
    "Fp"
   ]
  },
  {
   "cell_type": "code",
   "execution_count": null,
   "metadata": {},
   "outputs": [],
   "source": [
    "Ft = 1.75"
   ]
  },
  {
   "cell_type": "markdown",
   "metadata": {},
   "source": [
    "Fp > Ft модель является статистически значимой на уровне значимости альфа = 0,05"
   ]
  },
  {
   "cell_type": "code",
   "execution_count": 31,
   "metadata": {},
   "outputs": [
    {
     "name": "stderr",
     "output_type": "stream",
     "text": [
      "Enabling notebook extension jupyter-js-widgets/extension...\n",
      "      - Validating: ok\n"
     ]
    }
   ],
   "source": [
    "!pip install -U -q ipywidgets\n",
    "!jupyter nbextension enable --py widgetsnbextension"
   ]
  },
  {
   "cell_type": "code",
   "execution_count": 30,
   "metadata": {},
   "outputs": [],
   "source": [
    "import pylab\n",
    "import matplotlib.dates\n",
    "from pylab import rcParams\n",
    "\n",
    "\n",
    "import ipywidgets as widgets\n",
    "from ipywidgets import interact, interact_manual\n",
    "from IPython.display import Image, display, HTML"
   ]
  },
  {
   "cell_type": "code",
   "execution_count": 32,
   "metadata": {},
   "outputs": [],
   "source": [
    "df = pd.read_csv('Order1c_pred.csv')"
   ]
  },
  {
   "cell_type": "code",
   "execution_count": 46,
   "metadata": {},
   "outputs": [
    {
     "data": {
      "application/vnd.jupyter.widget-view+json": {
       "model_id": "7ea0cb9d2d204215b4ec51f068c787f2",
       "version_major": 2,
       "version_minor": 0
      },
      "text/plain": [
       "interactive(children=(Dropdown(description='Год заказа:', options=(2018, 2016, 2017, 2015), value=2018), Dropd…"
      ]
     },
     "metadata": {},
     "output_type": "display_data"
    }
   ],
   "source": [
    "def plot_up_to(year, goods):   \n",
    "    result = df.query(f'(КодТовара == \"{goods}\") & (ГодЗаказа == \"{year}\")')\n",
    "    xdata = result['НеделяЗаказа']\n",
    "    ydata = result['ЗКЗ_ИТГ_ШТ']\n",
    "    rcParams[\"figure.figsize\"] = 10, 8\n",
    "\n",
    "    plt.scatter(xdata,ydata)\n",
    "    plt.title('Количество к заказу товара по неделям')\n",
    "    plt.show()\n",
    "\n",
    "_ = interact(plot_up_to, year=widgets.Dropdown(options=list(df[\"ГодЗаказа\"].unique()), value=2018, description='Год заказа:'), \n",
    "             goods=widgets.Dropdown(options=list(df[\"КодТовара\"].unique()), description='Код товара:'))"
   ]
  }
 ],
 "metadata": {
  "kernelspec": {
   "display_name": "Python 3",
   "language": "python",
   "name": "python3"
  },
  "language_info": {
   "codemirror_mode": {
    "name": "ipython",
    "version": 3
   },
   "file_extension": ".py",
   "mimetype": "text/x-python",
   "name": "python",
   "nbconvert_exporter": "python",
   "pygments_lexer": "ipython3",
   "version": "3.7.5"
  }
 },
 "nbformat": 4,
 "nbformat_minor": 2
}
