{
 "cells": [
  {
   "cell_type": "markdown",
   "metadata": {},
   "source": [
    "***Тема курсового проекта: \"Спрогнозировать количество к заказу с помощью модели линейной регрессии y_hat = b0 + b1*x1 + b2*x2 + ... bn*xn матричным способом\"***"
   ]
  },
  {
   "cell_type": "markdown",
   "metadata": {},
   "source": [
    "**Описание датасета**\n",
    "\n",
    "* **НомерЗаказа**     - номер документа Автозаказ в программе 1с\n",
    "* **ГодЗаказа**       - год из поля дата документа Автозаказ\n",
    "* **МесяцЗаказа**     - месяц из поля дата документа Автозаказ\n",
    "* **ДеньЗаказа**      - день из поля дата документа Автозаказ\n",
    "* **НеделяЗаказа**    - номер недели из поля дата документа Автозаказ\n",
    "* **КодТовара**       - код товара, количество которого необходимо заказать (из табличной части документа Автозаказ)\n",
    "* **ЦЕНА_ЗКП_РУБ**    - цена закупочная в рублях\n",
    "* **СРОК_ГДН_ОСТ_Д**  - срок годности остаточный, в днях\n",
    "* **ОСТ_ТЕК_ШТ**      - текущий остаток в шт/кг\n",
    "* **ТОВ_В_ПУТ_СУМ_ШТ**- товара в пути в шт/кг\n",
    "* **ПРДЖ_СР_ШТ_ДО**   - продажи средние шт/кг\n",
    "* **КВО_ПРДЖ_БАЗА_ШТ**- продажи базовые в шт\n",
    "* **ПРДЖ_БАЗА_СР_ШТ** - продажи, базовые, средние, шт/кг\n",
    "* **ППП_ДЛН_Д**       - период покрытия продаж длительность дней\n",
    "* **ТРБ_МАГ_КВНТ_ШТ** - требование магазина, квант, шт/кг\n",
    "* **ПРДЖ_ШТ_НЕД**     - недельные продажи \n",
    "* **СПИС_ШТ_НЕД**     - недельные списания \n",
    "\n",
    "* **ЗКЗ_ИТГ_ШТ**    - количество к заказу, наша целевая переменная, которую мы будем пытаться предсказать"
   ]
  },
  {
   "cell_type": "code",
   "execution_count": 94,
   "metadata": {},
   "outputs": [],
   "source": [
    "import numpy as np\n",
    "import pandas as pd\n",
    "import matplotlib.pyplot as plt\n",
    "import seaborn as sns\n",
    "from pylab import rcParams\n",
    "%matplotlib inline"
   ]
  },
  {
   "cell_type": "code",
   "execution_count": 95,
   "metadata": {},
   "outputs": [
    {
     "data": {
      "text/html": [
       "<div>\n",
       "<style scoped>\n",
       "    .dataframe tbody tr th:only-of-type {\n",
       "        vertical-align: middle;\n",
       "    }\n",
       "\n",
       "    .dataframe tbody tr th {\n",
       "        vertical-align: top;\n",
       "    }\n",
       "\n",
       "    .dataframe thead th {\n",
       "        text-align: right;\n",
       "    }\n",
       "</style>\n",
       "<table border=\"1\" class=\"dataframe\">\n",
       "  <thead>\n",
       "    <tr style=\"text-align: right;\">\n",
       "      <th></th>\n",
       "      <th>НомерЗаказа</th>\n",
       "      <th>ГодЗаказа</th>\n",
       "      <th>МесяцЗаказа</th>\n",
       "      <th>ДеньЗаказа</th>\n",
       "      <th>НеделяЗаказа</th>\n",
       "      <th>КодТовара</th>\n",
       "      <th>ЦЕНА_ЗКП_РУБ</th>\n",
       "      <th>СРОК_ГДН_ОСТ_Д</th>\n",
       "      <th>ОСТ_ТЕК_ШТ</th>\n",
       "      <th>ТОВ_В_ПУТ_СУМ_ШТ</th>\n",
       "      <th>ПРДЖ_СР_ШТ_ДО</th>\n",
       "      <th>КВО_ПРДЖ_БАЗА_ШТ</th>\n",
       "      <th>ПРДЖ_БАЗА_СР_ШТ</th>\n",
       "      <th>ППП_ДЛН_Д</th>\n",
       "      <th>ТРБ_МАГ_КВНТ_ШТ</th>\n",
       "      <th>ПРДЖ_ШТ_НЕД</th>\n",
       "      <th>СПИС_ШТ_НЕД</th>\n",
       "      <th>ЗКЗ_ИТГ_ШТ</th>\n",
       "    </tr>\n",
       "  </thead>\n",
       "  <tbody>\n",
       "    <tr>\n",
       "      <th>0</th>\n",
       "      <td>M3300009893</td>\n",
       "      <td>2018</td>\n",
       "      <td>4</td>\n",
       "      <td>24</td>\n",
       "      <td>17</td>\n",
       "      <td>389 965</td>\n",
       "      <td>67.85</td>\n",
       "      <td>245</td>\n",
       "      <td>21.0</td>\n",
       "      <td>0.0</td>\n",
       "      <td>0.68421</td>\n",
       "      <td>3</td>\n",
       "      <td>5.50612</td>\n",
       "      <td>14</td>\n",
       "      <td>6.0</td>\n",
       "      <td>2.0</td>\n",
       "      <td>0.0</td>\n",
       "      <td>6.0</td>\n",
       "    </tr>\n",
       "    <tr>\n",
       "      <th>1</th>\n",
       "      <td>M3300009893</td>\n",
       "      <td>2018</td>\n",
       "      <td>4</td>\n",
       "      <td>24</td>\n",
       "      <td>17</td>\n",
       "      <td>389 970</td>\n",
       "      <td>36.03</td>\n",
       "      <td>245</td>\n",
       "      <td>14.0</td>\n",
       "      <td>0.0</td>\n",
       "      <td>0.45714</td>\n",
       "      <td>5</td>\n",
       "      <td>3.28168</td>\n",
       "      <td>14</td>\n",
       "      <td>12.0</td>\n",
       "      <td>3.0</td>\n",
       "      <td>0.0</td>\n",
       "      <td>12.0</td>\n",
       "    </tr>\n",
       "    <tr>\n",
       "      <th>2</th>\n",
       "      <td>M3300009893</td>\n",
       "      <td>2018</td>\n",
       "      <td>4</td>\n",
       "      <td>24</td>\n",
       "      <td>17</td>\n",
       "      <td>366 976</td>\n",
       "      <td>30.54</td>\n",
       "      <td>482</td>\n",
       "      <td>12.0</td>\n",
       "      <td>0.0</td>\n",
       "      <td>0.31428</td>\n",
       "      <td>5</td>\n",
       "      <td>2.20001</td>\n",
       "      <td>14</td>\n",
       "      <td>6.0</td>\n",
       "      <td>0.0</td>\n",
       "      <td>0.0</td>\n",
       "      <td>6.0</td>\n",
       "    </tr>\n",
       "    <tr>\n",
       "      <th>3</th>\n",
       "      <td>M3300009893</td>\n",
       "      <td>2018</td>\n",
       "      <td>4</td>\n",
       "      <td>24</td>\n",
       "      <td>17</td>\n",
       "      <td>367 448</td>\n",
       "      <td>46.40</td>\n",
       "      <td>241</td>\n",
       "      <td>11.0</td>\n",
       "      <td>0.0</td>\n",
       "      <td>0.10345</td>\n",
       "      <td>4</td>\n",
       "      <td>0.79365</td>\n",
       "      <td>14</td>\n",
       "      <td>10.0</td>\n",
       "      <td>0.0</td>\n",
       "      <td>1.0</td>\n",
       "      <td>10.0</td>\n",
       "    </tr>\n",
       "    <tr>\n",
       "      <th>4</th>\n",
       "      <td>M3300009893</td>\n",
       "      <td>2018</td>\n",
       "      <td>4</td>\n",
       "      <td>24</td>\n",
       "      <td>17</td>\n",
       "      <td>260 461</td>\n",
       "      <td>50.92</td>\n",
       "      <td>245</td>\n",
       "      <td>12.0</td>\n",
       "      <td>0.0</td>\n",
       "      <td>0.39999</td>\n",
       "      <td>5</td>\n",
       "      <td>2.62693</td>\n",
       "      <td>14</td>\n",
       "      <td>12.0</td>\n",
       "      <td>4.0</td>\n",
       "      <td>0.0</td>\n",
       "      <td>12.0</td>\n",
       "    </tr>\n",
       "  </tbody>\n",
       "</table>\n",
       "</div>"
      ],
      "text/plain": [
       "   НомерЗаказа  ГодЗаказа  МесяцЗаказа  ДеньЗаказа  НеделяЗаказа КодТовара  \\\n",
       "0  M3300009893       2018            4          24            17   389 965   \n",
       "1  M3300009893       2018            4          24            17   389 970   \n",
       "2  M3300009893       2018            4          24            17   366 976   \n",
       "3  M3300009893       2018            4          24            17   367 448   \n",
       "4  M3300009893       2018            4          24            17   260 461   \n",
       "\n",
       "   ЦЕНА_ЗКП_РУБ  СРОК_ГДН_ОСТ_Д  ОСТ_ТЕК_ШТ  ТОВ_В_ПУТ_СУМ_ШТ  ПРДЖ_СР_ШТ_ДО  \\\n",
       "0         67.85             245        21.0               0.0        0.68421   \n",
       "1         36.03             245        14.0               0.0        0.45714   \n",
       "2         30.54             482        12.0               0.0        0.31428   \n",
       "3         46.40             241        11.0               0.0        0.10345   \n",
       "4         50.92             245        12.0               0.0        0.39999   \n",
       "\n",
       "   КВО_ПРДЖ_БАЗА_ШТ  ПРДЖ_БАЗА_СР_ШТ  ППП_ДЛН_Д  ТРБ_МАГ_КВНТ_ШТ  ПРДЖ_ШТ_НЕД  \\\n",
       "0                 3          5.50612         14              6.0          2.0   \n",
       "1                 5          3.28168         14             12.0          3.0   \n",
       "2                 5          2.20001         14              6.0          0.0   \n",
       "3                 4          0.79365         14             10.0          0.0   \n",
       "4                 5          2.62693         14             12.0          4.0   \n",
       "\n",
       "   СПИС_ШТ_НЕД  ЗКЗ_ИТГ_ШТ  \n",
       "0          0.0         6.0  \n",
       "1          0.0        12.0  \n",
       "2          0.0         6.0  \n",
       "3          1.0        10.0  \n",
       "4          0.0        12.0  "
      ]
     },
     "execution_count": 95,
     "metadata": {},
     "output_type": "execute_result"
    }
   ],
   "source": [
    "df = pd.read_csv('Order1c_pred.csv')\n",
    "df.head()"
   ]
  },
  {
   "cell_type": "code",
   "execution_count": 96,
   "metadata": {},
   "outputs": [
    {
     "name": "stdout",
     "output_type": "stream",
     "text": [
      "<class 'pandas.core.frame.DataFrame'>\n",
      "RangeIndex: 659803 entries, 0 to 659802\n",
      "Data columns (total 18 columns):\n",
      "НомерЗаказа         659803 non-null object\n",
      "ГодЗаказа           659803 non-null int64\n",
      "МесяцЗаказа         659803 non-null int64\n",
      "ДеньЗаказа          659803 non-null int64\n",
      "НеделяЗаказа        659803 non-null int64\n",
      "КодТовара           659803 non-null object\n",
      "ЦЕНА_ЗКП_РУБ        659803 non-null float64\n",
      "СРОК_ГДН_ОСТ_Д      659803 non-null int64\n",
      "ОСТ_ТЕК_ШТ          659803 non-null float64\n",
      "ТОВ_В_ПУТ_СУМ_ШТ    659803 non-null float64\n",
      "ПРДЖ_СР_ШТ_ДО       659803 non-null float64\n",
      "КВО_ПРДЖ_БАЗА_ШТ    659803 non-null int64\n",
      "ПРДЖ_БАЗА_СР_ШТ     659803 non-null float64\n",
      "ППП_ДЛН_Д           659803 non-null int64\n",
      "ТРБ_МАГ_КВНТ_ШТ     659803 non-null float64\n",
      "ПРДЖ_ШТ_НЕД         659803 non-null float64\n",
      "СПИС_ШТ_НЕД         659803 non-null float64\n",
      "ЗКЗ_ИТГ_ШТ          659803 non-null float64\n",
      "dtypes: float64(9), int64(7), object(2)\n",
      "memory usage: 90.6+ MB\n"
     ]
    }
   ],
   "source": [
    "df.info()"
   ]
  },
  {
   "cell_type": "code",
   "execution_count": 97,
   "metadata": {},
   "outputs": [
    {
     "data": {
      "text/plain": [
       "84 566     1021\n",
       "84 560     1012\n",
       "33 793     1011\n",
       "85 009     1010\n",
       "214 116     996\n",
       "84 555      990\n",
       "33 791      986\n",
       "264 169     983\n",
       "257 047     979\n",
       "84 543      976\n",
       "181 135     969\n",
       "84 545      949\n",
       "84 582      948\n",
       "165 893     940\n",
       "84 724      936\n",
       "84 715      903\n",
       "84 578      901\n",
       "84 580      894\n",
       "165 894     882\n",
       "33 790      868\n",
       "84 557      862\n",
       "7 822       859\n",
       "148 863     843\n",
       "84 554      838\n",
       "110 356     838\n",
       "84 602      835\n",
       "236 668     825\n",
       "124 634     822\n",
       "124 637     822\n",
       "236 667     805\n",
       "           ... \n",
       "331 049       1\n",
       "3 877         1\n",
       "338 193       1\n",
       "273 140       1\n",
       "407 375       1\n",
       "329 109       1\n",
       "260 744       1\n",
       "312 443       1\n",
       "395 865       1\n",
       "280 252       1\n",
       "326 985       1\n",
       "93 039        1\n",
       "410 903       1\n",
       "323 872       1\n",
       "409 457       1\n",
       "326 104       1\n",
       "326 103       1\n",
       "185 653       1\n",
       "225 928       1\n",
       "384 201       1\n",
       "50 289        1\n",
       "311 871       1\n",
       "314 388       1\n",
       "271 584       1\n",
       "310 788       1\n",
       "80 207        1\n",
       "269 581       1\n",
       "182 398       1\n",
       "229 012       1\n",
       "309 428       1\n",
       "Name: КодТовара, Length: 13508, dtype: int64"
      ]
     },
     "execution_count": 97,
     "metadata": {},
     "output_type": "execute_result"
    }
   ],
   "source": [
    "df['КодТовара'].value_counts()"
   ]
  },
  {
   "cell_type": "code",
   "execution_count": 98,
   "metadata": {},
   "outputs": [
    {
     "data": {
      "text/html": [
       "<div>\n",
       "<style scoped>\n",
       "    .dataframe tbody tr th:only-of-type {\n",
       "        vertical-align: middle;\n",
       "    }\n",
       "\n",
       "    .dataframe tbody tr th {\n",
       "        vertical-align: top;\n",
       "    }\n",
       "\n",
       "    .dataframe thead th {\n",
       "        text-align: right;\n",
       "    }\n",
       "</style>\n",
       "<table border=\"1\" class=\"dataframe\">\n",
       "  <thead>\n",
       "    <tr style=\"text-align: right;\">\n",
       "      <th></th>\n",
       "      <th>НомерЗаказа</th>\n",
       "      <th>НеделяЗаказа</th>\n",
       "      <th>КодТовара</th>\n",
       "      <th>ЦЕНА_ЗКП_РУБ</th>\n",
       "      <th>СРОК_ГДН_ОСТ_Д</th>\n",
       "      <th>ОСТ_ТЕК_ШТ</th>\n",
       "      <th>ТОВ_В_ПУТ_СУМ_ШТ</th>\n",
       "      <th>ПРДЖ_СР_ШТ_ДО</th>\n",
       "      <th>КВО_ПРДЖ_БАЗА_ШТ</th>\n",
       "      <th>ПРДЖ_БАЗА_СР_ШТ</th>\n",
       "      <th>ППП_ДЛН_Д</th>\n",
       "      <th>ТРБ_МАГ_КВНТ_ШТ</th>\n",
       "      <th>ПРДЖ_ШТ_НЕД</th>\n",
       "      <th>СПИС_ШТ_НЕД</th>\n",
       "      <th>ЗКЗ_ИТГ_ШТ</th>\n",
       "    </tr>\n",
       "    <tr>\n",
       "      <th>ДатаЗаказа</th>\n",
       "      <th></th>\n",
       "      <th></th>\n",
       "      <th></th>\n",
       "      <th></th>\n",
       "      <th></th>\n",
       "      <th></th>\n",
       "      <th></th>\n",
       "      <th></th>\n",
       "      <th></th>\n",
       "      <th></th>\n",
       "      <th></th>\n",
       "      <th></th>\n",
       "      <th></th>\n",
       "      <th></th>\n",
       "      <th></th>\n",
       "    </tr>\n",
       "  </thead>\n",
       "  <tbody>\n",
       "    <tr>\n",
       "      <th>2015-12-17</th>\n",
       "      <td>М3300013749</td>\n",
       "      <td>51</td>\n",
       "      <td>33793</td>\n",
       "      <td>22.5</td>\n",
       "      <td>2</td>\n",
       "      <td>0.0</td>\n",
       "      <td>10.0</td>\n",
       "      <td>14.00000</td>\n",
       "      <td>0</td>\n",
       "      <td>98.0</td>\n",
       "      <td>1</td>\n",
       "      <td>1.0</td>\n",
       "      <td>0.0</td>\n",
       "      <td>0.0</td>\n",
       "      <td>26.0</td>\n",
       "    </tr>\n",
       "    <tr>\n",
       "      <th>2015-12-18</th>\n",
       "      <td>М3300013819</td>\n",
       "      <td>51</td>\n",
       "      <td>33793</td>\n",
       "      <td>22.5</td>\n",
       "      <td>2</td>\n",
       "      <td>7.0</td>\n",
       "      <td>14.0</td>\n",
       "      <td>14.00000</td>\n",
       "      <td>0</td>\n",
       "      <td>98.0</td>\n",
       "      <td>1</td>\n",
       "      <td>1.0</td>\n",
       "      <td>0.0</td>\n",
       "      <td>0.0</td>\n",
       "      <td>19.0</td>\n",
       "    </tr>\n",
       "    <tr>\n",
       "      <th>2015-12-19</th>\n",
       "      <td>М3300013878</td>\n",
       "      <td>51</td>\n",
       "      <td>33793</td>\n",
       "      <td>22.5</td>\n",
       "      <td>2</td>\n",
       "      <td>10.0</td>\n",
       "      <td>6.0</td>\n",
       "      <td>12.50000</td>\n",
       "      <td>0</td>\n",
       "      <td>98.0</td>\n",
       "      <td>1</td>\n",
       "      <td>1.0</td>\n",
       "      <td>0.0</td>\n",
       "      <td>0.0</td>\n",
       "      <td>23.0</td>\n",
       "    </tr>\n",
       "    <tr>\n",
       "      <th>2015-12-20</th>\n",
       "      <td>М3300013889</td>\n",
       "      <td>51</td>\n",
       "      <td>33793</td>\n",
       "      <td>22.5</td>\n",
       "      <td>2</td>\n",
       "      <td>3.0</td>\n",
       "      <td>10.0</td>\n",
       "      <td>12.66667</td>\n",
       "      <td>0</td>\n",
       "      <td>98.0</td>\n",
       "      <td>1</td>\n",
       "      <td>1.0</td>\n",
       "      <td>0.0</td>\n",
       "      <td>0.0</td>\n",
       "      <td>25.0</td>\n",
       "    </tr>\n",
       "    <tr>\n",
       "      <th>2015-12-21</th>\n",
       "      <td>М3300013916</td>\n",
       "      <td>52</td>\n",
       "      <td>33793</td>\n",
       "      <td>22.5</td>\n",
       "      <td>2</td>\n",
       "      <td>2.0</td>\n",
       "      <td>10.0</td>\n",
       "      <td>12.25000</td>\n",
       "      <td>0</td>\n",
       "      <td>98.0</td>\n",
       "      <td>1</td>\n",
       "      <td>1.0</td>\n",
       "      <td>0.0</td>\n",
       "      <td>0.0</td>\n",
       "      <td>26.0</td>\n",
       "    </tr>\n",
       "  </tbody>\n",
       "</table>\n",
       "</div>"
      ],
      "text/plain": [
       "            НомерЗаказа  НеделяЗаказа КодТовара  ЦЕНА_ЗКП_РУБ  СРОК_ГДН_ОСТ_Д  \\\n",
       "ДатаЗаказа                                                                      \n",
       "2015-12-17  М3300013749            51     33793          22.5               2   \n",
       "2015-12-18  М3300013819            51     33793          22.5               2   \n",
       "2015-12-19  М3300013878            51     33793          22.5               2   \n",
       "2015-12-20  М3300013889            51     33793          22.5               2   \n",
       "2015-12-21  М3300013916            52     33793          22.5               2   \n",
       "\n",
       "            ОСТ_ТЕК_ШТ  ТОВ_В_ПУТ_СУМ_ШТ  ПРДЖ_СР_ШТ_ДО  КВО_ПРДЖ_БАЗА_ШТ  \\\n",
       "ДатаЗаказа                                                                  \n",
       "2015-12-17         0.0              10.0       14.00000                 0   \n",
       "2015-12-18         7.0              14.0       14.00000                 0   \n",
       "2015-12-19        10.0               6.0       12.50000                 0   \n",
       "2015-12-20         3.0              10.0       12.66667                 0   \n",
       "2015-12-21         2.0              10.0       12.25000                 0   \n",
       "\n",
       "            ПРДЖ_БАЗА_СР_ШТ  ППП_ДЛН_Д  ТРБ_МАГ_КВНТ_ШТ  ПРДЖ_ШТ_НЕД  \\\n",
       "ДатаЗаказа                                                             \n",
       "2015-12-17             98.0          1              1.0          0.0   \n",
       "2015-12-18             98.0          1              1.0          0.0   \n",
       "2015-12-19             98.0          1              1.0          0.0   \n",
       "2015-12-20             98.0          1              1.0          0.0   \n",
       "2015-12-21             98.0          1              1.0          0.0   \n",
       "\n",
       "            СПИС_ШТ_НЕД  ЗКЗ_ИТГ_ШТ  \n",
       "ДатаЗаказа                           \n",
       "2015-12-17          0.0        26.0  \n",
       "2015-12-18          0.0        19.0  \n",
       "2015-12-19          0.0        23.0  \n",
       "2015-12-20          0.0        25.0  \n",
       "2015-12-21          0.0        26.0  "
      ]
     },
     "execution_count": 98,
     "metadata": {},
     "output_type": "execute_result"
    }
   ],
   "source": [
    "df['КодТовара'] = df['КодТовара'].str.replace('\\s', '')\n",
    "df_filter = df['КодТовара'].isin([\"33793\"])\n",
    "df = df[df_filter]\n",
    "col_date = pd.to_datetime([f'{y}-{m}-{d}' for y, m, d in zip(df['ГодЗаказа'], df['МесяцЗаказа'], df['ДеньЗаказа'])])\n",
    "df.index = col_date\n",
    "df.drop(\"ГодЗаказа\", axis=1, inplace=True)\n",
    "df.drop(\"МесяцЗаказа\", axis=1, inplace=True)\n",
    "df.drop(\"ДеньЗаказа\", axis=1, inplace=True)\n",
    "df = df.rename_axis('ДатаЗаказа').sort_values(by = 'ДатаЗаказа', ascending = True)\n",
    "df.head()"
   ]
  },
  {
   "cell_type": "code",
   "execution_count": 99,
   "metadata": {},
   "outputs": [
    {
     "data": {
      "text/plain": [
       "ДатаЗаказа\n",
       "2015-12-17    0\n",
       "2015-12-18    0\n",
       "2015-12-19    0\n",
       "2015-12-20    0\n",
       "2015-12-21    0\n",
       "Name: КВО_ПРДЖ_БАЗА_ШТ, dtype: int64"
      ]
     },
     "execution_count": 99,
     "metadata": {},
     "output_type": "execute_result"
    }
   ],
   "source": [
    "zak = df['КВО_ПРДЖ_БАЗА_ШТ']\n",
    "zak.head()"
   ]
  },
  {
   "cell_type": "code",
   "execution_count": 100,
   "metadata": {},
   "outputs": [
    {
     "data": {
      "text/plain": [
       "<matplotlib.axes._subplots.AxesSubplot at 0x23ac2289bc8>"
      ]
     },
     "execution_count": 100,
     "metadata": {},
     "output_type": "execute_result"
    },
    {
     "data": {
      "image/png": "[encoded data removed]",
      "text/plain": [
       "<Figure size 864x432 with 1 Axes>"
      ]
     },
     "metadata": {
      "needs_background": "light"
     },
     "output_type": "display_data"
    }
   ],
   "source": [
    "zak.plot(figsize=(12,6))"
   ]
  },
  {
   "cell_type": "code",
   "execution_count": 101,
   "metadata": {},
   "outputs": [
    {
     "data": {
      "text/plain": [
       "<matplotlib.axes._subplots.AxesSubplot at 0x23ac2002748>"
      ]
     },
     "execution_count": 101,
     "metadata": {},
     "output_type": "execute_result"
    },
    {
     "data": {
      "image/png": "[encoded data removed]",
      "text/plain": [
       "<Figure size 864x432 with 1 Axes>"
      ]
     },
     "metadata": {
      "needs_background": "light"
     },
     "output_type": "display_data"
    }
   ],
   "source": [
    "zak = zak.resample('W').mean()\n",
    "zak.plot(figsize=(12,6))"
   ]
  },
  {
   "cell_type": "code",
   "execution_count": 102,
   "metadata": {},
   "outputs": [
    {
     "data": {
      "text/plain": [
       "count    150.000000\n",
       "mean       2.228000\n",
       "std        2.001523\n",
       "min        0.000000\n",
       "25%        0.000000\n",
       "50%        2.000000\n",
       "75%        3.678571\n",
       "max        6.000000\n",
       "Name: КВО_ПРДЖ_БАЗА_ШТ, dtype: float64"
      ]
     },
     "execution_count": 102,
     "metadata": {},
     "output_type": "execute_result"
    },
    {
     "data": {
      "image/png": "[encoded data removed]",
      "text/plain": [
       "<Figure size 432x288 with 1 Axes>"
      ]
     },
     "metadata": {
      "needs_background": "light"
     },
     "output_type": "display_data"
    }
   ],
   "source": [
    "itog = zak.describe()\n",
    "zak.hist()\n",
    "itog"
   ]
  },
  {
   "cell_type": "code",
   "execution_count": 103,
   "metadata": {
    "scrolled": true
   },
   "outputs": [
    {
     "data": {
      "text/html": [
       "<div>\n",
       "<style scoped>\n",
       "    .dataframe tbody tr th:only-of-type {\n",
       "        vertical-align: middle;\n",
       "    }\n",
       "\n",
       "    .dataframe tbody tr th {\n",
       "        vertical-align: top;\n",
       "    }\n",
       "\n",
       "    .dataframe thead th {\n",
       "        text-align: right;\n",
       "    }\n",
       "</style>\n",
       "<table border=\"1\" class=\"dataframe\">\n",
       "  <thead>\n",
       "    <tr style=\"text-align: right;\">\n",
       "      <th></th>\n",
       "      <th>НеделяЗаказа</th>\n",
       "      <th>ЦЕНА_ЗКП_РУБ</th>\n",
       "      <th>СРОК_ГДН_ОСТ_Д</th>\n",
       "      <th>ОСТ_ТЕК_ШТ</th>\n",
       "      <th>ТОВ_В_ПУТ_СУМ_ШТ</th>\n",
       "      <th>ПРДЖ_СР_ШТ_ДО</th>\n",
       "      <th>КВО_ПРДЖ_БАЗА_ШТ</th>\n",
       "      <th>ПРДЖ_БАЗА_СР_ШТ</th>\n",
       "      <th>ППП_ДЛН_Д</th>\n",
       "      <th>ТРБ_МАГ_КВНТ_ШТ</th>\n",
       "      <th>ПРДЖ_ШТ_НЕД</th>\n",
       "      <th>СПИС_ШТ_НЕД</th>\n",
       "      <th>ЗКЗ_ИТГ_ШТ</th>\n",
       "    </tr>\n",
       "    <tr>\n",
       "      <th>ДатаЗаказа</th>\n",
       "      <th></th>\n",
       "      <th></th>\n",
       "      <th></th>\n",
       "      <th></th>\n",
       "      <th></th>\n",
       "      <th></th>\n",
       "      <th></th>\n",
       "      <th></th>\n",
       "      <th></th>\n",
       "      <th></th>\n",
       "      <th></th>\n",
       "      <th></th>\n",
       "      <th></th>\n",
       "    </tr>\n",
       "  </thead>\n",
       "  <tbody>\n",
       "    <tr>\n",
       "      <th>2015-12-17</th>\n",
       "      <td>51</td>\n",
       "      <td>22.5</td>\n",
       "      <td>2</td>\n",
       "      <td>0.0</td>\n",
       "      <td>10.0</td>\n",
       "      <td>14.00000</td>\n",
       "      <td>0</td>\n",
       "      <td>98.0</td>\n",
       "      <td>1</td>\n",
       "      <td>1.0</td>\n",
       "      <td>0.0</td>\n",
       "      <td>0.0</td>\n",
       "      <td>26.0</td>\n",
       "    </tr>\n",
       "    <tr>\n",
       "      <th>2015-12-18</th>\n",
       "      <td>51</td>\n",
       "      <td>22.5</td>\n",
       "      <td>2</td>\n",
       "      <td>7.0</td>\n",
       "      <td>14.0</td>\n",
       "      <td>14.00000</td>\n",
       "      <td>0</td>\n",
       "      <td>98.0</td>\n",
       "      <td>1</td>\n",
       "      <td>1.0</td>\n",
       "      <td>0.0</td>\n",
       "      <td>0.0</td>\n",
       "      <td>19.0</td>\n",
       "    </tr>\n",
       "    <tr>\n",
       "      <th>2015-12-19</th>\n",
       "      <td>51</td>\n",
       "      <td>22.5</td>\n",
       "      <td>2</td>\n",
       "      <td>10.0</td>\n",
       "      <td>6.0</td>\n",
       "      <td>12.50000</td>\n",
       "      <td>0</td>\n",
       "      <td>98.0</td>\n",
       "      <td>1</td>\n",
       "      <td>1.0</td>\n",
       "      <td>0.0</td>\n",
       "      <td>0.0</td>\n",
       "      <td>23.0</td>\n",
       "    </tr>\n",
       "    <tr>\n",
       "      <th>2015-12-20</th>\n",
       "      <td>51</td>\n",
       "      <td>22.5</td>\n",
       "      <td>2</td>\n",
       "      <td>3.0</td>\n",
       "      <td>10.0</td>\n",
       "      <td>12.66667</td>\n",
       "      <td>0</td>\n",
       "      <td>98.0</td>\n",
       "      <td>1</td>\n",
       "      <td>1.0</td>\n",
       "      <td>0.0</td>\n",
       "      <td>0.0</td>\n",
       "      <td>25.0</td>\n",
       "    </tr>\n",
       "    <tr>\n",
       "      <th>2015-12-21</th>\n",
       "      <td>52</td>\n",
       "      <td>22.5</td>\n",
       "      <td>2</td>\n",
       "      <td>2.0</td>\n",
       "      <td>10.0</td>\n",
       "      <td>12.25000</td>\n",
       "      <td>0</td>\n",
       "      <td>98.0</td>\n",
       "      <td>1</td>\n",
       "      <td>1.0</td>\n",
       "      <td>0.0</td>\n",
       "      <td>0.0</td>\n",
       "      <td>26.0</td>\n",
       "    </tr>\n",
       "  </tbody>\n",
       "</table>\n",
       "</div>"
      ],
      "text/plain": [
       "            НеделяЗаказа  ЦЕНА_ЗКП_РУБ  СРОК_ГДН_ОСТ_Д  ОСТ_ТЕК_ШТ  \\\n",
       "ДатаЗаказа                                                           \n",
       "2015-12-17            51          22.5               2         0.0   \n",
       "2015-12-18            51          22.5               2         7.0   \n",
       "2015-12-19            51          22.5               2        10.0   \n",
       "2015-12-20            51          22.5               2         3.0   \n",
       "2015-12-21            52          22.5               2         2.0   \n",
       "\n",
       "            ТОВ_В_ПУТ_СУМ_ШТ  ПРДЖ_СР_ШТ_ДО  КВО_ПРДЖ_БАЗА_ШТ  \\\n",
       "ДатаЗаказа                                                      \n",
       "2015-12-17              10.0       14.00000                 0   \n",
       "2015-12-18              14.0       14.00000                 0   \n",
       "2015-12-19               6.0       12.50000                 0   \n",
       "2015-12-20              10.0       12.66667                 0   \n",
       "2015-12-21              10.0       12.25000                 0   \n",
       "\n",
       "            ПРДЖ_БАЗА_СР_ШТ  ППП_ДЛН_Д  ТРБ_МАГ_КВНТ_ШТ  ПРДЖ_ШТ_НЕД  \\\n",
       "ДатаЗаказа                                                             \n",
       "2015-12-17             98.0          1              1.0          0.0   \n",
       "2015-12-18             98.0          1              1.0          0.0   \n",
       "2015-12-19             98.0          1              1.0          0.0   \n",
       "2015-12-20             98.0          1              1.0          0.0   \n",
       "2015-12-21             98.0          1              1.0          0.0   \n",
       "\n",
       "            СПИС_ШТ_НЕД  ЗКЗ_ИТГ_ШТ  \n",
       "ДатаЗаказа                           \n",
       "2015-12-17          0.0        26.0  \n",
       "2015-12-18          0.0        19.0  \n",
       "2015-12-19          0.0        23.0  \n",
       "2015-12-20          0.0        25.0  \n",
       "2015-12-21          0.0        26.0  "
      ]
     },
     "execution_count": 103,
     "metadata": {},
     "output_type": "execute_result"
    }
   ],
   "source": [
    "df = df.select_dtypes(include = ['float64', 'int64'])\n",
    "df.head()"
   ]
  },
  {
   "cell_type": "markdown",
   "metadata": {},
   "source": [
    "Посмотрите, какие предикторы коррелируют с игреком, а какие нет. Оставить, которые коррелируют. Также уберите те предикторы, которые коррелируют c теми, что в модель включены. "
   ]
  },
  {
   "cell_type": "code",
   "execution_count": 104,
   "metadata": {},
   "outputs": [
    {
     "data": {
      "text/plain": [
       "array([26., 19., 23., ...,  2.,  1.,  2.])"
      ]
     },
     "execution_count": 104,
     "metadata": {},
     "output_type": "execute_result"
    }
   ],
   "source": [
    "y = df['ЗКЗ_ИТГ_ШТ'].values\n",
    "y"
   ]
  },
  {
   "cell_type": "code",
   "execution_count": 105,
   "metadata": {},
   "outputs": [
    {
     "data": {
      "text/plain": [
       "array([[ 1.       , -0.3836583],\n",
       "       [-0.3836583,  1.       ]])"
      ]
     },
     "execution_count": 105,
     "metadata": {},
     "output_type": "execute_result"
    }
   ],
   "source": [
    "np.corrcoef(df['ЦЕНА_ЗКП_РУБ'].values, y)"
   ]
  },
  {
   "cell_type": "code",
   "execution_count": 106,
   "metadata": {},
   "outputs": [
    {
     "data": {
      "text/plain": [
       "array([[1.       , 0.2171023],\n",
       "       [0.2171023, 1.       ]])"
      ]
     },
     "execution_count": 106,
     "metadata": {},
     "output_type": "execute_result"
    }
   ],
   "source": [
    "np.corrcoef(df['СРОК_ГДН_ОСТ_Д'].values, y)"
   ]
  },
  {
   "cell_type": "code",
   "execution_count": 107,
   "metadata": {},
   "outputs": [
    {
     "data": {
      "text/plain": [
       "array([[ 1.        , -0.15597473],\n",
       "       [-0.15597473,  1.        ]])"
      ]
     },
     "execution_count": 107,
     "metadata": {},
     "output_type": "execute_result"
    }
   ],
   "source": [
    "np.corrcoef(df['ОСТ_ТЕК_ШТ'].values, y)"
   ]
  },
  {
   "cell_type": "code",
   "execution_count": 108,
   "metadata": {},
   "outputs": [
    {
     "data": {
      "text/plain": [
       "array([[1.        , 0.56814163],\n",
       "       [0.56814163, 1.        ]])"
      ]
     },
     "execution_count": 108,
     "metadata": {},
     "output_type": "execute_result"
    }
   ],
   "source": [
    "np.corrcoef(df['ПРДЖ_СР_ШТ_ДО'].values, y)"
   ]
  },
  {
   "cell_type": "code",
   "execution_count": 109,
   "metadata": {},
   "outputs": [
    {
     "data": {
      "text/plain": [
       "array([[1.       , 0.3108419],\n",
       "       [0.3108419, 1.       ]])"
      ]
     },
     "execution_count": 109,
     "metadata": {},
     "output_type": "execute_result"
    }
   ],
   "source": [
    "np.corrcoef(df['КВО_ПРДЖ_БАЗА_ШТ'].values, y)"
   ]
  },
  {
   "cell_type": "code",
   "execution_count": 117,
   "metadata": {},
   "outputs": [
    {
     "data": {
      "text/plain": [
       "array([[1.        , 0.68333793],\n",
       "       [0.68333793, 1.        ]])"
      ]
     },
     "execution_count": 117,
     "metadata": {},
     "output_type": "execute_result"
    }
   ],
   "source": [
    "np.corrcoef(df['ПРДЖ_БАЗА_СР_ШТ'].values, y)"
   ]
  },
  {
   "cell_type": "code",
   "execution_count": 118,
   "metadata": {},
   "outputs": [
    {
     "data": {
      "text/plain": [
       "array([[1.        , 0.04545636],\n",
       "       [0.04545636, 1.        ]])"
      ]
     },
     "execution_count": 118,
     "metadata": {},
     "output_type": "execute_result"
    }
   ],
   "source": [
    "np.corrcoef(df['ППП_ДЛН_Д'].values, y)"
   ]
  },
  {
   "cell_type": "code",
   "execution_count": 119,
   "metadata": {},
   "outputs": [
    {
     "data": {
      "text/plain": [
       "1.0    1011\n",
       "Name: ТРБ_МАГ_КВНТ_ШТ, dtype: int64"
      ]
     },
     "execution_count": 119,
     "metadata": {},
     "output_type": "execute_result"
    }
   ],
   "source": [
    "df['ТРБ_МАГ_КВНТ_ШТ'].value_counts()"
   ]
  },
  {
   "cell_type": "code",
   "execution_count": 120,
   "metadata": {},
   "outputs": [
    {
     "data": {
      "text/plain": [
       "array([[nan, nan],\n",
       "       [nan,  1.]])"
      ]
     },
     "execution_count": 120,
     "metadata": {},
     "output_type": "execute_result"
    }
   ],
   "source": [
    "np.corrcoef(df['ТРБ_МАГ_КВНТ_ШТ'].values, y)"
   ]
  },
  {
   "cell_type": "code",
   "execution_count": 121,
   "metadata": {},
   "outputs": [
    {
     "data": {
      "text/plain": [
       "array([[1.        , 0.27519703],\n",
       "       [0.27519703, 1.        ]])"
      ]
     },
     "execution_count": 121,
     "metadata": {},
     "output_type": "execute_result"
    }
   ],
   "source": [
    "np.corrcoef(df['ПРДЖ_ШТ_НЕД'].values, y)"
   ]
  },
  {
   "cell_type": "code",
   "execution_count": 122,
   "metadata": {},
   "outputs": [
    {
     "data": {
      "text/plain": [
       "array([[1.        , 0.17393109],\n",
       "       [0.17393109, 1.        ]])"
      ]
     },
     "execution_count": 122,
     "metadata": {},
     "output_type": "execute_result"
    }
   ],
   "source": [
    "np.corrcoef(df['СПИС_ШТ_НЕД'].values, y)"
   ]
  },
  {
   "cell_type": "code",
   "execution_count": 123,
   "metadata": {},
   "outputs": [
    {
     "data": {
      "text/plain": [
       "array([[1.        , 0.22285296],\n",
       "       [0.22285296, 1.        ]])"
      ]
     },
     "execution_count": 123,
     "metadata": {},
     "output_type": "execute_result"
    }
   ],
   "source": [
    "np.corrcoef(df['ТОВ_В_ПУТ_СУМ_ШТ'].values, y)"
   ]
  },
  {
   "cell_type": "code",
   "execution_count": 137,
   "metadata": {},
   "outputs": [
    {
     "data": {
      "text/plain": [
       "array([[1.        , 0.04664715],\n",
       "       [0.04664715, 1.        ]])"
      ]
     },
     "execution_count": 137,
     "metadata": {},
     "output_type": "execute_result"
    }
   ],
   "source": [
    "np.corrcoef(df['НеделяЗаказа'].values, y)"
   ]
  },
  {
   "cell_type": "markdown",
   "metadata": {},
   "source": [
    "С y коррелируют более 0,5 следующие предикторы: ОСТ_ТЕК_ШТ, ПРДЖ_СР_ШТ_ДО, ПРДЖ_БАЗА_СР_ШТ, ТРБ_МАГ_КВНТ_ШТ.\n",
    "    Посмотрим, как эти предикторы коррелируют между собой"
   ]
  },
  {
   "cell_type": "code",
   "execution_count": 124,
   "metadata": {},
   "outputs": [
    {
     "data": {
      "text/plain": [
       "array([[1.        , 0.22478061],\n",
       "       [0.22478061, 1.        ]])"
      ]
     },
     "execution_count": 124,
     "metadata": {},
     "output_type": "execute_result"
    }
   ],
   "source": [
    "np.corrcoef(df['ОСТ_ТЕК_ШТ'].values, df['ПРДЖ_СР_ШТ_ДО'].values)"
   ]
  },
  {
   "cell_type": "code",
   "execution_count": 125,
   "metadata": {},
   "outputs": [
    {
     "data": {
      "text/plain": [
       "array([[1.        , 0.35330551],\n",
       "       [0.35330551, 1.        ]])"
      ]
     },
     "execution_count": 125,
     "metadata": {},
     "output_type": "execute_result"
    }
   ],
   "source": [
    "np.corrcoef(df['ОСТ_ТЕК_ШТ'].values, df['ПРДЖ_БАЗА_СР_ШТ'].values)"
   ]
  },
  {
   "cell_type": "code",
   "execution_count": 78,
   "metadata": {},
   "outputs": [
    {
     "data": {
      "text/plain": [
       "array([[ 1.        , -0.21671163],\n",
       "       [-0.21671163,  1.        ]])"
      ]
     },
     "execution_count": 78,
     "metadata": {},
     "output_type": "execute_result"
    }
   ],
   "source": [
    "np.corrcoef(df['ОСТ_ТЕК_ШТ'].values, df['ТРБ_МАГ_КВНТ_ШТ'].values)"
   ]
  },
  {
   "cell_type": "code",
   "execution_count": 126,
   "metadata": {},
   "outputs": [
    {
     "data": {
      "text/plain": [
       "(1011,)"
      ]
     },
     "execution_count": 126,
     "metadata": {},
     "output_type": "execute_result"
    }
   ],
   "source": [
    "y.shape"
   ]
  },
  {
   "cell_type": "code",
   "execution_count": 82,
   "metadata": {},
   "outputs": [
    {
     "data": {
      "text/plain": [
       "array([[ 1.],\n",
       "       [ 9.],\n",
       "       [ 7.],\n",
       "       [11.],\n",
       "       [42.],\n",
       "       [11.],\n",
       "       [31.],\n",
       "       [36.],\n",
       "       [ 1.],\n",
       "       [33.],\n",
       "       [ 6.],\n",
       "       [ 6.],\n",
       "       [20.],\n",
       "       [ 6.],\n",
       "       [10.],\n",
       "       [10.],\n",
       "       [20.],\n",
       "       [10.],\n",
       "       [10.],\n",
       "       [10.],\n",
       "       [10.],\n",
       "       [20.],\n",
       "       [10.],\n",
       "       [20.],\n",
       "       [10.],\n",
       "       [10.],\n",
       "       [10.],\n",
       "       [10.],\n",
       "       [20.],\n",
       "       [20.],\n",
       "       [10.],\n",
       "       [10.],\n",
       "       [20.],\n",
       "       [10.],\n",
       "       [10.],\n",
       "       [20.],\n",
       "       [10.],\n",
       "       [20.],\n",
       "       [20.],\n",
       "       [10.],\n",
       "       [20.],\n",
       "       [20.],\n",
       "       [20.],\n",
       "       [20.],\n",
       "       [10.],\n",
       "       [20.],\n",
       "       [20.],\n",
       "       [10.],\n",
       "       [20.],\n",
       "       [20.],\n",
       "       [10.],\n",
       "       [10.],\n",
       "       [10.],\n",
       "       [10.],\n",
       "       [40.],\n",
       "       [40.],\n",
       "       [60.],\n",
       "       [40.],\n",
       "       [20.],\n",
       "       [30.],\n",
       "       [20.],\n",
       "       [20.],\n",
       "       [20.]])"
      ]
     },
     "execution_count": 82,
     "metadata": {},
     "output_type": "execute_result"
    }
   ],
   "source": [
    "y = y.reshape(df.shape[0], 1)\n",
    "y"
   ]
  },
  {
   "cell_type": "code",
   "execution_count": 127,
   "metadata": {},
   "outputs": [
    {
     "data": {
      "text/plain": [
       "(1011,)"
      ]
     },
     "execution_count": 127,
     "metadata": {},
     "output_type": "execute_result"
    }
   ],
   "source": [
    "y.shape"
   ]
  },
  {
   "cell_type": "code",
   "execution_count": 128,
   "metadata": {},
   "outputs": [
    {
     "data": {
      "text/plain": [
       "array([[14. ],\n",
       "       [14. ],\n",
       "       [12.5],\n",
       "       ...,\n",
       "       [ 9.6],\n",
       "       [ 9.6],\n",
       "       [ 9.6]])"
      ]
     },
     "execution_count": 128,
     "metadata": {},
     "output_type": "execute_result"
    }
   ],
   "source": [
    "#X = df.loc[:,['ПРДЖ_СР_ШТ_ДО', 'ТРБ_МАГ_КВНТ_ШТ']].values\n",
    "X = df.loc[:, df.columns == 'ПРДЖ_СР_ШТ_ДО'].values\n",
    "X"
   ]
  },
  {
   "cell_type": "code",
   "execution_count": 129,
   "metadata": {},
   "outputs": [
    {
     "data": {
      "text/plain": [
       "(1011, 1)"
      ]
     },
     "execution_count": 129,
     "metadata": {},
     "output_type": "execute_result"
    }
   ],
   "source": [
    "X.shape"
   ]
  },
  {
   "cell_type": "code",
   "execution_count": 130,
   "metadata": {},
   "outputs": [
    {
     "data": {
      "text/plain": [
       "array([[ 1. , 14. ],\n",
       "       [ 1. , 14. ],\n",
       "       [ 1. , 12.5],\n",
       "       ...,\n",
       "       [ 1. ,  9.6],\n",
       "       [ 1. ,  9.6],\n",
       "       [ 1. ,  9.6]])"
      ]
     },
     "execution_count": 130,
     "metadata": {},
     "output_type": "execute_result"
    }
   ],
   "source": [
    "X = np.hstack([np.ones((df.shape[0], 1)), X])\n",
    "X"
   ]
  },
  {
   "cell_type": "code",
   "execution_count": 131,
   "metadata": {},
   "outputs": [
    {
     "data": {
      "text/plain": [
       "(1011, 2)"
      ]
     },
     "execution_count": 131,
     "metadata": {},
     "output_type": "execute_result"
    }
   ],
   "source": [
    "X.shape"
   ]
  },
  {
   "cell_type": "code",
   "execution_count": 132,
   "metadata": {},
   "outputs": [
    {
     "data": {
      "text/plain": [
       "array([-3.58789475,  1.56379737])"
      ]
     },
     "execution_count": 132,
     "metadata": {},
     "output_type": "execute_result"
    }
   ],
   "source": [
    "B = np.dot(np.linalg.inv(np.dot(X.T, X)), X.T@y)\n",
    "B"
   ]
  },
  {
   "cell_type": "code",
   "execution_count": 133,
   "metadata": {},
   "outputs": [
    {
     "data": {
      "text/plain": [
       "(2,)"
      ]
     },
     "execution_count": 133,
     "metadata": {},
     "output_type": "execute_result"
    }
   ],
   "source": [
    "B.shape"
   ]
  },
  {
   "cell_type": "code",
   "execution_count": 134,
   "metadata": {},
   "outputs": [
    {
     "data": {
      "text/html": [
       "<div>\n",
       "<style scoped>\n",
       "    .dataframe tbody tr th:only-of-type {\n",
       "        vertical-align: middle;\n",
       "    }\n",
       "\n",
       "    .dataframe tbody tr th {\n",
       "        vertical-align: top;\n",
       "    }\n",
       "\n",
       "    .dataframe thead th {\n",
       "        text-align: right;\n",
       "    }\n",
       "</style>\n",
       "<table border=\"1\" class=\"dataframe\">\n",
       "  <thead>\n",
       "    <tr style=\"text-align: right;\">\n",
       "      <th></th>\n",
       "      <th>y</th>\n",
       "      <th>y_hat</th>\n",
       "    </tr>\n",
       "  </thead>\n",
       "  <tbody>\n",
       "    <tr>\n",
       "      <th>0</th>\n",
       "      <td>26.0</td>\n",
       "      <td>18.305268</td>\n",
       "    </tr>\n",
       "    <tr>\n",
       "      <th>1</th>\n",
       "      <td>19.0</td>\n",
       "      <td>18.305268</td>\n",
       "    </tr>\n",
       "    <tr>\n",
       "      <th>2</th>\n",
       "      <td>23.0</td>\n",
       "      <td>15.959572</td>\n",
       "    </tr>\n",
       "    <tr>\n",
       "      <th>3</th>\n",
       "      <td>25.0</td>\n",
       "      <td>16.220211</td>\n",
       "    </tr>\n",
       "    <tr>\n",
       "      <th>4</th>\n",
       "      <td>26.0</td>\n",
       "      <td>15.568623</td>\n",
       "    </tr>\n",
       "    <tr>\n",
       "      <th>5</th>\n",
       "      <td>26.0</td>\n",
       "      <td>15.568623</td>\n",
       "    </tr>\n",
       "    <tr>\n",
       "      <th>6</th>\n",
       "      <td>26.0</td>\n",
       "      <td>15.568623</td>\n",
       "    </tr>\n",
       "    <tr>\n",
       "      <th>7</th>\n",
       "      <td>22.0</td>\n",
       "      <td>15.568623</td>\n",
       "    </tr>\n",
       "    <tr>\n",
       "      <th>8</th>\n",
       "      <td>25.0</td>\n",
       "      <td>16.115952</td>\n",
       "    </tr>\n",
       "    <tr>\n",
       "      <th>9</th>\n",
       "      <td>23.0</td>\n",
       "      <td>15.438296</td>\n",
       "    </tr>\n",
       "    <tr>\n",
       "      <th>10</th>\n",
       "      <td>23.0</td>\n",
       "      <td>14.730866</td>\n",
       "    </tr>\n",
       "    <tr>\n",
       "      <th>11</th>\n",
       "      <td>26.0</td>\n",
       "      <td>14.730866</td>\n",
       "    </tr>\n",
       "    <tr>\n",
       "      <th>12</th>\n",
       "      <td>26.0</td>\n",
       "      <td>14.730866</td>\n",
       "    </tr>\n",
       "    <tr>\n",
       "      <th>13</th>\n",
       "      <td>26.0</td>\n",
       "      <td>14.730866</td>\n",
       "    </tr>\n",
       "    <tr>\n",
       "      <th>14</th>\n",
       "      <td>26.0</td>\n",
       "      <td>14.730866</td>\n",
       "    </tr>\n",
       "    <tr>\n",
       "      <th>15</th>\n",
       "      <td>23.0</td>\n",
       "      <td>14.730866</td>\n",
       "    </tr>\n",
       "    <tr>\n",
       "      <th>16</th>\n",
       "      <td>23.0</td>\n",
       "      <td>14.200300</td>\n",
       "    </tr>\n",
       "    <tr>\n",
       "      <th>17</th>\n",
       "      <td>26.0</td>\n",
       "      <td>14.200300</td>\n",
       "    </tr>\n",
       "    <tr>\n",
       "      <th>18</th>\n",
       "      <td>26.0</td>\n",
       "      <td>14.200300</td>\n",
       "    </tr>\n",
       "    <tr>\n",
       "      <th>19</th>\n",
       "      <td>8.0</td>\n",
       "      <td>14.200300</td>\n",
       "    </tr>\n",
       "  </tbody>\n",
       "</table>\n",
       "</div>"
      ],
      "text/plain": [
       "       y      y_hat\n",
       "0   26.0  18.305268\n",
       "1   19.0  18.305268\n",
       "2   23.0  15.959572\n",
       "3   25.0  16.220211\n",
       "4   26.0  15.568623\n",
       "5   26.0  15.568623\n",
       "6   26.0  15.568623\n",
       "7   22.0  15.568623\n",
       "8   25.0  16.115952\n",
       "9   23.0  15.438296\n",
       "10  23.0  14.730866\n",
       "11  26.0  14.730866\n",
       "12  26.0  14.730866\n",
       "13  26.0  14.730866\n",
       "14  26.0  14.730866\n",
       "15  23.0  14.730866\n",
       "16  23.0  14.200300\n",
       "17  26.0  14.200300\n",
       "18  26.0  14.200300\n",
       "19   8.0  14.200300"
      ]
     },
     "execution_count": 134,
     "metadata": {},
     "output_type": "execute_result"
    }
   ],
   "source": [
    "df2 = pd.DataFrame(data=y, columns=['y'])\n",
    "df2['y_hat'] = np.dot(X, B)\n",
    "df2.head(20)"
   ]
  },
  {
   "cell_type": "code",
   "execution_count": 136,
   "metadata": {},
   "outputs": [
    {
     "data": {
      "image/png": "[encoded data removed]",
      "text/plain": [
       "<Figure size 1296x864 with 1 Axes>"
      ]
     },
     "metadata": {
      "needs_background": "light"
     },
     "output_type": "display_data"
    }
   ],
   "source": [
    "rcParams[\"figure.figsize\"] = 18, 12\n",
    "\n",
    "plt.scatter(df['ПРДЖ_СР_ШТ_ДО'],y)\n",
    "plt.scatter(df['ПРДЖ_СР_ШТ_ДО'], np.dot(X, B))\n",
    "plt.title(\"Сравнение реального количества к заказу и предсказанного\")\n",
    "plt.show()"
   ]
  },
  {
   "cell_type": "code",
   "execution_count": 43,
   "metadata": {},
   "outputs": [
    {
     "data": {
      "text/plain": [
       "218.73010407551692"
      ]
     },
     "execution_count": 43,
     "metadata": {},
     "output_type": "execute_result"
    }
   ],
   "source": [
    "mse = ((y-np.dot(X, B))**2).sum()/659803\n",
    "mse"
   ]
  },
  {
   "cell_type": "code",
   "execution_count": 44,
   "metadata": {},
   "outputs": [
    {
     "data": {
      "text/plain": [
       "58.16637593750193"
      ]
     },
     "execution_count": 44,
     "metadata": {},
     "output_type": "execute_result"
    }
   ],
   "source": [
    "A_mean = 100 * np.mean(np.abs((y - np.dot(X, B)) / y))\n",
    "A_mean"
   ]
  },
  {
   "cell_type": "markdown",
   "metadata": {},
   "source": [
    "Проверим, является ли полученная модель статистически значимой с помощью критерия Фишера. Установим уровень значимости альфа = 0,05. \n",
    "* 1) H0: модель не является статистически значимой\n",
    "* 2) H1: модель является статистически значимой"
   ]
  },
  {
   "cell_type": "code",
   "execution_count": 21,
   "metadata": {},
   "outputs": [],
   "source": [
    "n = 659803\n",
    "p = 17\n",
    "alpha = 0.05"
   ]
  },
  {
   "cell_type": "code",
   "execution_count": 22,
   "metadata": {},
   "outputs": [
    {
     "data": {
      "text/plain": [
       "16"
      ]
     },
     "execution_count": 22,
     "metadata": {},
     "output_type": "execute_result"
    }
   ],
   "source": [
    "df1 = p - 1\n",
    "df1"
   ]
  },
  {
   "cell_type": "code",
   "execution_count": 23,
   "metadata": {},
   "outputs": [
    {
     "data": {
      "text/plain": [
       "659786"
      ]
     },
     "execution_count": 23,
     "metadata": {},
     "output_type": "execute_result"
    }
   ],
   "source": [
    "df2 = n - p\n",
    "df2"
   ]
  },
  {
   "cell_type": "code",
   "execution_count": 25,
   "metadata": {},
   "outputs": [
    {
     "data": {
      "text/plain": [
       "880105113.1265177"
      ]
     },
     "execution_count": 25,
     "metadata": {},
     "output_type": "execute_result"
    }
   ],
   "source": [
    "SSf = ((np.dot(X, B) - y.mean())**2).sum()\n",
    "SSf"
   ]
  },
  {
   "cell_type": "code",
   "execution_count": 26,
   "metadata": {},
   "outputs": [
    {
     "data": {
      "text/plain": [
       "138238565.96820495"
      ]
     },
     "execution_count": 26,
     "metadata": {},
     "output_type": "execute_result"
    }
   ],
   "source": [
    "SSo = ((y-np.dot(X, B))**2).sum()\n",
    "SSo"
   ]
  },
  {
   "cell_type": "code",
   "execution_count": 27,
   "metadata": {},
   "outputs": [
    {
     "data": {
      "text/plain": [
       "55006569.57040735"
      ]
     },
     "execution_count": 27,
     "metadata": {},
     "output_type": "execute_result"
    }
   ],
   "source": [
    "MSf = SSf / df1\n",
    "MSf"
   ]
  },
  {
   "cell_type": "code",
   "execution_count": 28,
   "metadata": {},
   "outputs": [
    {
     "data": {
      "text/plain": [
       "209.5203080517091"
      ]
     },
     "execution_count": 28,
     "metadata": {},
     "output_type": "execute_result"
    }
   ],
   "source": [
    "MSo = SSo / df2\n",
    "MSo"
   ]
  },
  {
   "cell_type": "code",
   "execution_count": 29,
   "metadata": {},
   "outputs": [
    {
     "data": {
      "text/plain": [
       "262535.74215265026"
      ]
     },
     "execution_count": 29,
     "metadata": {},
     "output_type": "execute_result"
    }
   ],
   "source": [
    "Fp = MSf / MSo\n",
    "Fp"
   ]
  },
  {
   "cell_type": "code",
   "execution_count": null,
   "metadata": {},
   "outputs": [],
   "source": [
    "Ft = 1.75"
   ]
  },
  {
   "cell_type": "markdown",
   "metadata": {},
   "source": [
    "Fp > Ft модель является статистически значимой на уровне значимости альфа = 0,05"
   ]
  },
  {
   "cell_type": "code",
   "execution_count": 31,
   "metadata": {},
   "outputs": [
    {
     "name": "stderr",
     "output_type": "stream",
     "text": [
      "Enabling notebook extension jupyter-js-widgets/extension...\n",
      "      - Validating: ok\n"
     ]
    }
   ],
   "source": [
    "!pip install -U -q ipywidgets\n",
    "!jupyter nbextension enable --py widgetsnbextension"
   ]
  },
  {
   "cell_type": "code",
   "execution_count": 30,
   "metadata": {},
   "outputs": [],
   "source": [
    "import pylab\n",
    "import matplotlib.dates\n",
    "from pylab import rcParams\n",
    "\n",
    "\n",
    "import ipywidgets as widgets\n",
    "from ipywidgets import interact, interact_manual\n",
    "from IPython.display import Image, display, HTML"
   ]
  },
  {
   "cell_type": "code",
   "execution_count": 32,
   "metadata": {},
   "outputs": [],
   "source": [
    "df = pd.read_csv('Order1c_pred.csv')"
   ]
  },
  {
   "cell_type": "code",
   "execution_count": 46,
   "metadata": {},
   "outputs": [
    {
     "data": {
      "application/vnd.jupyter.widget-view+json": {
       "model_id": "7ea0cb9d2d204215b4ec51f068c787f2",
       "version_major": 2,
       "version_minor": 0
      },
      "text/plain": [
       "interactive(children=(Dropdown(description='Год заказа:', options=(2018, 2016, 2017, 2015), value=2018), Dropd…"
      ]
     },
     "metadata": {},
     "output_type": "display_data"
    }
   ],
   "source": [
    "def plot_up_to(year, goods):   \n",
    "    result = df.query(f'(КодТовара == \"{goods}\") & (ГодЗаказа == \"{year}\")')\n",
    "    xdata = result['НеделяЗаказа']\n",
    "    ydata = result['ЗКЗ_ИТГ_ШТ']\n",
    "    rcParams[\"figure.figsize\"] = 10, 8\n",
    "\n",
    "    plt.scatter(xdata,ydata)\n",
    "    plt.title('Количество к заказу товара по неделям')\n",
    "    plt.show()\n",
    "\n",
    "_ = interact(plot_up_to, year=widgets.Dropdown(options=list(df[\"ГодЗаказа\"].unique()), value=2018, description='Год заказа:'), \n",
    "             goods=widgets.Dropdown(options=list(df[\"КодТовара\"].unique()), description='Код товара:'))"
   ]
  }
 ],
 "metadata": {
  "kernelspec": {
   "display_name": "Python 3",
   "language": "python",
   "name": "python3"
  },
  "language_info": {
   "codemirror_mode": {
    "name": "ipython",
    "version": 3
   },
   "file_extension": ".py",
   "mimetype": "text/x-python",
   "name": "python",
   "nbconvert_exporter": "python",
   "pygments_lexer": "ipython3",
   "version": "3.7.5"
  }
 },
 "nbformat": 4,
 "nbformat_minor": 2
}
