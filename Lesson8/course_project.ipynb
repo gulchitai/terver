{
 "cells": [
  {
   "cell_type": "markdown",
   "metadata": {},
   "source": [
    "***Тема курсового проекта: \"Спрогнозировать количество к заказу с помощью модели линейной регрессии y_hat = b0 + b1*x1 + b2*x2 + ... bn*xn матричным способом\"***"
   ]
  },
  {
   "cell_type": "markdown",
   "metadata": {},
   "source": [
    "**Описание датасета**\n",
    "\n",
    "* **НомерЗаказа**     - номер документа Автозаказ в программе 1с\n",
    "* **ГодЗаказа**       - год из поля дата документа Автозаказ\n",
    "* **МесяцЗаказа**     - месяц из поля дата документа Автозаказ\n",
    "* **ДеньЗаказа**      - день из поля дата документа Автозаказ\n",
    "* **НеделяЗаказа**    - номер недели из поля дата документа Автозаказ\n",
    "* **КодТовара**       - код товара, количество которого необходимо заказать (из табличной части документа Автозаказ)\n",
    "* **ЦЕНА_ЗКП_РУБ**    - цена закупочная в рублях\n",
    "* **СРОК_ГДН_ОСТ_Д**  - срок годности остаточный, в днях\n",
    "* **ОСТ_ТЕК_ШТ**      - текущий остаток в шт/кг\n",
    "* **ТОВ_В_ПУТ_СУМ_ШТ**- товара в пути в шт/кг\n",
    "* **ПРДЖ_СР_ШТ_ДО**   - продажи средние шт/кг\n",
    "* **КВО_ПРДЖ_БАЗА_ШТ**- продажи базовые в шт\n",
    "* **ПРДЖ_БАЗА_СР_ШТ** - продажи, базовые, средние, шт/кг\n",
    "* **ППП_ДЛН_Д**       - период покрытия продаж длительность дней\n",
    "* **ТРБ_МАГ_КВНТ_ШТ** - требование магазина, квант, шт/кг\n",
    "* **ПРДЖ_ШТ_НЕД**     - недельные продажи \n",
    "* **СПИС_ШТ_НЕД**     - недельные списания \n",
    "\n",
    "* **ЗКЗ_ИТГ_ШТ**    - количество к заказу, наша целевая переменная, которую мы будем пытаться предсказать"
   ]
  },
  {
   "cell_type": "code",
   "execution_count": 94,
   "metadata": {},
   "outputs": [],
   "source": [
    "import numpy as np\n",
    "import pandas as pd\n",
    "import matplotlib.pyplot as plt\n",
    "import seaborn as sns\n",
    "from pylab import rcParams\n",
    "%matplotlib inline"
   ]
  },
  {
   "cell_type": "code",
   "execution_count": 95,
   "metadata": {},
   "outputs": [
    {
     "data": {
      "text/html": [
       "<div>\n",
       "<style scoped>\n",
       "    .dataframe tbody tr th:only-of-type {\n",
       "        vertical-align: middle;\n",
       "    }\n",
       "\n",
       "    .dataframe tbody tr th {\n",
       "        vertical-align: top;\n",
       "    }\n",
       "\n",
       "    .dataframe thead th {\n",
       "        text-align: right;\n",
       "    }\n",
       "</style>\n",
       "<table border=\"1\" class=\"dataframe\">\n",
       "  <thead>\n",
       "    <tr style=\"text-align: right;\">\n",
       "      <th></th>\n",
       "      <th>НомерЗаказа</th>\n",
       "      <th>ГодЗаказа</th>\n",
       "      <th>МесяцЗаказа</th>\n",
       "      <th>ДеньЗаказа</th>\n",
       "      <th>НеделяЗаказа</th>\n",
       "      <th>КодТовара</th>\n",
       "      <th>ЦЕНА_ЗКП_РУБ</th>\n",
       "      <th>СРОК_ГДН_ОСТ_Д</th>\n",
       "      <th>ОСТ_ТЕК_ШТ</th>\n",
       "      <th>ТОВ_В_ПУТ_СУМ_ШТ</th>\n",
       "      <th>ПРДЖ_СР_ШТ_ДО</th>\n",
       "      <th>КВО_ПРДЖ_БАЗА_ШТ</th>\n",
       "      <th>ПРДЖ_БАЗА_СР_ШТ</th>\n",
       "      <th>ППП_ДЛН_Д</th>\n",
       "      <th>ТРБ_МАГ_КВНТ_ШТ</th>\n",
       "      <th>ПРДЖ_ШТ_НЕД</th>\n",
       "      <th>СПИС_ШТ_НЕД</th>\n",
       "      <th>ЗКЗ_ИТГ_ШТ</th>\n",
       "    </tr>\n",
       "  </thead>\n",
       "  <tbody>\n",
       "    <tr>\n",
       "      <th>0</th>\n",
       "      <td>M3300009893</td>\n",
       "      <td>2018</td>\n",
       "      <td>4</td>\n",
       "      <td>24</td>\n",
       "      <td>17</td>\n",
       "      <td>389 965</td>\n",
       "      <td>67.85</td>\n",
       "      <td>245</td>\n",
       "      <td>21.0</td>\n",
       "      <td>0.0</td>\n",
       "      <td>0.68421</td>\n",
       "      <td>3</td>\n",
       "      <td>5.50612</td>\n",
       "      <td>14</td>\n",
       "      <td>6.0</td>\n",
       "      <td>2.0</td>\n",
       "      <td>0.0</td>\n",
       "      <td>6.0</td>\n",
       "    </tr>\n",
       "    <tr>\n",
       "      <th>1</th>\n",
       "      <td>M3300009893</td>\n",
       "      <td>2018</td>\n",
       "      <td>4</td>\n",
       "      <td>24</td>\n",
       "      <td>17</td>\n",
       "      <td>389 970</td>\n",
       "      <td>36.03</td>\n",
       "      <td>245</td>\n",
       "      <td>14.0</td>\n",
       "      <td>0.0</td>\n",
       "      <td>0.45714</td>\n",
       "      <td>5</td>\n",
       "      <td>3.28168</td>\n",
       "      <td>14</td>\n",
       "      <td>12.0</td>\n",
       "      <td>3.0</td>\n",
       "      <td>0.0</td>\n",
       "      <td>12.0</td>\n",
       "    </tr>\n",
       "    <tr>\n",
       "      <th>2</th>\n",
       "      <td>M3300009893</td>\n",
       "      <td>2018</td>\n",
       "      <td>4</td>\n",
       "      <td>24</td>\n",
       "      <td>17</td>\n",
       "      <td>366 976</td>\n",
       "      <td>30.54</td>\n",
       "      <td>482</td>\n",
       "      <td>12.0</td>\n",
       "      <td>0.0</td>\n",
       "      <td>0.31428</td>\n",
       "      <td>5</td>\n",
       "      <td>2.20001</td>\n",
       "      <td>14</td>\n",
       "      <td>6.0</td>\n",
       "      <td>0.0</td>\n",
       "      <td>0.0</td>\n",
       "      <td>6.0</td>\n",
       "    </tr>\n",
       "    <tr>\n",
       "      <th>3</th>\n",
       "      <td>M3300009893</td>\n",
       "      <td>2018</td>\n",
       "      <td>4</td>\n",
       "      <td>24</td>\n",
       "      <td>17</td>\n",
       "      <td>367 448</td>\n",
       "      <td>46.40</td>\n",
       "      <td>241</td>\n",
       "      <td>11.0</td>\n",
       "      <td>0.0</td>\n",
       "      <td>0.10345</td>\n",
       "      <td>4</td>\n",
       "      <td>0.79365</td>\n",
       "      <td>14</td>\n",
       "      <td>10.0</td>\n",
       "      <td>0.0</td>\n",
       "      <td>1.0</td>\n",
       "      <td>10.0</td>\n",
       "    </tr>\n",
       "    <tr>\n",
       "      <th>4</th>\n",
       "      <td>M3300009893</td>\n",
       "      <td>2018</td>\n",
       "      <td>4</td>\n",
       "      <td>24</td>\n",
       "      <td>17</td>\n",
       "      <td>260 461</td>\n",
       "      <td>50.92</td>\n",
       "      <td>245</td>\n",
       "      <td>12.0</td>\n",
       "      <td>0.0</td>\n",
       "      <td>0.39999</td>\n",
       "      <td>5</td>\n",
       "      <td>2.62693</td>\n",
       "      <td>14</td>\n",
       "      <td>12.0</td>\n",
       "      <td>4.0</td>\n",
       "      <td>0.0</td>\n",
       "      <td>12.0</td>\n",
       "    </tr>\n",
       "  </tbody>\n",
       "</table>\n",
       "</div>"
      ],
      "text/plain": [
       "   НомерЗаказа  ГодЗаказа  МесяцЗаказа  ДеньЗаказа  НеделяЗаказа КодТовара  \\\n",
       "0  M3300009893       2018            4          24            17   389 965   \n",
       "1  M3300009893       2018            4          24            17   389 970   \n",
       "2  M3300009893       2018            4          24            17   366 976   \n",
       "3  M3300009893       2018            4          24            17   367 448   \n",
       "4  M3300009893       2018            4          24            17   260 461   \n",
       "\n",
       "   ЦЕНА_ЗКП_РУБ  СРОК_ГДН_ОСТ_Д  ОСТ_ТЕК_ШТ  ТОВ_В_ПУТ_СУМ_ШТ  ПРДЖ_СР_ШТ_ДО  \\\n",
       "0         67.85             245        21.0               0.0        0.68421   \n",
       "1         36.03             245        14.0               0.0        0.45714   \n",
       "2         30.54             482        12.0               0.0        0.31428   \n",
       "3         46.40             241        11.0               0.0        0.10345   \n",
       "4         50.92             245        12.0               0.0        0.39999   \n",
       "\n",
       "   КВО_ПРДЖ_БАЗА_ШТ  ПРДЖ_БАЗА_СР_ШТ  ППП_ДЛН_Д  ТРБ_МАГ_КВНТ_ШТ  ПРДЖ_ШТ_НЕД  \\\n",
       "0                 3          5.50612         14              6.0          2.0   \n",
       "1                 5          3.28168         14             12.0          3.0   \n",
       "2                 5          2.20001         14              6.0          0.0   \n",
       "3                 4          0.79365         14             10.0          0.0   \n",
       "4                 5          2.62693         14             12.0          4.0   \n",
       "\n",
       "   СПИС_ШТ_НЕД  ЗКЗ_ИТГ_ШТ  \n",
       "0          0.0         6.0  \n",
       "1          0.0        12.0  \n",
       "2          0.0         6.0  \n",
       "3          1.0        10.0  \n",
       "4          0.0        12.0  "
      ]
     },
     "execution_count": 95,
     "metadata": {},
     "output_type": "execute_result"
    }
   ],
   "source": [
    "df = pd.read_csv('Order1c_pred.csv')\n",
    "df.head()"
   ]
  },
  {
   "cell_type": "code",
   "execution_count": 96,
   "metadata": {},
   "outputs": [
    {
     "name": "stdout",
     "output_type": "stream",
     "text": [
      "<class 'pandas.core.frame.DataFrame'>\n",
      "RangeIndex: 659803 entries, 0 to 659802\n",
      "Data columns (total 18 columns):\n",
      "НомерЗаказа         659803 non-null object\n",
      "ГодЗаказа           659803 non-null int64\n",
      "МесяцЗаказа         659803 non-null int64\n",
      "ДеньЗаказа          659803 non-null int64\n",
      "НеделяЗаказа        659803 non-null int64\n",
      "КодТовара           659803 non-null object\n",
      "ЦЕНА_ЗКП_РУБ        659803 non-null float64\n",
      "СРОК_ГДН_ОСТ_Д      659803 non-null int64\n",
      "ОСТ_ТЕК_ШТ          659803 non-null float64\n",
      "ТОВ_В_ПУТ_СУМ_ШТ    659803 non-null float64\n",
      "ПРДЖ_СР_ШТ_ДО       659803 non-null float64\n",
      "КВО_ПРДЖ_БАЗА_ШТ    659803 non-null int64\n",
      "ПРДЖ_БАЗА_СР_ШТ     659803 non-null float64\n",
      "ППП_ДЛН_Д           659803 non-null int64\n",
      "ТРБ_МАГ_КВНТ_ШТ     659803 non-null float64\n",
      "ПРДЖ_ШТ_НЕД         659803 non-null float64\n",
      "СПИС_ШТ_НЕД         659803 non-null float64\n",
      "ЗКЗ_ИТГ_ШТ          659803 non-null float64\n",
      "dtypes: float64(9), int64(7), object(2)\n",
      "memory usage: 90.6+ MB\n"
     ]
    }
   ],
   "source": [
    "df.info()"
   ]
  },
  {
   "cell_type": "code",
   "execution_count": 97,
   "metadata": {},
   "outputs": [
    {
     "data": {
      "text/html": [
       "<div>\n",
       "<style scoped>\n",
       "    .dataframe tbody tr th:only-of-type {\n",
       "        vertical-align: middle;\n",
       "    }\n",
       "\n",
       "    .dataframe tbody tr th {\n",
       "        vertical-align: top;\n",
       "    }\n",
       "\n",
       "    .dataframe thead th {\n",
       "        text-align: right;\n",
       "    }\n",
       "</style>\n",
       "<table border=\"1\" class=\"dataframe\">\n",
       "  <thead>\n",
       "    <tr style=\"text-align: right;\">\n",
       "      <th></th>\n",
       "      <th>НомерЗаказа</th>\n",
       "      <th>НеделяЗаказа</th>\n",
       "      <th>КодТовара</th>\n",
       "      <th>ЦЕНА_ЗКП_РУБ</th>\n",
       "      <th>СРОК_ГДН_ОСТ_Д</th>\n",
       "      <th>ОСТ_ТЕК_ШТ</th>\n",
       "      <th>ТОВ_В_ПУТ_СУМ_ШТ</th>\n",
       "      <th>ПРДЖ_СР_ШТ_ДО</th>\n",
       "      <th>КВО_ПРДЖ_БАЗА_ШТ</th>\n",
       "      <th>ПРДЖ_БАЗА_СР_ШТ</th>\n",
       "      <th>ППП_ДЛН_Д</th>\n",
       "      <th>ТРБ_МАГ_КВНТ_ШТ</th>\n",
       "      <th>ПРДЖ_ШТ_НЕД</th>\n",
       "      <th>СПИС_ШТ_НЕД</th>\n",
       "      <th>ЗКЗ_ИТГ_ШТ</th>\n",
       "    </tr>\n",
       "    <tr>\n",
       "      <th>ДатаЗаказа</th>\n",
       "      <th></th>\n",
       "      <th></th>\n",
       "      <th></th>\n",
       "      <th></th>\n",
       "      <th></th>\n",
       "      <th></th>\n",
       "      <th></th>\n",
       "      <th></th>\n",
       "      <th></th>\n",
       "      <th></th>\n",
       "      <th></th>\n",
       "      <th></th>\n",
       "      <th></th>\n",
       "      <th></th>\n",
       "      <th></th>\n",
       "    </tr>\n",
       "  </thead>\n",
       "  <tbody>\n",
       "    <tr>\n",
       "      <th>2018-02-20</th>\n",
       "      <td>M3300004259</td>\n",
       "      <td>8</td>\n",
       "      <td>389965</td>\n",
       "      <td>67.85</td>\n",
       "      <td>245</td>\n",
       "      <td>0.0</td>\n",
       "      <td>0.0</td>\n",
       "      <td>0.0</td>\n",
       "      <td>0</td>\n",
       "      <td>0.00000</td>\n",
       "      <td>7</td>\n",
       "      <td>6.0</td>\n",
       "      <td>0.0</td>\n",
       "      <td>0.0</td>\n",
       "      <td>6.0</td>\n",
       "    </tr>\n",
       "    <tr>\n",
       "      <th>2018-02-27</th>\n",
       "      <td>M3300004886</td>\n",
       "      <td>9</td>\n",
       "      <td>389965</td>\n",
       "      <td>67.85</td>\n",
       "      <td>245</td>\n",
       "      <td>1.0</td>\n",
       "      <td>0.0</td>\n",
       "      <td>0.8</td>\n",
       "      <td>1</td>\n",
       "      <td>7.60762</td>\n",
       "      <td>7</td>\n",
       "      <td>6.0</td>\n",
       "      <td>5.0</td>\n",
       "      <td>0.0</td>\n",
       "      <td>18.0</td>\n",
       "    </tr>\n",
       "    <tr>\n",
       "      <th>2018-03-06</th>\n",
       "      <td>M3300005555</td>\n",
       "      <td>10</td>\n",
       "      <td>389965</td>\n",
       "      <td>67.85</td>\n",
       "      <td>245</td>\n",
       "      <td>0.0</td>\n",
       "      <td>0.0</td>\n",
       "      <td>0.8</td>\n",
       "      <td>1</td>\n",
       "      <td>7.65574</td>\n",
       "      <td>7</td>\n",
       "      <td>6.0</td>\n",
       "      <td>1.0</td>\n",
       "      <td>0.0</td>\n",
       "      <td>18.0</td>\n",
       "    </tr>\n",
       "    <tr>\n",
       "      <th>2018-03-13</th>\n",
       "      <td>M3300006189</td>\n",
       "      <td>11</td>\n",
       "      <td>389965</td>\n",
       "      <td>67.85</td>\n",
       "      <td>245</td>\n",
       "      <td>0.0</td>\n",
       "      <td>0.0</td>\n",
       "      <td>0.8</td>\n",
       "      <td>1</td>\n",
       "      <td>7.66856</td>\n",
       "      <td>7</td>\n",
       "      <td>6.0</td>\n",
       "      <td>0.0</td>\n",
       "      <td>0.0</td>\n",
       "      <td>18.0</td>\n",
       "    </tr>\n",
       "    <tr>\n",
       "      <th>2018-03-20</th>\n",
       "      <td>M3300006861</td>\n",
       "      <td>12</td>\n",
       "      <td>389965</td>\n",
       "      <td>67.85</td>\n",
       "      <td>245</td>\n",
       "      <td>0.0</td>\n",
       "      <td>0.0</td>\n",
       "      <td>0.8</td>\n",
       "      <td>1</td>\n",
       "      <td>6.74449</td>\n",
       "      <td>7</td>\n",
       "      <td>6.0</td>\n",
       "      <td>0.0</td>\n",
       "      <td>0.0</td>\n",
       "      <td>18.0</td>\n",
       "    </tr>\n",
       "  </tbody>\n",
       "</table>\n",
       "</div>"
      ],
      "text/plain": [
       "            НомерЗаказа  НеделяЗаказа КодТовара  ЦЕНА_ЗКП_РУБ  СРОК_ГДН_ОСТ_Д  \\\n",
       "ДатаЗаказа                                                                      \n",
       "2018-02-20  M3300004259             8    389965         67.85             245   \n",
       "2018-02-27  M3300004886             9    389965         67.85             245   \n",
       "2018-03-06  M3300005555            10    389965         67.85             245   \n",
       "2018-03-13  M3300006189            11    389965         67.85             245   \n",
       "2018-03-20  M3300006861            12    389965         67.85             245   \n",
       "\n",
       "            ОСТ_ТЕК_ШТ  ТОВ_В_ПУТ_СУМ_ШТ  ПРДЖ_СР_ШТ_ДО  КВО_ПРДЖ_БАЗА_ШТ  \\\n",
       "ДатаЗаказа                                                                  \n",
       "2018-02-20         0.0               0.0            0.0                 0   \n",
       "2018-02-27         1.0               0.0            0.8                 1   \n",
       "2018-03-06         0.0               0.0            0.8                 1   \n",
       "2018-03-13         0.0               0.0            0.8                 1   \n",
       "2018-03-20         0.0               0.0            0.8                 1   \n",
       "\n",
       "            ПРДЖ_БАЗА_СР_ШТ  ППП_ДЛН_Д  ТРБ_МАГ_КВНТ_ШТ  ПРДЖ_ШТ_НЕД  \\\n",
       "ДатаЗаказа                                                             \n",
       "2018-02-20          0.00000          7              6.0          0.0   \n",
       "2018-02-27          7.60762          7              6.0          5.0   \n",
       "2018-03-06          7.65574          7              6.0          1.0   \n",
       "2018-03-13          7.66856          7              6.0          0.0   \n",
       "2018-03-20          6.74449          7              6.0          0.0   \n",
       "\n",
       "            СПИС_ШТ_НЕД  ЗКЗ_ИТГ_ШТ  \n",
       "ДатаЗаказа                           \n",
       "2018-02-20          0.0         6.0  \n",
       "2018-02-27          0.0        18.0  \n",
       "2018-03-06          0.0        18.0  \n",
       "2018-03-13          0.0        18.0  \n",
       "2018-03-20          0.0        18.0  "
      ]
     },
     "execution_count": 97,
     "metadata": {},
     "output_type": "execute_result"
    }
   ],
   "source": [
    "df['КодТовара'] = df['КодТовара'].str.replace('\\s', '')\n",
    "df_filter = df['КодТовара'].isin([\"389965\"])\n",
    "df = df[df_filter]\n",
    "col_date = pd.to_datetime([f'{y}-{m}-{d}' for y, m, d in zip(df['ГодЗаказа'], df['МесяцЗаказа'], df['ДеньЗаказа'])])\n",
    "df.index = col_date\n",
    "df.drop(\"ГодЗаказа\", axis=1, inplace=True)\n",
    "df.drop(\"МесяцЗаказа\", axis=1, inplace=True)\n",
    "df.drop(\"ДеньЗаказа\", axis=1, inplace=True)\n",
    "df = df.rename_axis('ДатаЗаказа').sort_values(by = 'ДатаЗаказа', ascending = True)\n",
    "df.head()"
   ]
  },
  {
   "cell_type": "code",
   "execution_count": 98,
   "metadata": {},
   "outputs": [
    {
     "data": {
      "image/png": "[encoded data removed]",
      "text/plain": [
       "<Figure size 1296x864 with 1 Axes>"
      ]
     },
     "metadata": {
      "needs_background": "light"
     },
     "output_type": "display_data"
    }
   ],
   "source": [
    "rcParams[\"figure.figsize\"] = 18, 12\n",
    "\n",
    "plt.plot(df.index, df['ЗКЗ_ИТГ_ШТ'])\n",
    "plt.title(\"Заказ товара по дням\")\n",
    "plt.show()"
   ]
  },
  {
   "cell_type": "code",
   "execution_count": 99,
   "metadata": {
    "scrolled": true
   },
   "outputs": [
    {
     "data": {
      "text/html": [
       "<div>\n",
       "<style scoped>\n",
       "    .dataframe tbody tr th:only-of-type {\n",
       "        vertical-align: middle;\n",
       "    }\n",
       "\n",
       "    .dataframe tbody tr th {\n",
       "        vertical-align: top;\n",
       "    }\n",
       "\n",
       "    .dataframe thead th {\n",
       "        text-align: right;\n",
       "    }\n",
       "</style>\n",
       "<table border=\"1\" class=\"dataframe\">\n",
       "  <thead>\n",
       "    <tr style=\"text-align: right;\">\n",
       "      <th></th>\n",
       "      <th>НеделяЗаказа</th>\n",
       "      <th>ЦЕНА_ЗКП_РУБ</th>\n",
       "      <th>СРОК_ГДН_ОСТ_Д</th>\n",
       "      <th>ОСТ_ТЕК_ШТ</th>\n",
       "      <th>ТОВ_В_ПУТ_СУМ_ШТ</th>\n",
       "      <th>ПРДЖ_СР_ШТ_ДО</th>\n",
       "      <th>КВО_ПРДЖ_БАЗА_ШТ</th>\n",
       "      <th>ПРДЖ_БАЗА_СР_ШТ</th>\n",
       "      <th>ППП_ДЛН_Д</th>\n",
       "      <th>ТРБ_МАГ_КВНТ_ШТ</th>\n",
       "      <th>ПРДЖ_ШТ_НЕД</th>\n",
       "      <th>СПИС_ШТ_НЕД</th>\n",
       "      <th>ЗКЗ_ИТГ_ШТ</th>\n",
       "    </tr>\n",
       "    <tr>\n",
       "      <th>ДатаЗаказа</th>\n",
       "      <th></th>\n",
       "      <th></th>\n",
       "      <th></th>\n",
       "      <th></th>\n",
       "      <th></th>\n",
       "      <th></th>\n",
       "      <th></th>\n",
       "      <th></th>\n",
       "      <th></th>\n",
       "      <th></th>\n",
       "      <th></th>\n",
       "      <th></th>\n",
       "      <th></th>\n",
       "    </tr>\n",
       "  </thead>\n",
       "  <tbody>\n",
       "    <tr>\n",
       "      <th>2018-02-20</th>\n",
       "      <td>8</td>\n",
       "      <td>67.85</td>\n",
       "      <td>245</td>\n",
       "      <td>0.0</td>\n",
       "      <td>0.0</td>\n",
       "      <td>0.0</td>\n",
       "      <td>0</td>\n",
       "      <td>0.00000</td>\n",
       "      <td>7</td>\n",
       "      <td>6.0</td>\n",
       "      <td>0.0</td>\n",
       "      <td>0.0</td>\n",
       "      <td>6.0</td>\n",
       "    </tr>\n",
       "    <tr>\n",
       "      <th>2018-02-27</th>\n",
       "      <td>9</td>\n",
       "      <td>67.85</td>\n",
       "      <td>245</td>\n",
       "      <td>1.0</td>\n",
       "      <td>0.0</td>\n",
       "      <td>0.8</td>\n",
       "      <td>1</td>\n",
       "      <td>7.60762</td>\n",
       "      <td>7</td>\n",
       "      <td>6.0</td>\n",
       "      <td>5.0</td>\n",
       "      <td>0.0</td>\n",
       "      <td>18.0</td>\n",
       "    </tr>\n",
       "    <tr>\n",
       "      <th>2018-03-06</th>\n",
       "      <td>10</td>\n",
       "      <td>67.85</td>\n",
       "      <td>245</td>\n",
       "      <td>0.0</td>\n",
       "      <td>0.0</td>\n",
       "      <td>0.8</td>\n",
       "      <td>1</td>\n",
       "      <td>7.65574</td>\n",
       "      <td>7</td>\n",
       "      <td>6.0</td>\n",
       "      <td>1.0</td>\n",
       "      <td>0.0</td>\n",
       "      <td>18.0</td>\n",
       "    </tr>\n",
       "    <tr>\n",
       "      <th>2018-03-13</th>\n",
       "      <td>11</td>\n",
       "      <td>67.85</td>\n",
       "      <td>245</td>\n",
       "      <td>0.0</td>\n",
       "      <td>0.0</td>\n",
       "      <td>0.8</td>\n",
       "      <td>1</td>\n",
       "      <td>7.66856</td>\n",
       "      <td>7</td>\n",
       "      <td>6.0</td>\n",
       "      <td>0.0</td>\n",
       "      <td>0.0</td>\n",
       "      <td>18.0</td>\n",
       "    </tr>\n",
       "    <tr>\n",
       "      <th>2018-03-20</th>\n",
       "      <td>12</td>\n",
       "      <td>67.85</td>\n",
       "      <td>245</td>\n",
       "      <td>0.0</td>\n",
       "      <td>0.0</td>\n",
       "      <td>0.8</td>\n",
       "      <td>1</td>\n",
       "      <td>6.74449</td>\n",
       "      <td>7</td>\n",
       "      <td>6.0</td>\n",
       "      <td>0.0</td>\n",
       "      <td>0.0</td>\n",
       "      <td>18.0</td>\n",
       "    </tr>\n",
       "  </tbody>\n",
       "</table>\n",
       "</div>"
      ],
      "text/plain": [
       "            НеделяЗаказа  ЦЕНА_ЗКП_РУБ  СРОК_ГДН_ОСТ_Д  ОСТ_ТЕК_ШТ  \\\n",
       "ДатаЗаказа                                                           \n",
       "2018-02-20             8         67.85             245         0.0   \n",
       "2018-02-27             9         67.85             245         1.0   \n",
       "2018-03-06            10         67.85             245         0.0   \n",
       "2018-03-13            11         67.85             245         0.0   \n",
       "2018-03-20            12         67.85             245         0.0   \n",
       "\n",
       "            ТОВ_В_ПУТ_СУМ_ШТ  ПРДЖ_СР_ШТ_ДО  КВО_ПРДЖ_БАЗА_ШТ  \\\n",
       "ДатаЗаказа                                                      \n",
       "2018-02-20               0.0            0.0                 0   \n",
       "2018-02-27               0.0            0.8                 1   \n",
       "2018-03-06               0.0            0.8                 1   \n",
       "2018-03-13               0.0            0.8                 1   \n",
       "2018-03-20               0.0            0.8                 1   \n",
       "\n",
       "            ПРДЖ_БАЗА_СР_ШТ  ППП_ДЛН_Д  ТРБ_МАГ_КВНТ_ШТ  ПРДЖ_ШТ_НЕД  \\\n",
       "ДатаЗаказа                                                             \n",
       "2018-02-20          0.00000          7              6.0          0.0   \n",
       "2018-02-27          7.60762          7              6.0          5.0   \n",
       "2018-03-06          7.65574          7              6.0          1.0   \n",
       "2018-03-13          7.66856          7              6.0          0.0   \n",
       "2018-03-20          6.74449          7              6.0          0.0   \n",
       "\n",
       "            СПИС_ШТ_НЕД  ЗКЗ_ИТГ_ШТ  \n",
       "ДатаЗаказа                           \n",
       "2018-02-20          0.0         6.0  \n",
       "2018-02-27          0.0        18.0  \n",
       "2018-03-06          0.0        18.0  \n",
       "2018-03-13          0.0        18.0  \n",
       "2018-03-20          0.0        18.0  "
      ]
     },
     "execution_count": 99,
     "metadata": {},
     "output_type": "execute_result"
    }
   ],
   "source": [
    "df = df.select_dtypes(include = ['float64', 'int64'])\n",
    "df.head()"
   ]
  },
  {
   "cell_type": "markdown",
   "metadata": {},
   "source": [
    "Посмотрите, какие предикторы коррелируют с игреком, а какие нет. Оставить, которые коррелируют. Также уберите те предикторы, которые коррелируют c теми, что в модель включены. "
   ]
  },
  {
   "cell_type": "code",
   "execution_count": 100,
   "metadata": {},
   "outputs": [
    {
     "data": {
      "text/plain": [
       "array([ 6., 18., 18., 18., 18., 18., 18.,  6.,  6.,  6.,  6.,  6.,  6.,\n",
       "        6., 12., 12.,  6., 12.,  6.,  6.,  6.,  6.,  6.,  6.,  6.,  6.,\n",
       "        6.,  6.,  6., 12., 12.])"
      ]
     },
     "execution_count": 100,
     "metadata": {},
     "output_type": "execute_result"
    }
   ],
   "source": [
    "y = df.iloc[:,-1].values\n",
    "y"
   ]
  },
  {
   "cell_type": "code",
   "execution_count": 101,
   "metadata": {},
   "outputs": [
    {
     "data": {
      "text/plain": [
       "array([[1.        , 0.04859461],\n",
       "       [0.04859461, 1.        ]])"
      ]
     },
     "execution_count": 101,
     "metadata": {},
     "output_type": "execute_result"
    }
   ],
   "source": [
    "np.corrcoef(df['ЦЕНА_ЗКП_РУБ'].values, y)"
   ]
  },
  {
   "cell_type": "code",
   "execution_count": 102,
   "metadata": {},
   "outputs": [
    {
     "name": "stderr",
     "output_type": "stream",
     "text": [
      "C:\\Users\\sych_\\Anaconda3\\lib\\site-packages\\numpy\\lib\\function_base.py:2530: RuntimeWarning: invalid value encountered in true_divide\n",
      "  c /= stddev[:, None]\n",
      "C:\\Users\\sych_\\Anaconda3\\lib\\site-packages\\numpy\\lib\\function_base.py:2531: RuntimeWarning: invalid value encountered in true_divide\n",
      "  c /= stddev[None, :]\n"
     ]
    },
    {
     "data": {
      "text/plain": [
       "array([[nan, nan],\n",
       "       [nan,  1.]])"
      ]
     },
     "execution_count": 102,
     "metadata": {},
     "output_type": "execute_result"
    }
   ],
   "source": [
    "np.corrcoef(df['СРОК_ГДН_ОСТ_Д'].values, y)"
   ]
  },
  {
   "cell_type": "code",
   "execution_count": 103,
   "metadata": {},
   "outputs": [
    {
     "data": {
      "text/plain": [
       "array([[ 1.        , -0.68908085],\n",
       "       [-0.68908085,  1.        ]])"
      ]
     },
     "execution_count": 103,
     "metadata": {},
     "output_type": "execute_result"
    }
   ],
   "source": [
    "np.corrcoef(df['ОСТ_ТЕК_ШТ'].values, y)"
   ]
  },
  {
   "cell_type": "code",
   "execution_count": 104,
   "metadata": {},
   "outputs": [
    {
     "data": {
      "text/plain": [
       "array([[1.        , 0.17965722],\n",
       "       [0.17965722, 1.        ]])"
      ]
     },
     "execution_count": 104,
     "metadata": {},
     "output_type": "execute_result"
    }
   ],
   "source": [
    "np.corrcoef(df['ПРДЖ_СР_ШТ_ДО'].values, y)"
   ]
  },
  {
   "cell_type": "code",
   "execution_count": 105,
   "metadata": {},
   "outputs": [
    {
     "data": {
      "text/plain": [
       "array([[ 1.        , -0.59368907],\n",
       "       [-0.59368907,  1.        ]])"
      ]
     },
     "execution_count": 105,
     "metadata": {},
     "output_type": "execute_result"
    }
   ],
   "source": [
    "np.corrcoef(df['КВО_ПРДЖ_БАЗА_ШТ'].values, y)"
   ]
  },
  {
   "cell_type": "code",
   "execution_count": 106,
   "metadata": {},
   "outputs": [
    {
     "data": {
      "text/plain": [
       "array([[1.        , 0.37378677],\n",
       "       [0.37378677, 1.        ]])"
      ]
     },
     "execution_count": 106,
     "metadata": {},
     "output_type": "execute_result"
    }
   ],
   "source": [
    "np.corrcoef(df['ПРДЖ_БАЗА_СР_ШТ'].values, y)"
   ]
  },
  {
   "cell_type": "code",
   "execution_count": 107,
   "metadata": {},
   "outputs": [
    {
     "data": {
      "text/plain": [
       "array([[ 1.        , -0.12566762],\n",
       "       [-0.12566762,  1.        ]])"
      ]
     },
     "execution_count": 107,
     "metadata": {},
     "output_type": "execute_result"
    }
   ],
   "source": [
    "np.corrcoef(df['ППП_ДЛН_Д'].values, y)"
   ]
  },
  {
   "cell_type": "code",
   "execution_count": 109,
   "metadata": {},
   "outputs": [
    {
     "data": {
      "text/plain": [
       "array([[nan, nan],\n",
       "       [nan,  1.]])"
      ]
     },
     "execution_count": 109,
     "metadata": {},
     "output_type": "execute_result"
    }
   ],
   "source": [
    "np.corrcoef(df['ТРБ_МАГ_КВНТ_ШТ'].values, y)"
   ]
  },
  {
   "cell_type": "code",
   "execution_count": 110,
   "metadata": {},
   "outputs": [
    {
     "data": {
      "text/plain": [
       "array([[ 1.        , -0.34363222],\n",
       "       [-0.34363222,  1.        ]])"
      ]
     },
     "execution_count": 110,
     "metadata": {},
     "output_type": "execute_result"
    }
   ],
   "source": [
    "np.corrcoef(df['ПРДЖ_ШТ_НЕД'].values, y)"
   ]
  },
  {
   "cell_type": "code",
   "execution_count": 111,
   "metadata": {},
   "outputs": [
    {
     "data": {
      "text/plain": [
       "array([[nan, nan],\n",
       "       [nan,  1.]])"
      ]
     },
     "execution_count": 111,
     "metadata": {},
     "output_type": "execute_result"
    }
   ],
   "source": [
    "np.corrcoef(df['СПИС_ШТ_НЕД'].values, y)"
   ]
  },
  {
   "cell_type": "markdown",
   "metadata": {},
   "source": [
    "С y коррелируют более 0,5 следующие предикторы: ОСТ_ТЕК_ШТ, ПРДЖ_СР_ШТ_ДО, ПРДЖ_БАЗА_СР_ШТ, ТРБ_МАГ_КВНТ_ШТ.\n",
    "    Посмотрим, как эти предикторы коррелируют между собой"
   ]
  },
  {
   "cell_type": "code",
   "execution_count": 76,
   "metadata": {},
   "outputs": [
    {
     "data": {
      "text/plain": [
       "array([[1.        , 0.74569248],\n",
       "       [0.74569248, 1.        ]])"
      ]
     },
     "execution_count": 76,
     "metadata": {},
     "output_type": "execute_result"
    }
   ],
   "source": [
    "np.corrcoef(df['ОСТ_ТЕК_ШТ'].values, df['ПРДЖ_СР_ШТ_ДО'].values)"
   ]
  },
  {
   "cell_type": "code",
   "execution_count": 77,
   "metadata": {},
   "outputs": [
    {
     "data": {
      "text/plain": [
       "array([[1.        , 0.78950262],\n",
       "       [0.78950262, 1.        ]])"
      ]
     },
     "execution_count": 77,
     "metadata": {},
     "output_type": "execute_result"
    }
   ],
   "source": [
    "np.corrcoef(df['ОСТ_ТЕК_ШТ'].values, df['ПРДЖ_БАЗА_СР_ШТ'].values)"
   ]
  },
  {
   "cell_type": "code",
   "execution_count": 78,
   "metadata": {},
   "outputs": [
    {
     "data": {
      "text/plain": [
       "array([[ 1.        , -0.21671163],\n",
       "       [-0.21671163,  1.        ]])"
      ]
     },
     "execution_count": 78,
     "metadata": {},
     "output_type": "execute_result"
    }
   ],
   "source": [
    "np.corrcoef(df['ОСТ_ТЕК_ШТ'].values, df['ТРБ_МАГ_КВНТ_ШТ'].values)"
   ]
  },
  {
   "cell_type": "code",
   "execution_count": 79,
   "metadata": {},
   "outputs": [
    {
     "data": {
      "text/plain": [
       "(63,)"
      ]
     },
     "execution_count": 79,
     "metadata": {},
     "output_type": "execute_result"
    }
   ],
   "source": [
    "y.shape"
   ]
  },
  {
   "cell_type": "code",
   "execution_count": 82,
   "metadata": {},
   "outputs": [
    {
     "data": {
      "text/plain": [
       "array([[ 1.],\n",
       "       [ 9.],\n",
       "       [ 7.],\n",
       "       [11.],\n",
       "       [42.],\n",
       "       [11.],\n",
       "       [31.],\n",
       "       [36.],\n",
       "       [ 1.],\n",
       "       [33.],\n",
       "       [ 6.],\n",
       "       [ 6.],\n",
       "       [20.],\n",
       "       [ 6.],\n",
       "       [10.],\n",
       "       [10.],\n",
       "       [20.],\n",
       "       [10.],\n",
       "       [10.],\n",
       "       [10.],\n",
       "       [10.],\n",
       "       [20.],\n",
       "       [10.],\n",
       "       [20.],\n",
       "       [10.],\n",
       "       [10.],\n",
       "       [10.],\n",
       "       [10.],\n",
       "       [20.],\n",
       "       [20.],\n",
       "       [10.],\n",
       "       [10.],\n",
       "       [20.],\n",
       "       [10.],\n",
       "       [10.],\n",
       "       [20.],\n",
       "       [10.],\n",
       "       [20.],\n",
       "       [20.],\n",
       "       [10.],\n",
       "       [20.],\n",
       "       [20.],\n",
       "       [20.],\n",
       "       [20.],\n",
       "       [10.],\n",
       "       [20.],\n",
       "       [20.],\n",
       "       [10.],\n",
       "       [20.],\n",
       "       [20.],\n",
       "       [10.],\n",
       "       [10.],\n",
       "       [10.],\n",
       "       [10.],\n",
       "       [40.],\n",
       "       [40.],\n",
       "       [60.],\n",
       "       [40.],\n",
       "       [20.],\n",
       "       [30.],\n",
       "       [20.],\n",
       "       [20.],\n",
       "       [20.]])"
      ]
     },
     "execution_count": 82,
     "metadata": {},
     "output_type": "execute_result"
    }
   ],
   "source": [
    "y = y.reshape(df.shape[0], 1)\n",
    "y"
   ]
  },
  {
   "cell_type": "code",
   "execution_count": 83,
   "metadata": {},
   "outputs": [
    {
     "data": {
      "text/plain": [
       "(63, 1)"
      ]
     },
     "execution_count": 83,
     "metadata": {},
     "output_type": "execute_result"
    }
   ],
   "source": [
    "y.shape"
   ]
  },
  {
   "cell_type": "code",
   "execution_count": 86,
   "metadata": {},
   "outputs": [
    {
     "data": {
      "text/plain": [
       "array([[ 3.5000000e+01,  2.3000000e+01,  4.5000000e+01,  0.0000000e+00,\n",
       "         0.0000000e+00,  0.0000000e+00,  0.0000000e+00,  0.0000000e+00,\n",
       "         2.0000000e+00,  1.0000000e+00,  0.0000000e+00,  0.0000000e+00],\n",
       "       [ 3.5000000e+01,  2.3000000e+01,  4.5000000e+01,  1.3500000e+01,\n",
       "         0.0000000e+00,  0.0000000e+00,  0.0000000e+00,  2.0930000e+01,\n",
       "         3.0000000e+00,  1.0000000e+00,  0.0000000e+00,  0.0000000e+00],\n",
       "       [ 3.5000000e+01,  2.3000000e+01,  4.5000000e+01,  1.9800000e+01,\n",
       "         0.0000000e+00,  9.1653300e+00,  0.0000000e+00,  4.3400000e+01,\n",
       "         2.0000000e+00,  1.0000000e+00,  0.0000000e+00,  0.0000000e+00],\n",
       "       [ 3.6000000e+01,  1.7000000e+01,  4.5000000e+01,  4.1300000e+01,\n",
       "         0.0000000e+00,  8.8044000e+00,  1.0000000e+00,  6.6459560e+01,\n",
       "         2.0000000e+00,  1.0000000e+00,  0.0000000e+00,  0.0000000e+00],\n",
       "       [ 3.6000000e+01,  1.7000000e+01,  4.5000000e+01,  2.2400000e+01,\n",
       "         0.0000000e+00,  8.9838500e+00,  1.0000000e+00,  7.1090600e+01,\n",
       "         3.0000000e+00,  1.0000000e+00,  0.0000000e+00,  0.0000000e+00],\n",
       "       [ 3.6000000e+01,  1.6000000e+01,  4.5000000e+01,  1.8600000e+01,\n",
       "         0.0000000e+00,  8.7980000e+00,  2.0000000e+00,  5.8222020e+01,\n",
       "         2.0000000e+00,  1.0000000e+00,  0.0000000e+00,  0.0000000e+00],\n",
       "       [ 3.7000000e+01,  1.4000000e+01,  4.5000000e+01,  1.0000000e+01,\n",
       "         0.0000000e+00,  8.7020000e+00,  2.0000000e+00,  6.2083170e+01,\n",
       "         2.0000000e+00,  1.0000000e+00,  0.0000000e+00,  0.0000000e+00],\n",
       "       [ 3.7000000e+01,  1.4000000e+01,  4.5000000e+01,  2.1900000e+01,\n",
       "         0.0000000e+00,  9.8729900e+00,  2.0000000e+00,  6.5593470e+01,\n",
       "         3.0000000e+00,  1.0000000e+00,  0.0000000e+00,  0.0000000e+00],\n",
       "       [ 3.7000000e+01,  1.4000000e+01,  4.5000000e+01,  3.4100000e+01,\n",
       "         0.0000000e+00,  9.5886200e+00,  3.0000000e+00,  6.5356640e+01,\n",
       "         2.0000000e+00,  1.0000000e+00,  0.0000000e+00,  0.0000000e+00],\n",
       "       [ 3.8000000e+01,  1.4000000e+01,  4.5000000e+01,  1.5500000e+01,\n",
       "         0.0000000e+00,  9.9154900e+00,  3.0000000e+00,  6.6522430e+01,\n",
       "         2.0000000e+00,  1.0000000e+00,  0.0000000e+00,  0.0000000e+00],\n",
       "       [ 3.8000000e+01,  1.2000000e+01,  4.5000000e+01,  5.3900000e+01,\n",
       "         0.0000000e+00,  9.4750500e+00,  3.0000000e+00,  6.7172170e+01,\n",
       "         3.0000000e+00,  1.0000000e+00,  0.0000000e+00,  0.0000000e+00],\n",
       "       [ 3.9000000e+01,  1.3000000e+01,  4.5000000e+01,  4.7500000e+01,\n",
       "         0.0000000e+00,  1.0505720e+01,  4.0000000e+00,  7.3585000e+01,\n",
       "         2.0000000e+00,  1.0000000e+00,  0.0000000e+00,  0.0000000e+00],\n",
       "       [ 3.9000000e+01,  1.3000000e+01,  4.5000000e+01,  4.9000000e+01,\n",
       "         0.0000000e+00,  1.0267400e+01,  4.0000000e+00,  7.4029620e+01,\n",
       "         3.0000000e+00,  1.0000000e+00,  0.0000000e+00,  0.0000000e+00],\n",
       "       [ 4.0000000e+01,  1.5000000e+01,  4.5000000e+01,  4.5427000e+01,\n",
       "         0.0000000e+00,  9.9923100e+00,  5.0000000e+00,  7.0103500e+01,\n",
       "         2.0000000e+00,  1.0000000e+00,  0.0000000e+00,  0.0000000e+00],\n",
       "       [ 3.1000000e+01,  2.6000000e+01,  4.5000000e+01,  0.0000000e+00,\n",
       "         0.0000000e+00,  0.0000000e+00,  0.0000000e+00,  0.0000000e+00,\n",
       "         1.0000000e+00,  1.0000000e+01,  0.0000000e+00,  0.0000000e+00],\n",
       "       [ 3.1000000e+01,  2.6000000e+01,  4.5000000e+01,  5.7000000e+00,\n",
       "         0.0000000e+00,  4.6750000e+00,  0.0000000e+00,  1.3090000e+01,\n",
       "         1.0000000e+00,  1.0000000e+01,  4.7000000e+00,  0.0000000e+00],\n",
       "       [ 3.2000000e+01,  2.6000000e+01,  4.5000000e+01, -1.5500000e-01,\n",
       "         1.0000000e+01,  4.6750000e+00,  0.0000000e+00,  1.6464000e+01,\n",
       "         1.0000000e+00,  1.0000000e+01,  1.0555000e+01,  0.0000000e+00],\n",
       "       [ 3.2000000e+01,  2.6000000e+01,  4.5000000e+01,  5.5000000e+00,\n",
       "         0.0000000e+00,  4.6750000e+00,  0.0000000e+00,  1.6464000e+01,\n",
       "         1.0000000e+00,  1.0000000e+01,  1.5300000e+01,  0.0000000e+00],\n",
       "       [ 3.2000000e+01,  2.1500000e+01,  4.5000000e+01,  5.2000000e+00,\n",
       "         0.0000000e+00,  4.4635000e+00,  1.0000000e+00,  3.0525560e+01,\n",
       "         1.0000000e+00,  1.0000000e+01,  3.2700000e+01,  0.0000000e+00],\n",
       "       [ 3.3000000e+01,  2.1500000e+01,  4.5000000e+01,  5.2290000e+00,\n",
       "         2.0000000e+01,  3.8258600e+00,  1.0000000e+00,  2.3612880e+01,\n",
       "         1.0000000e+00,  1.0000000e+01,  2.6816000e+01,  0.0000000e+00],\n",
       "       [ 3.3000000e+01,  2.1500000e+01,  4.5000000e+01,  2.0900000e+01,\n",
       "         0.0000000e+00,  4.0595000e+00,  1.0000000e+00,  2.6364910e+01,\n",
       "         1.0000000e+00,  1.0000000e+01,  2.7800000e+01,  0.0000000e+00],\n",
       "       [ 3.3000000e+01,  2.1500000e+01,  4.5000000e+01,  7.8740000e+00,\n",
       "         1.0000000e+01,  5.0595500e+00,  1.0000000e+00,  2.5861840e+01,\n",
       "         1.0000000e+00,  1.0000000e+01,  4.0861000e+01,  0.0000000e+00],\n",
       "       [ 3.3000000e+01,  2.1500000e+01,  4.5000000e+01,  1.9800000e+01,\n",
       "         0.0000000e+00,  4.5536000e+00,  1.0000000e+00,  2.5861840e+01,\n",
       "         1.0000000e+00,  1.0000000e+01,  4.0900000e+01,  0.0000000e+00],\n",
       "       [ 3.3000000e+01,  1.6000000e+01,  4.5000000e+01, -5.0000000e-01,\n",
       "         0.0000000e+00,  4.9646600e+00,  2.0000000e+00,  3.6229850e+01,\n",
       "         1.0000000e+00,  1.0000000e+01,  5.1300000e+01,  0.0000000e+00],\n",
       "       [ 3.4000000e+01,  1.6000000e+01,  4.5000000e+01, -4.8600000e-01,\n",
       "         2.0000000e+01,  4.9646600e+00,  2.0000000e+00,  3.5501710e+01,\n",
       "         1.0000000e+00,  1.0000000e+01,  5.1315000e+01,  0.0000000e+00],\n",
       "       [ 3.4000000e+01,  1.5000000e+01,  4.5000000e+01,  1.7729000e+01,\n",
       "         1.0000000e+01,  4.5827700e+00,  2.0000000e+00,  3.6198310e+01,\n",
       "         1.0000000e+00,  1.0000000e+01,  3.8245000e+01,  0.0000000e+00],\n",
       "       [ 3.4000000e+01,  1.5000000e+01,  4.5000000e+01,  1.2355000e+01,\n",
       "         1.0000000e+01,  5.1100000e+00,  2.0000000e+00,  3.5182910e+01,\n",
       "         2.0000000e+00,  1.0000000e+01,  5.5319000e+01,  0.0000000e+00],\n",
       "       [ 3.4000000e+01,  1.5000000e+01,  4.5000000e+01,  1.1800000e+01,\n",
       "         0.0000000e+00,  5.3408800e+00,  3.0000000e+00,  3.7797620e+01,\n",
       "         1.0000000e+00,  1.0000000e+01,  3.6900000e+01,  0.0000000e+00],\n",
       "       [ 3.5000000e+01,  1.5000000e+01,  4.5000000e+01, -1.0400000e+00,\n",
       "         1.0000000e+01,  5.3408800e+00,  3.0000000e+00,  3.9161740e+01,\n",
       "         1.0000000e+00,  1.0000000e+01,  4.9754000e+01,  0.0000000e+00],\n",
       "       [ 3.5000000e+01,  1.5000000e+01,  4.5000000e+01, -1.1000000e+00,\n",
       "         0.0000000e+00,  5.3408800e+00,  3.0000000e+00,  3.9666150e+01,\n",
       "         1.0000000e+00,  1.0000000e+01,  5.5100000e+01,  0.0000000e+00],\n",
       "       [ 3.5000000e+01,  1.5000000e+01,  4.5000000e+01, -1.1000000e+00,\n",
       "         2.0000000e+01,  5.3408800e+00,  3.0000000e+00,  3.9377620e+01,\n",
       "         1.0000000e+00,  1.0000000e+01,  5.5100000e+01,  0.0000000e+00],\n",
       "       [ 3.6000000e+01,  1.5000000e+01,  4.5000000e+01,  9.0700000e+00,\n",
       "         2.0000000e+01,  7.0167900e+00,  4.0000000e+00,  5.3688940e+01,\n",
       "         2.0000000e+00,  1.0000000e+01,  7.7608000e+01,  0.0000000e+00],\n",
       "       [ 3.7000000e+01,  1.5000000e+01,  4.5000000e+01, -1.5800000e+00,\n",
       "         2.0000000e+01,  6.7361200e+00,  4.0000000e+00,  5.0441480e+01,\n",
       "         1.0000000e+00,  1.0000000e+01,  8.3953000e+01,  0.0000000e+00],\n",
       "       [ 3.7000000e+01,  1.5000000e+01,  4.5000000e+01,  9.7000000e+00,\n",
       "         0.0000000e+00,  6.7361200e+00,  4.0000000e+00,  5.0479200e+01,\n",
       "         1.0000000e+00,  1.0000000e+01,  7.2500000e+01,  0.0000000e+00],\n",
       "       [ 3.7000000e+01,  1.5000000e+01,  4.5000000e+01,  9.7200000e+00,\n",
       "         1.0000000e+01,  6.4770300e+00,  4.0000000e+00,  5.0645560e+01,\n",
       "         1.0000000e+00,  1.0000000e+01,  5.5235000e+01,  0.0000000e+00],\n",
       "       [ 3.7000000e+01,  1.5000000e+01,  4.5000000e+01,  9.6000000e+00,\n",
       "         0.0000000e+00,  6.7682500e+00,  4.0000000e+00,  5.0205090e+01,\n",
       "         1.0000000e+00,  1.0000000e+01,  5.9800000e+01,  0.0000000e+00],\n",
       "       [ 3.7000000e+01,  1.5000000e+01,  4.5000000e+01,  9.5800000e+00,\n",
       "         2.0000000e+01,  6.5265300e+00,  4.0000000e+00,  4.9848530e+01,\n",
       "         2.0000000e+00,  1.0000000e+01,  4.2790000e+01,  0.0000000e+00],\n",
       "       [ 3.8000000e+01,  1.5000000e+01,  4.5000000e+01,  1.7667000e+01,\n",
       "         0.0000000e+00,  6.5227000e+00,  5.0000000e+00,  4.7377830e+01,\n",
       "         1.0000000e+00,  1.0000000e+01,  3.1953000e+01,  0.0000000e+00],\n",
       "       [ 3.8000000e+01,  1.5000000e+01,  4.5000000e+01,  1.7700000e+01,\n",
       "         0.0000000e+00,  6.3122800e+00,  5.0000000e+00,  4.7348900e+01,\n",
       "         2.0000000e+00,  1.0000000e+01,  3.2000000e+01,  0.0000000e+00],\n",
       "       [ 3.8000000e+01,  1.5000000e+01,  4.5000000e+01,  2.0300000e+01,\n",
       "         0.0000000e+00,  6.3122800e+00,  5.0000000e+00,  4.9358310e+01,\n",
       "         1.0000000e+00,  1.0000000e+01,  1.7600000e+01,  1.1300000e+01],\n",
       "       [ 3.8000000e+01,  1.5000000e+01,  4.5000000e+01,  1.1892000e+01,\n",
       "         1.0000000e+01,  6.4751200e+00,  5.0000000e+00,  4.4998280e+01,\n",
       "         2.0000000e+00,  1.0000000e+01,  2.5993000e+01,  1.1295000e+01],\n",
       "       [ 3.8000000e+01,  1.5000000e+01,  4.5000000e+01,  1.1000000e+01,\n",
       "         0.0000000e+00,  6.3161200e+00,  5.0000000e+00,  4.7027060e+01,\n",
       "         1.0000000e+00,  1.0000000e+01,  3.9800000e+01,  1.1300000e+01],\n",
       "       [ 3.9000000e+01,  1.5000000e+01,  4.5000000e+01,  2.1510000e+01,\n",
       "         0.0000000e+00,  6.5594800e+00,  5.0000000e+00,  4.5330730e+01,\n",
       "         2.0000000e+00,  1.0000000e+01,  4.0144000e+01,  0.0000000e+00],\n",
       "       [ 3.9000000e+01,  1.5000000e+01,  4.5000000e+01,  1.1000000e+01,\n",
       "         0.0000000e+00,  6.2441800e+00,  5.0000000e+00,  4.4983300e+01,\n",
       "         1.0000000e+00,  1.0000000e+01,  3.6800000e+01,  0.0000000e+00],\n",
       "       [ 4.0000000e+01,  1.5000000e+01,  4.5000000e+01,  1.3200000e+01,\n",
       "         0.0000000e+00,  6.1951100e+00,  5.0000000e+00,  4.3628870e+01,\n",
       "         1.0000000e+00,  1.0000000e+01,  4.1900000e+01,  0.0000000e+00],\n",
       "       [ 4.0000000e+01,  1.5000000e+01,  4.5000000e+01, -3.5380000e+00,\n",
       "         1.0000000e+01,  6.3828400e+00,  5.0000000e+00,  4.5226300e+01,\n",
       "         1.0000000e+00,  1.0000000e+01,  5.8623000e+01,  0.0000000e+00],\n",
       "       [ 4.0000000e+01,  1.5000000e+01,  4.5000000e+01,  8.8000000e+00,\n",
       "         0.0000000e+00,  6.4171800e+00,  4.0000000e+00,  4.2950720e+01,\n",
       "         1.0000000e+00,  1.0000000e+01,  4.5600000e+01,  0.0000000e+00],\n",
       "       [ 4.0000000e+01,  1.5000000e+01,  4.5000000e+01,  8.7620000e+00,\n",
       "         2.0000000e+01,  6.0487500e+00,  4.0000000e+00,  4.3245580e+01,\n",
       "         2.0000000e+00,  1.0000000e+01,  3.8048000e+01,  0.0000000e+00],\n",
       "       [ 4.0000000e+01,  1.5000000e+01,  4.5000000e+01,  1.1400000e+01,\n",
       "         0.0000000e+00,  6.1541800e+00,  5.0000000e+00,  4.5115640e+01,\n",
       "         1.0000000e+00,  1.0000000e+01,  4.5100000e+01,  0.0000000e+00],\n",
       "       [ 4.1000000e+01,  1.5000000e+01,  4.5000000e+01,  4.9730000e+00,\n",
       "         1.0000000e+01,  6.1637500e+00,  5.0000000e+00,  4.4075120e+01,\n",
       "         1.0000000e+00,  1.0000000e+01,  5.1527000e+01,  0.0000000e+00],\n",
       "       [ 3.1000000e+01,  3.5000000e+01,  4.5000000e+01,  0.0000000e+00,\n",
       "         0.0000000e+00,  0.0000000e+00,  0.0000000e+00,  0.0000000e+00,\n",
       "         2.0000000e+00,  1.0000000e+01,  0.0000000e+00,  0.0000000e+00],\n",
       "       [ 3.1000000e+01,  2.9000000e+01,  4.5000000e+01,  1.8800000e+01,\n",
       "         0.0000000e+00,  0.0000000e+00,  0.0000000e+00,  3.4485500e+01,\n",
       "         3.0000000e+00,  1.0000000e+01,  1.9700000e+01,  0.0000000e+00],\n",
       "       [ 3.1000000e+01,  2.3000000e+01,  4.5000000e+01,  2.0200000e+01,\n",
       "         0.0000000e+00,  1.1492670e+01,  0.0000000e+00,  3.5047250e+01,\n",
       "         2.0000000e+00,  1.0000000e+01,  5.4200000e+01,  0.0000000e+00],\n",
       "       [ 3.2000000e+01,  2.3000000e+01,  4.5000000e+01,  4.1100000e+01,\n",
       "         0.0000000e+00,  1.1779800e+01,  1.0000000e+00,  7.3228800e+01,\n",
       "         2.0000000e+00,  1.0000000e+01,  7.8600000e+01,  2.4000000e+00],\n",
       "       [ 3.2000000e+01,  2.3000000e+01,  4.5000000e+01,  2.5300000e+01,\n",
       "         0.0000000e+00,  1.4516280e+01,  1.0000000e+00,  7.8802970e+01,\n",
       "         3.0000000e+00,  1.0000000e+01,  1.0160000e+02,  2.4000000e+00],\n",
       "       [ 3.3000000e+01,  2.1000000e+01,  4.5000000e+01,  1.8500000e+01,\n",
       "         0.0000000e+00,  1.7574750e+01,  2.0000000e+00,  1.0739101e+02,\n",
       "         2.0000000e+00,  1.0000000e+01,  1.5200000e+02,  7.9000000e+00],\n",
       "       [ 3.3000000e+01,  1.7000000e+01,  4.5000000e+01,  3.1300000e+01,\n",
       "         0.0000000e+00,  1.7866850e+01,  2.0000000e+00,  1.0965858e+02,\n",
       "         3.0000000e+00,  1.0000000e+01,  1.4850000e+02,  1.0600000e+01],\n",
       "       [ 3.3000000e+01,  1.7000000e+01,  4.5000000e+01,  2.6400000e+01,\n",
       "         0.0000000e+00,  1.8678230e+01,  3.0000000e+00,  1.2400858e+02,\n",
       "         2.0000000e+00,  1.0000000e+01,  1.6870000e+02,  2.7000000e+00],\n",
       "       [ 3.4000000e+01,  1.7000000e+01,  4.5000000e+01,  7.2300000e+01,\n",
       "         0.0000000e+00,  1.8423750e+01,  3.0000000e+00,  1.2021809e+02,\n",
       "         3.0000000e+00,  1.0000000e+01,  1.3680000e+02,  8.8000000e+00],\n",
       "       [ 3.5000000e+01,  1.7000000e+01,  4.5000000e+01,  7.5000000e+01,\n",
       "         0.0000000e+00,  1.7482020e+01,  4.0000000e+00,  1.1972637e+02,\n",
       "         3.0000000e+00,  1.0000000e+01,  1.0260000e+02,  4.1000000e+00],\n",
       "       [ 3.6000000e+01,  2.0000000e+01,  4.5000000e+01,  7.6400000e+01,\n",
       "         0.0000000e+00,  1.8350870e+01,  5.0000000e+00,  1.2287551e+02,\n",
       "         3.0000000e+00,  1.0000000e+01,  1.5380000e+02,  9.8000000e+00],\n",
       "       [ 3.7000000e+01,  2.0000000e+01,  4.5000000e+01,  7.0400000e+01,\n",
       "         0.0000000e+00,  1.6544200e+01,  6.0000000e+00,  1.1652504e+02,\n",
       "         3.0000000e+00,  1.0000000e+01,  5.4400000e+01,  1.6600000e+01],\n",
       "       [ 3.7000000e+01,  2.0000000e+01,  4.5000000e+01,  7.0300000e+01,\n",
       "         0.0000000e+00,  1.5247540e+01,  5.0000000e+00,  1.0892894e+02,\n",
       "         2.0000000e+00,  1.0000000e+01,  6.1500000e+01,  2.0000000e+01]])"
      ]
     },
     "execution_count": 86,
     "metadata": {},
     "output_type": "execute_result"
    }
   ],
   "source": [
    "#X = df.loc[:,['ПРДЖ_СР_ШТ_ДО', 'ТРБ_МАГ_КВНТ_ШТ']].values\n",
    "X = df.loc[:, df.columns != 'ЗКЗ_ИТГ_ШТ'].values\n",
    "X"
   ]
  },
  {
   "cell_type": "code",
   "execution_count": 87,
   "metadata": {},
   "outputs": [
    {
     "data": {
      "text/plain": [
       "(63, 12)"
      ]
     },
     "execution_count": 87,
     "metadata": {},
     "output_type": "execute_result"
    }
   ],
   "source": [
    "X.shape"
   ]
  },
  {
   "cell_type": "code",
   "execution_count": 88,
   "metadata": {},
   "outputs": [
    {
     "data": {
      "text/plain": [
       "array([[ 1.0000000e+00,  3.5000000e+01,  2.3000000e+01,  4.5000000e+01,\n",
       "         0.0000000e+00,  0.0000000e+00,  0.0000000e+00,  0.0000000e+00,\n",
       "         0.0000000e+00,  2.0000000e+00,  1.0000000e+00,  0.0000000e+00,\n",
       "         0.0000000e+00],\n",
       "       [ 1.0000000e+00,  3.5000000e+01,  2.3000000e+01,  4.5000000e+01,\n",
       "         1.3500000e+01,  0.0000000e+00,  0.0000000e+00,  0.0000000e+00,\n",
       "         2.0930000e+01,  3.0000000e+00,  1.0000000e+00,  0.0000000e+00,\n",
       "         0.0000000e+00],\n",
       "       [ 1.0000000e+00,  3.5000000e+01,  2.3000000e+01,  4.5000000e+01,\n",
       "         1.9800000e+01,  0.0000000e+00,  9.1653300e+00,  0.0000000e+00,\n",
       "         4.3400000e+01,  2.0000000e+00,  1.0000000e+00,  0.0000000e+00,\n",
       "         0.0000000e+00],\n",
       "       [ 1.0000000e+00,  3.6000000e+01,  1.7000000e+01,  4.5000000e+01,\n",
       "         4.1300000e+01,  0.0000000e+00,  8.8044000e+00,  1.0000000e+00,\n",
       "         6.6459560e+01,  2.0000000e+00,  1.0000000e+00,  0.0000000e+00,\n",
       "         0.0000000e+00],\n",
       "       [ 1.0000000e+00,  3.6000000e+01,  1.7000000e+01,  4.5000000e+01,\n",
       "         2.2400000e+01,  0.0000000e+00,  8.9838500e+00,  1.0000000e+00,\n",
       "         7.1090600e+01,  3.0000000e+00,  1.0000000e+00,  0.0000000e+00,\n",
       "         0.0000000e+00],\n",
       "       [ 1.0000000e+00,  3.6000000e+01,  1.6000000e+01,  4.5000000e+01,\n",
       "         1.8600000e+01,  0.0000000e+00,  8.7980000e+00,  2.0000000e+00,\n",
       "         5.8222020e+01,  2.0000000e+00,  1.0000000e+00,  0.0000000e+00,\n",
       "         0.0000000e+00],\n",
       "       [ 1.0000000e+00,  3.7000000e+01,  1.4000000e+01,  4.5000000e+01,\n",
       "         1.0000000e+01,  0.0000000e+00,  8.7020000e+00,  2.0000000e+00,\n",
       "         6.2083170e+01,  2.0000000e+00,  1.0000000e+00,  0.0000000e+00,\n",
       "         0.0000000e+00],\n",
       "       [ 1.0000000e+00,  3.7000000e+01,  1.4000000e+01,  4.5000000e+01,\n",
       "         2.1900000e+01,  0.0000000e+00,  9.8729900e+00,  2.0000000e+00,\n",
       "         6.5593470e+01,  3.0000000e+00,  1.0000000e+00,  0.0000000e+00,\n",
       "         0.0000000e+00],\n",
       "       [ 1.0000000e+00,  3.7000000e+01,  1.4000000e+01,  4.5000000e+01,\n",
       "         3.4100000e+01,  0.0000000e+00,  9.5886200e+00,  3.0000000e+00,\n",
       "         6.5356640e+01,  2.0000000e+00,  1.0000000e+00,  0.0000000e+00,\n",
       "         0.0000000e+00],\n",
       "       [ 1.0000000e+00,  3.8000000e+01,  1.4000000e+01,  4.5000000e+01,\n",
       "         1.5500000e+01,  0.0000000e+00,  9.9154900e+00,  3.0000000e+00,\n",
       "         6.6522430e+01,  2.0000000e+00,  1.0000000e+00,  0.0000000e+00,\n",
       "         0.0000000e+00],\n",
       "       [ 1.0000000e+00,  3.8000000e+01,  1.2000000e+01,  4.5000000e+01,\n",
       "         5.3900000e+01,  0.0000000e+00,  9.4750500e+00,  3.0000000e+00,\n",
       "         6.7172170e+01,  3.0000000e+00,  1.0000000e+00,  0.0000000e+00,\n",
       "         0.0000000e+00],\n",
       "       [ 1.0000000e+00,  3.9000000e+01,  1.3000000e+01,  4.5000000e+01,\n",
       "         4.7500000e+01,  0.0000000e+00,  1.0505720e+01,  4.0000000e+00,\n",
       "         7.3585000e+01,  2.0000000e+00,  1.0000000e+00,  0.0000000e+00,\n",
       "         0.0000000e+00],\n",
       "       [ 1.0000000e+00,  3.9000000e+01,  1.3000000e+01,  4.5000000e+01,\n",
       "         4.9000000e+01,  0.0000000e+00,  1.0267400e+01,  4.0000000e+00,\n",
       "         7.4029620e+01,  3.0000000e+00,  1.0000000e+00,  0.0000000e+00,\n",
       "         0.0000000e+00],\n",
       "       [ 1.0000000e+00,  4.0000000e+01,  1.5000000e+01,  4.5000000e+01,\n",
       "         4.5427000e+01,  0.0000000e+00,  9.9923100e+00,  5.0000000e+00,\n",
       "         7.0103500e+01,  2.0000000e+00,  1.0000000e+00,  0.0000000e+00,\n",
       "         0.0000000e+00],\n",
       "       [ 1.0000000e+00,  3.1000000e+01,  2.6000000e+01,  4.5000000e+01,\n",
       "         0.0000000e+00,  0.0000000e+00,  0.0000000e+00,  0.0000000e+00,\n",
       "         0.0000000e+00,  1.0000000e+00,  1.0000000e+01,  0.0000000e+00,\n",
       "         0.0000000e+00],\n",
       "       [ 1.0000000e+00,  3.1000000e+01,  2.6000000e+01,  4.5000000e+01,\n",
       "         5.7000000e+00,  0.0000000e+00,  4.6750000e+00,  0.0000000e+00,\n",
       "         1.3090000e+01,  1.0000000e+00,  1.0000000e+01,  4.7000000e+00,\n",
       "         0.0000000e+00],\n",
       "       [ 1.0000000e+00,  3.2000000e+01,  2.6000000e+01,  4.5000000e+01,\n",
       "        -1.5500000e-01,  1.0000000e+01,  4.6750000e+00,  0.0000000e+00,\n",
       "         1.6464000e+01,  1.0000000e+00,  1.0000000e+01,  1.0555000e+01,\n",
       "         0.0000000e+00],\n",
       "       [ 1.0000000e+00,  3.2000000e+01,  2.6000000e+01,  4.5000000e+01,\n",
       "         5.5000000e+00,  0.0000000e+00,  4.6750000e+00,  0.0000000e+00,\n",
       "         1.6464000e+01,  1.0000000e+00,  1.0000000e+01,  1.5300000e+01,\n",
       "         0.0000000e+00],\n",
       "       [ 1.0000000e+00,  3.2000000e+01,  2.1500000e+01,  4.5000000e+01,\n",
       "         5.2000000e+00,  0.0000000e+00,  4.4635000e+00,  1.0000000e+00,\n",
       "         3.0525560e+01,  1.0000000e+00,  1.0000000e+01,  3.2700000e+01,\n",
       "         0.0000000e+00],\n",
       "       [ 1.0000000e+00,  3.3000000e+01,  2.1500000e+01,  4.5000000e+01,\n",
       "         5.2290000e+00,  2.0000000e+01,  3.8258600e+00,  1.0000000e+00,\n",
       "         2.3612880e+01,  1.0000000e+00,  1.0000000e+01,  2.6816000e+01,\n",
       "         0.0000000e+00],\n",
       "       [ 1.0000000e+00,  3.3000000e+01,  2.1500000e+01,  4.5000000e+01,\n",
       "         2.0900000e+01,  0.0000000e+00,  4.0595000e+00,  1.0000000e+00,\n",
       "         2.6364910e+01,  1.0000000e+00,  1.0000000e+01,  2.7800000e+01,\n",
       "         0.0000000e+00],\n",
       "       [ 1.0000000e+00,  3.3000000e+01,  2.1500000e+01,  4.5000000e+01,\n",
       "         7.8740000e+00,  1.0000000e+01,  5.0595500e+00,  1.0000000e+00,\n",
       "         2.5861840e+01,  1.0000000e+00,  1.0000000e+01,  4.0861000e+01,\n",
       "         0.0000000e+00],\n",
       "       [ 1.0000000e+00,  3.3000000e+01,  2.1500000e+01,  4.5000000e+01,\n",
       "         1.9800000e+01,  0.0000000e+00,  4.5536000e+00,  1.0000000e+00,\n",
       "         2.5861840e+01,  1.0000000e+00,  1.0000000e+01,  4.0900000e+01,\n",
       "         0.0000000e+00],\n",
       "       [ 1.0000000e+00,  3.3000000e+01,  1.6000000e+01,  4.5000000e+01,\n",
       "        -5.0000000e-01,  0.0000000e+00,  4.9646600e+00,  2.0000000e+00,\n",
       "         3.6229850e+01,  1.0000000e+00,  1.0000000e+01,  5.1300000e+01,\n",
       "         0.0000000e+00],\n",
       "       [ 1.0000000e+00,  3.4000000e+01,  1.6000000e+01,  4.5000000e+01,\n",
       "        -4.8600000e-01,  2.0000000e+01,  4.9646600e+00,  2.0000000e+00,\n",
       "         3.5501710e+01,  1.0000000e+00,  1.0000000e+01,  5.1315000e+01,\n",
       "         0.0000000e+00],\n",
       "       [ 1.0000000e+00,  3.4000000e+01,  1.5000000e+01,  4.5000000e+01,\n",
       "         1.7729000e+01,  1.0000000e+01,  4.5827700e+00,  2.0000000e+00,\n",
       "         3.6198310e+01,  1.0000000e+00,  1.0000000e+01,  3.8245000e+01,\n",
       "         0.0000000e+00],\n",
       "       [ 1.0000000e+00,  3.4000000e+01,  1.5000000e+01,  4.5000000e+01,\n",
       "         1.2355000e+01,  1.0000000e+01,  5.1100000e+00,  2.0000000e+00,\n",
       "         3.5182910e+01,  2.0000000e+00,  1.0000000e+01,  5.5319000e+01,\n",
       "         0.0000000e+00],\n",
       "       [ 1.0000000e+00,  3.4000000e+01,  1.5000000e+01,  4.5000000e+01,\n",
       "         1.1800000e+01,  0.0000000e+00,  5.3408800e+00,  3.0000000e+00,\n",
       "         3.7797620e+01,  1.0000000e+00,  1.0000000e+01,  3.6900000e+01,\n",
       "         0.0000000e+00],\n",
       "       [ 1.0000000e+00,  3.5000000e+01,  1.5000000e+01,  4.5000000e+01,\n",
       "        -1.0400000e+00,  1.0000000e+01,  5.3408800e+00,  3.0000000e+00,\n",
       "         3.9161740e+01,  1.0000000e+00,  1.0000000e+01,  4.9754000e+01,\n",
       "         0.0000000e+00],\n",
       "       [ 1.0000000e+00,  3.5000000e+01,  1.5000000e+01,  4.5000000e+01,\n",
       "        -1.1000000e+00,  0.0000000e+00,  5.3408800e+00,  3.0000000e+00,\n",
       "         3.9666150e+01,  1.0000000e+00,  1.0000000e+01,  5.5100000e+01,\n",
       "         0.0000000e+00],\n",
       "       [ 1.0000000e+00,  3.5000000e+01,  1.5000000e+01,  4.5000000e+01,\n",
       "        -1.1000000e+00,  2.0000000e+01,  5.3408800e+00,  3.0000000e+00,\n",
       "         3.9377620e+01,  1.0000000e+00,  1.0000000e+01,  5.5100000e+01,\n",
       "         0.0000000e+00],\n",
       "       [ 1.0000000e+00,  3.6000000e+01,  1.5000000e+01,  4.5000000e+01,\n",
       "         9.0700000e+00,  2.0000000e+01,  7.0167900e+00,  4.0000000e+00,\n",
       "         5.3688940e+01,  2.0000000e+00,  1.0000000e+01,  7.7608000e+01,\n",
       "         0.0000000e+00],\n",
       "       [ 1.0000000e+00,  3.7000000e+01,  1.5000000e+01,  4.5000000e+01,\n",
       "        -1.5800000e+00,  2.0000000e+01,  6.7361200e+00,  4.0000000e+00,\n",
       "         5.0441480e+01,  1.0000000e+00,  1.0000000e+01,  8.3953000e+01,\n",
       "         0.0000000e+00],\n",
       "       [ 1.0000000e+00,  3.7000000e+01,  1.5000000e+01,  4.5000000e+01,\n",
       "         9.7000000e+00,  0.0000000e+00,  6.7361200e+00,  4.0000000e+00,\n",
       "         5.0479200e+01,  1.0000000e+00,  1.0000000e+01,  7.2500000e+01,\n",
       "         0.0000000e+00],\n",
       "       [ 1.0000000e+00,  3.7000000e+01,  1.5000000e+01,  4.5000000e+01,\n",
       "         9.7200000e+00,  1.0000000e+01,  6.4770300e+00,  4.0000000e+00,\n",
       "         5.0645560e+01,  1.0000000e+00,  1.0000000e+01,  5.5235000e+01,\n",
       "         0.0000000e+00],\n",
       "       [ 1.0000000e+00,  3.7000000e+01,  1.5000000e+01,  4.5000000e+01,\n",
       "         9.6000000e+00,  0.0000000e+00,  6.7682500e+00,  4.0000000e+00,\n",
       "         5.0205090e+01,  1.0000000e+00,  1.0000000e+01,  5.9800000e+01,\n",
       "         0.0000000e+00],\n",
       "       [ 1.0000000e+00,  3.7000000e+01,  1.5000000e+01,  4.5000000e+01,\n",
       "         9.5800000e+00,  2.0000000e+01,  6.5265300e+00,  4.0000000e+00,\n",
       "         4.9848530e+01,  2.0000000e+00,  1.0000000e+01,  4.2790000e+01,\n",
       "         0.0000000e+00],\n",
       "       [ 1.0000000e+00,  3.8000000e+01,  1.5000000e+01,  4.5000000e+01,\n",
       "         1.7667000e+01,  0.0000000e+00,  6.5227000e+00,  5.0000000e+00,\n",
       "         4.7377830e+01,  1.0000000e+00,  1.0000000e+01,  3.1953000e+01,\n",
       "         0.0000000e+00],\n",
       "       [ 1.0000000e+00,  3.8000000e+01,  1.5000000e+01,  4.5000000e+01,\n",
       "         1.7700000e+01,  0.0000000e+00,  6.3122800e+00,  5.0000000e+00,\n",
       "         4.7348900e+01,  2.0000000e+00,  1.0000000e+01,  3.2000000e+01,\n",
       "         0.0000000e+00],\n",
       "       [ 1.0000000e+00,  3.8000000e+01,  1.5000000e+01,  4.5000000e+01,\n",
       "         2.0300000e+01,  0.0000000e+00,  6.3122800e+00,  5.0000000e+00,\n",
       "         4.9358310e+01,  1.0000000e+00,  1.0000000e+01,  1.7600000e+01,\n",
       "         1.1300000e+01],\n",
       "       [ 1.0000000e+00,  3.8000000e+01,  1.5000000e+01,  4.5000000e+01,\n",
       "         1.1892000e+01,  1.0000000e+01,  6.4751200e+00,  5.0000000e+00,\n",
       "         4.4998280e+01,  2.0000000e+00,  1.0000000e+01,  2.5993000e+01,\n",
       "         1.1295000e+01],\n",
       "       [ 1.0000000e+00,  3.8000000e+01,  1.5000000e+01,  4.5000000e+01,\n",
       "         1.1000000e+01,  0.0000000e+00,  6.3161200e+00,  5.0000000e+00,\n",
       "         4.7027060e+01,  1.0000000e+00,  1.0000000e+01,  3.9800000e+01,\n",
       "         1.1300000e+01],\n",
       "       [ 1.0000000e+00,  3.9000000e+01,  1.5000000e+01,  4.5000000e+01,\n",
       "         2.1510000e+01,  0.0000000e+00,  6.5594800e+00,  5.0000000e+00,\n",
       "         4.5330730e+01,  2.0000000e+00,  1.0000000e+01,  4.0144000e+01,\n",
       "         0.0000000e+00],\n",
       "       [ 1.0000000e+00,  3.9000000e+01,  1.5000000e+01,  4.5000000e+01,\n",
       "         1.1000000e+01,  0.0000000e+00,  6.2441800e+00,  5.0000000e+00,\n",
       "         4.4983300e+01,  1.0000000e+00,  1.0000000e+01,  3.6800000e+01,\n",
       "         0.0000000e+00],\n",
       "       [ 1.0000000e+00,  4.0000000e+01,  1.5000000e+01,  4.5000000e+01,\n",
       "         1.3200000e+01,  0.0000000e+00,  6.1951100e+00,  5.0000000e+00,\n",
       "         4.3628870e+01,  1.0000000e+00,  1.0000000e+01,  4.1900000e+01,\n",
       "         0.0000000e+00],\n",
       "       [ 1.0000000e+00,  4.0000000e+01,  1.5000000e+01,  4.5000000e+01,\n",
       "        -3.5380000e+00,  1.0000000e+01,  6.3828400e+00,  5.0000000e+00,\n",
       "         4.5226300e+01,  1.0000000e+00,  1.0000000e+01,  5.8623000e+01,\n",
       "         0.0000000e+00],\n",
       "       [ 1.0000000e+00,  4.0000000e+01,  1.5000000e+01,  4.5000000e+01,\n",
       "         8.8000000e+00,  0.0000000e+00,  6.4171800e+00,  4.0000000e+00,\n",
       "         4.2950720e+01,  1.0000000e+00,  1.0000000e+01,  4.5600000e+01,\n",
       "         0.0000000e+00],\n",
       "       [ 1.0000000e+00,  4.0000000e+01,  1.5000000e+01,  4.5000000e+01,\n",
       "         8.7620000e+00,  2.0000000e+01,  6.0487500e+00,  4.0000000e+00,\n",
       "         4.3245580e+01,  2.0000000e+00,  1.0000000e+01,  3.8048000e+01,\n",
       "         0.0000000e+00],\n",
       "       [ 1.0000000e+00,  4.0000000e+01,  1.5000000e+01,  4.5000000e+01,\n",
       "         1.1400000e+01,  0.0000000e+00,  6.1541800e+00,  5.0000000e+00,\n",
       "         4.5115640e+01,  1.0000000e+00,  1.0000000e+01,  4.5100000e+01,\n",
       "         0.0000000e+00],\n",
       "       [ 1.0000000e+00,  4.1000000e+01,  1.5000000e+01,  4.5000000e+01,\n",
       "         4.9730000e+00,  1.0000000e+01,  6.1637500e+00,  5.0000000e+00,\n",
       "         4.4075120e+01,  1.0000000e+00,  1.0000000e+01,  5.1527000e+01,\n",
       "         0.0000000e+00],\n",
       "       [ 1.0000000e+00,  3.1000000e+01,  3.5000000e+01,  4.5000000e+01,\n",
       "         0.0000000e+00,  0.0000000e+00,  0.0000000e+00,  0.0000000e+00,\n",
       "         0.0000000e+00,  2.0000000e+00,  1.0000000e+01,  0.0000000e+00,\n",
       "         0.0000000e+00],\n",
       "       [ 1.0000000e+00,  3.1000000e+01,  2.9000000e+01,  4.5000000e+01,\n",
       "         1.8800000e+01,  0.0000000e+00,  0.0000000e+00,  0.0000000e+00,\n",
       "         3.4485500e+01,  3.0000000e+00,  1.0000000e+01,  1.9700000e+01,\n",
       "         0.0000000e+00],\n",
       "       [ 1.0000000e+00,  3.1000000e+01,  2.3000000e+01,  4.5000000e+01,\n",
       "         2.0200000e+01,  0.0000000e+00,  1.1492670e+01,  0.0000000e+00,\n",
       "         3.5047250e+01,  2.0000000e+00,  1.0000000e+01,  5.4200000e+01,\n",
       "         0.0000000e+00],\n",
       "       [ 1.0000000e+00,  3.2000000e+01,  2.3000000e+01,  4.5000000e+01,\n",
       "         4.1100000e+01,  0.0000000e+00,  1.1779800e+01,  1.0000000e+00,\n",
       "         7.3228800e+01,  2.0000000e+00,  1.0000000e+01,  7.8600000e+01,\n",
       "         2.4000000e+00],\n",
       "       [ 1.0000000e+00,  3.2000000e+01,  2.3000000e+01,  4.5000000e+01,\n",
       "         2.5300000e+01,  0.0000000e+00,  1.4516280e+01,  1.0000000e+00,\n",
       "         7.8802970e+01,  3.0000000e+00,  1.0000000e+01,  1.0160000e+02,\n",
       "         2.4000000e+00],\n",
       "       [ 1.0000000e+00,  3.3000000e+01,  2.1000000e+01,  4.5000000e+01,\n",
       "         1.8500000e+01,  0.0000000e+00,  1.7574750e+01,  2.0000000e+00,\n",
       "         1.0739101e+02,  2.0000000e+00,  1.0000000e+01,  1.5200000e+02,\n",
       "         7.9000000e+00],\n",
       "       [ 1.0000000e+00,  3.3000000e+01,  1.7000000e+01,  4.5000000e+01,\n",
       "         3.1300000e+01,  0.0000000e+00,  1.7866850e+01,  2.0000000e+00,\n",
       "         1.0965858e+02,  3.0000000e+00,  1.0000000e+01,  1.4850000e+02,\n",
       "         1.0600000e+01],\n",
       "       [ 1.0000000e+00,  3.3000000e+01,  1.7000000e+01,  4.5000000e+01,\n",
       "         2.6400000e+01,  0.0000000e+00,  1.8678230e+01,  3.0000000e+00,\n",
       "         1.2400858e+02,  2.0000000e+00,  1.0000000e+01,  1.6870000e+02,\n",
       "         2.7000000e+00],\n",
       "       [ 1.0000000e+00,  3.4000000e+01,  1.7000000e+01,  4.5000000e+01,\n",
       "         7.2300000e+01,  0.0000000e+00,  1.8423750e+01,  3.0000000e+00,\n",
       "         1.2021809e+02,  3.0000000e+00,  1.0000000e+01,  1.3680000e+02,\n",
       "         8.8000000e+00],\n",
       "       [ 1.0000000e+00,  3.5000000e+01,  1.7000000e+01,  4.5000000e+01,\n",
       "         7.5000000e+01,  0.0000000e+00,  1.7482020e+01,  4.0000000e+00,\n",
       "         1.1972637e+02,  3.0000000e+00,  1.0000000e+01,  1.0260000e+02,\n",
       "         4.1000000e+00],\n",
       "       [ 1.0000000e+00,  3.6000000e+01,  2.0000000e+01,  4.5000000e+01,\n",
       "         7.6400000e+01,  0.0000000e+00,  1.8350870e+01,  5.0000000e+00,\n",
       "         1.2287551e+02,  3.0000000e+00,  1.0000000e+01,  1.5380000e+02,\n",
       "         9.8000000e+00],\n",
       "       [ 1.0000000e+00,  3.7000000e+01,  2.0000000e+01,  4.5000000e+01,\n",
       "         7.0400000e+01,  0.0000000e+00,  1.6544200e+01,  6.0000000e+00,\n",
       "         1.1652504e+02,  3.0000000e+00,  1.0000000e+01,  5.4400000e+01,\n",
       "         1.6600000e+01],\n",
       "       [ 1.0000000e+00,  3.7000000e+01,  2.0000000e+01,  4.5000000e+01,\n",
       "         7.0300000e+01,  0.0000000e+00,  1.5247540e+01,  5.0000000e+00,\n",
       "         1.0892894e+02,  2.0000000e+00,  1.0000000e+01,  6.1500000e+01,\n",
       "         2.0000000e+01]])"
      ]
     },
     "execution_count": 88,
     "metadata": {},
     "output_type": "execute_result"
    }
   ],
   "source": [
    "X = np.hstack([np.ones((df.shape[0], 1)), X])\n",
    "X"
   ]
  },
  {
   "cell_type": "code",
   "execution_count": 89,
   "metadata": {},
   "outputs": [
    {
     "data": {
      "text/plain": [
       "(63, 13)"
      ]
     },
     "execution_count": 89,
     "metadata": {},
     "output_type": "execute_result"
    }
   ],
   "source": [
    "X.shape"
   ]
  },
  {
   "cell_type": "code",
   "execution_count": 90,
   "metadata": {},
   "outputs": [
    {
     "data": {
      "text/plain": [
       "array([[-3.89395033e+02],\n",
       "       [ 1.66329988e+00],\n",
       "       [-4.49843795e-01],\n",
       "       [ 8.43150986e+00],\n",
       "       [-6.30821472e-01],\n",
       "       [-4.89788819e-01],\n",
       "       [ 7.04815546e-01],\n",
       "       [-4.25951054e+00],\n",
       "       [ 4.64715932e-01],\n",
       "       [ 6.04277824e+00],\n",
       "       [ 1.96351116e+00],\n",
       "       [-1.03332208e-01],\n",
       "       [ 2.61406079e-01]])"
      ]
     },
     "execution_count": 90,
     "metadata": {},
     "output_type": "execute_result"
    }
   ],
   "source": [
    "B = np.dot(np.linalg.inv(np.dot(X.T, X)), X.T@y)\n",
    "B"
   ]
  },
  {
   "cell_type": "code",
   "execution_count": 91,
   "metadata": {},
   "outputs": [
    {
     "data": {
      "text/plain": [
       "(13, 1)"
      ]
     },
     "execution_count": 91,
     "metadata": {},
     "output_type": "execute_result"
    }
   ],
   "source": [
    "B.shape"
   ]
  },
  {
   "cell_type": "code",
   "execution_count": 92,
   "metadata": {},
   "outputs": [
    {
     "data": {
      "text/html": [
       "<div>\n",
       "<style scoped>\n",
       "    .dataframe tbody tr th:only-of-type {\n",
       "        vertical-align: middle;\n",
       "    }\n",
       "\n",
       "    .dataframe tbody tr th {\n",
       "        vertical-align: top;\n",
       "    }\n",
       "\n",
       "    .dataframe thead th {\n",
       "        text-align: right;\n",
       "    }\n",
       "</style>\n",
       "<table border=\"1\" class=\"dataframe\">\n",
       "  <thead>\n",
       "    <tr style=\"text-align: right;\">\n",
       "      <th></th>\n",
       "      <th>y</th>\n",
       "      <th>y_hat</th>\n",
       "    </tr>\n",
       "  </thead>\n",
       "  <tbody>\n",
       "    <tr>\n",
       "      <th>0</th>\n",
       "      <td>1.0</td>\n",
       "      <td>51.941067</td>\n",
       "    </tr>\n",
       "    <tr>\n",
       "      <th>1</th>\n",
       "      <td>9.0</td>\n",
       "      <td>59.194260</td>\n",
       "    </tr>\n",
       "    <tr>\n",
       "      <th>2</th>\n",
       "      <td>7.0</td>\n",
       "      <td>66.079340</td>\n",
       "    </tr>\n",
       "    <tr>\n",
       "      <th>3</th>\n",
       "      <td>11.0</td>\n",
       "      <td>63.081287</td>\n",
       "    </tr>\n",
       "    <tr>\n",
       "      <th>4</th>\n",
       "      <td>42.0</td>\n",
       "      <td>83.325188</td>\n",
       "    </tr>\n",
       "    <tr>\n",
       "      <th>5</th>\n",
       "      <td>11.0</td>\n",
       "      <td>69.758640</td>\n",
       "    </tr>\n",
       "    <tr>\n",
       "      <th>6</th>\n",
       "      <td>31.0</td>\n",
       "      <td>79.473368</td>\n",
       "    </tr>\n",
       "    <tr>\n",
       "      <th>7</th>\n",
       "      <td>36.0</td>\n",
       "      <td>80.465995</td>\n",
       "    </tr>\n",
       "    <tr>\n",
       "      <th>8</th>\n",
       "      <td>1.0</td>\n",
       "      <td>62.157197</td>\n",
       "    </tr>\n",
       "    <tr>\n",
       "      <th>9</th>\n",
       "      <td>33.0</td>\n",
       "      <td>76.325921</td>\n",
       "    </tr>\n",
       "    <tr>\n",
       "      <th>10</th>\n",
       "      <td>6.0</td>\n",
       "      <td>59.036358</td>\n",
       "    </tr>\n",
       "    <tr>\n",
       "      <th>11</th>\n",
       "      <td>6.0</td>\n",
       "      <td>57.691359</td>\n",
       "    </tr>\n",
       "    <tr>\n",
       "      <th>12</th>\n",
       "      <td>20.0</td>\n",
       "      <td>62.826555</td>\n",
       "    </tr>\n",
       "    <tr>\n",
       "      <th>13</th>\n",
       "      <td>6.0</td>\n",
       "      <td>53.523386</td>\n",
       "    </tr>\n",
       "    <tr>\n",
       "      <th>14</th>\n",
       "      <td>10.0</td>\n",
       "      <td>55.567158</td>\n",
       "    </tr>\n",
       "    <tr>\n",
       "      <th>15</th>\n",
       "      <td>10.0</td>\n",
       "      <td>60.863959</td>\n",
       "    </tr>\n",
       "    <tr>\n",
       "      <th>16</th>\n",
       "      <td>20.0</td>\n",
       "      <td>62.285771</td>\n",
       "    </tr>\n",
       "    <tr>\n",
       "      <th>17</th>\n",
       "      <td>10.0</td>\n",
       "      <td>63.126053</td>\n",
       "    </tr>\n",
       "    <tr>\n",
       "      <th>18</th>\n",
       "      <td>10.0</td>\n",
       "      <td>65.667668</td>\n",
       "    </tr>\n",
       "    <tr>\n",
       "      <th>19</th>\n",
       "      <td>10.0</td>\n",
       "      <td>54.463053</td>\n",
       "    </tr>\n",
       "  </tbody>\n",
       "</table>\n",
       "</div>"
      ],
      "text/plain": [
       "       y      y_hat\n",
       "0    1.0  51.941067\n",
       "1    9.0  59.194260\n",
       "2    7.0  66.079340\n",
       "3   11.0  63.081287\n",
       "4   42.0  83.325188\n",
       "5   11.0  69.758640\n",
       "6   31.0  79.473368\n",
       "7   36.0  80.465995\n",
       "8    1.0  62.157197\n",
       "9   33.0  76.325921\n",
       "10   6.0  59.036358\n",
       "11   6.0  57.691359\n",
       "12  20.0  62.826555\n",
       "13   6.0  53.523386\n",
       "14  10.0  55.567158\n",
       "15  10.0  60.863959\n",
       "16  20.0  62.285771\n",
       "17  10.0  63.126053\n",
       "18  10.0  65.667668\n",
       "19  10.0  54.463053"
      ]
     },
     "execution_count": 92,
     "metadata": {},
     "output_type": "execute_result"
    }
   ],
   "source": [
    "df2 = pd.DataFrame(data=y, columns=['y'])\n",
    "df2['y_hat'] = np.dot(X, B)\n",
    "df2.head(20)"
   ]
  },
  {
   "cell_type": "code",
   "execution_count": 93,
   "metadata": {},
   "outputs": [
    {
     "data": {
      "image/png": "[encoded data removed]",
      "text/plain": [
       "<Figure size 1296x864 with 1 Axes>"
      ]
     },
     "metadata": {
      "needs_background": "light"
     },
     "output_type": "display_data"
    }
   ],
   "source": [
    "rcParams[\"figure.figsize\"] = 18, 12\n",
    "\n",
    "plt.scatter(df2.index, df2['y'])\n",
    "plt.scatter(df2.index, df2['y_hat'])\n",
    "plt.title(\"Сравнение реального количества к заказу и предсказанного\")\n",
    "plt.show()"
   ]
  },
  {
   "cell_type": "code",
   "execution_count": 43,
   "metadata": {},
   "outputs": [
    {
     "data": {
      "text/plain": [
       "218.73010407551692"
      ]
     },
     "execution_count": 43,
     "metadata": {},
     "output_type": "execute_result"
    }
   ],
   "source": [
    "mse = ((y-np.dot(X, B))**2).sum()/659803\n",
    "mse"
   ]
  },
  {
   "cell_type": "code",
   "execution_count": 44,
   "metadata": {},
   "outputs": [
    {
     "data": {
      "text/plain": [
       "58.16637593750193"
      ]
     },
     "execution_count": 44,
     "metadata": {},
     "output_type": "execute_result"
    }
   ],
   "source": [
    "A_mean = 100 * np.mean(np.abs((y - np.dot(X, B)) / y))\n",
    "A_mean"
   ]
  },
  {
   "cell_type": "markdown",
   "metadata": {},
   "source": [
    "Проверим, является ли полученная модель статистически значимой с помощью критерия Фишера. Установим уровень значимости альфа = 0,05. \n",
    "* 1) H0: модель не является статистически значимой\n",
    "* 2) H1: модель является статистически значимой"
   ]
  },
  {
   "cell_type": "code",
   "execution_count": 21,
   "metadata": {},
   "outputs": [],
   "source": [
    "n = 659803\n",
    "p = 17\n",
    "alpha = 0.05"
   ]
  },
  {
   "cell_type": "code",
   "execution_count": 22,
   "metadata": {},
   "outputs": [
    {
     "data": {
      "text/plain": [
       "16"
      ]
     },
     "execution_count": 22,
     "metadata": {},
     "output_type": "execute_result"
    }
   ],
   "source": [
    "df1 = p - 1\n",
    "df1"
   ]
  },
  {
   "cell_type": "code",
   "execution_count": 23,
   "metadata": {},
   "outputs": [
    {
     "data": {
      "text/plain": [
       "659786"
      ]
     },
     "execution_count": 23,
     "metadata": {},
     "output_type": "execute_result"
    }
   ],
   "source": [
    "df2 = n - p\n",
    "df2"
   ]
  },
  {
   "cell_type": "code",
   "execution_count": 25,
   "metadata": {},
   "outputs": [
    {
     "data": {
      "text/plain": [
       "880105113.1265177"
      ]
     },
     "execution_count": 25,
     "metadata": {},
     "output_type": "execute_result"
    }
   ],
   "source": [
    "SSf = ((np.dot(X, B) - y.mean())**2).sum()\n",
    "SSf"
   ]
  },
  {
   "cell_type": "code",
   "execution_count": 26,
   "metadata": {},
   "outputs": [
    {
     "data": {
      "text/plain": [
       "138238565.96820495"
      ]
     },
     "execution_count": 26,
     "metadata": {},
     "output_type": "execute_result"
    }
   ],
   "source": [
    "SSo = ((y-np.dot(X, B))**2).sum()\n",
    "SSo"
   ]
  },
  {
   "cell_type": "code",
   "execution_count": 27,
   "metadata": {},
   "outputs": [
    {
     "data": {
      "text/plain": [
       "55006569.57040735"
      ]
     },
     "execution_count": 27,
     "metadata": {},
     "output_type": "execute_result"
    }
   ],
   "source": [
    "MSf = SSf / df1\n",
    "MSf"
   ]
  },
  {
   "cell_type": "code",
   "execution_count": 28,
   "metadata": {},
   "outputs": [
    {
     "data": {
      "text/plain": [
       "209.5203080517091"
      ]
     },
     "execution_count": 28,
     "metadata": {},
     "output_type": "execute_result"
    }
   ],
   "source": [
    "MSo = SSo / df2\n",
    "MSo"
   ]
  },
  {
   "cell_type": "code",
   "execution_count": 29,
   "metadata": {},
   "outputs": [
    {
     "data": {
      "text/plain": [
       "262535.74215265026"
      ]
     },
     "execution_count": 29,
     "metadata": {},
     "output_type": "execute_result"
    }
   ],
   "source": [
    "Fp = MSf / MSo\n",
    "Fp"
   ]
  },
  {
   "cell_type": "code",
   "execution_count": null,
   "metadata": {},
   "outputs": [],
   "source": [
    "Ft = 1.75"
   ]
  },
  {
   "cell_type": "markdown",
   "metadata": {},
   "source": [
    "Fp > Ft модель является статистически значимой на уровне значимости альфа = 0,05"
   ]
  },
  {
   "cell_type": "code",
   "execution_count": 31,
   "metadata": {},
   "outputs": [
    {
     "name": "stderr",
     "output_type": "stream",
     "text": [
      "Enabling notebook extension jupyter-js-widgets/extension...\n",
      "      - Validating: ok\n"
     ]
    }
   ],
   "source": [
    "!pip install -U -q ipywidgets\n",
    "!jupyter nbextension enable --py widgetsnbextension"
   ]
  },
  {
   "cell_type": "code",
   "execution_count": 30,
   "metadata": {},
   "outputs": [],
   "source": [
    "import pylab\n",
    "import matplotlib.dates\n",
    "from pylab import rcParams\n",
    "\n",
    "\n",
    "import ipywidgets as widgets\n",
    "from ipywidgets import interact, interact_manual\n",
    "from IPython.display import Image, display, HTML"
   ]
  },
  {
   "cell_type": "code",
   "execution_count": 32,
   "metadata": {},
   "outputs": [],
   "source": [
    "df = pd.read_csv('Order1c_pred.csv')"
   ]
  },
  {
   "cell_type": "code",
   "execution_count": 46,
   "metadata": {},
   "outputs": [
    {
     "data": {
      "application/vnd.jupyter.widget-view+json": {
       "model_id": "7ea0cb9d2d204215b4ec51f068c787f2",
       "version_major": 2,
       "version_minor": 0
      },
      "text/plain": [
       "interactive(children=(Dropdown(description='Год заказа:', options=(2018, 2016, 2017, 2015), value=2018), Dropd…"
      ]
     },
     "metadata": {},
     "output_type": "display_data"
    }
   ],
   "source": [
    "def plot_up_to(year, goods):   \n",
    "    result = df.query(f'(КодТовара == \"{goods}\") & (ГодЗаказа == \"{year}\")')\n",
    "    xdata = result['НеделяЗаказа']\n",
    "    ydata = result['ЗКЗ_ИТГ_ШТ']\n",
    "    rcParams[\"figure.figsize\"] = 10, 8\n",
    "\n",
    "    plt.scatter(xdata,ydata)\n",
    "    plt.title('Количество к заказу товара по неделям')\n",
    "    plt.show()\n",
    "\n",
    "_ = interact(plot_up_to, year=widgets.Dropdown(options=list(df[\"ГодЗаказа\"].unique()), value=2018, description='Год заказа:'), \n",
    "             goods=widgets.Dropdown(options=list(df[\"КодТовара\"].unique()), description='Код товара:'))"
   ]
  }
 ],
 "metadata": {
  "kernelspec": {
   "display_name": "Python 3",
   "language": "python",
   "name": "python3"
  },
  "language_info": {
   "codemirror_mode": {
    "name": "ipython",
    "version": 3
   },
   "file_extension": ".py",
   "mimetype": "text/x-python",
   "name": "python",
   "nbconvert_exporter": "python",
   "pygments_lexer": "ipython3",
   "version": "3.7.5"
  }
 },
 "nbformat": 4,
 "nbformat_minor": 2
}
