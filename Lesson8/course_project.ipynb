{
 "cells": [
  {
   "cell_type": "markdown",
   "metadata": {},
   "source": [
    "***Тема курсового проекта: \"Спрогнозировать себестоимость в рублях с помощью модели линейной регрессии y_hat = b0 + b1*x1 + b2*x2 + ... bn*xn матричным способом\"***"
   ]
  },
  {
   "cell_type": "markdown",
   "metadata": {},
   "source": [
    "**Описание датасета**\n",
    "\n",
    "* **НомерЗаказа**     - номер документа Автозаказ в программе 1с\n",
    "* **ГодЗаказа**       - год из поля дата документа Автозаказ\n",
    "* **МесяцЗаказа**     - месяц из поля дата документа Автозаказ\n",
    "* **ДеньЗаказа**      - день из поля дата документа Автозаказ\n",
    "* **НеделяЗаказа**    - номер недели из поля дата документа Автозаказ\n",
    "* **КодТовара**       - код товара, количество которого необходимо заказать (из табличной части документа Автозаказ)\n",
    "* **ЦЕНА_ЗКП_РУБ**    - цена закупочная в рублях\n",
    "* **СРОК_ГДН_ОСТ_Д**  - срок годности остаточный, в днях\n",
    "* **ОСТ_ТЕК_ШТ**      - текущий остаток в шт/кг\n",
    "* **ТОВ_В_ПУТ_СУМ_ШТ**- товара в пути в шт/кг\n",
    "* **ПРДЖ_СР_ШТ_ДО**   - продажи средние шт/кг\n",
    "* **КВО_ПРДЖ_БАЗА_ШТ**- продажи базовые в шт\n",
    "* **ПРДЖ_БАЗА_СР_ШТ** - продажи, базовые, средние, шт/кг\n",
    "* **ППП_ДЛН_Д**       - период покрытия продаж длительность дней\n",
    "* **ТРБ_МАГ_КВНТ_ШТ** - требование магазина, квант, шт/кг\n",
    "* **ПРДЖ_ШТ_НЕД**     - недельные продажи \n",
    "* **СПИС_ШТ_НЕД**     - недельные списания \n",
    "\n",
    "* **ЗКЗ_ИТГ_ШТ**    - количество к заказу, наша целевая переменная, которую мы будем пытаться предсказать"
   ]
  },
  {
   "cell_type": "code",
   "execution_count": 67,
   "metadata": {},
   "outputs": [],
   "source": [
    "import numpy as np\n",
    "import pandas as pd\n",
    "import matplotlib.pyplot as plt\n",
    "import seaborn as sns\n",
    "from pylab import rcParams\n",
    "%matplotlib inline"
   ]
  },
  {
   "cell_type": "code",
   "execution_count": 68,
   "metadata": {},
   "outputs": [
    {
     "data": {
      "text/html": [
       "<div>\n",
       "<style scoped>\n",
       "    .dataframe tbody tr th:only-of-type {\n",
       "        vertical-align: middle;\n",
       "    }\n",
       "\n",
       "    .dataframe tbody tr th {\n",
       "        vertical-align: top;\n",
       "    }\n",
       "\n",
       "    .dataframe thead th {\n",
       "        text-align: right;\n",
       "    }\n",
       "</style>\n",
       "<table border=\"1\" class=\"dataframe\">\n",
       "  <thead>\n",
       "    <tr style=\"text-align: right;\">\n",
       "      <th></th>\n",
       "      <th>НомерЗаказа</th>\n",
       "      <th>ГодЗаказа</th>\n",
       "      <th>МесяцЗаказа</th>\n",
       "      <th>ДеньЗаказа</th>\n",
       "      <th>НеделяЗаказа</th>\n",
       "      <th>КодТовара</th>\n",
       "      <th>ЦЕНА_ЗКП_РУБ</th>\n",
       "      <th>СРОК_ГДН_ОСТ_Д</th>\n",
       "      <th>ОСТ_ТЕК_ШТ</th>\n",
       "      <th>ТОВ_В_ПУТ_СУМ_ШТ</th>\n",
       "      <th>ПРДЖ_СР_ШТ_ДО</th>\n",
       "      <th>КВО_ПРДЖ_БАЗА_ШТ</th>\n",
       "      <th>ПРДЖ_БАЗА_СР_ШТ</th>\n",
       "      <th>ППП_ДЛН_Д</th>\n",
       "      <th>ТРБ_МАГ_КВНТ_ШТ</th>\n",
       "      <th>ПРДЖ_ШТ_НЕД</th>\n",
       "      <th>СПИС_ШТ_НЕД</th>\n",
       "      <th>ЗКЗ_ИТГ_ШТ</th>\n",
       "      <th>Себестоимость</th>\n",
       "    </tr>\n",
       "  </thead>\n",
       "  <tbody>\n",
       "    <tr>\n",
       "      <th>0</th>\n",
       "      <td>M3300009893</td>\n",
       "      <td>2018</td>\n",
       "      <td>4</td>\n",
       "      <td>24</td>\n",
       "      <td>17</td>\n",
       "      <td>389 965</td>\n",
       "      <td>67.85</td>\n",
       "      <td>245</td>\n",
       "      <td>21.0</td>\n",
       "      <td>0.0</td>\n",
       "      <td>0.68421</td>\n",
       "      <td>3</td>\n",
       "      <td>5.50612</td>\n",
       "      <td>14</td>\n",
       "      <td>6.0</td>\n",
       "      <td>2.0</td>\n",
       "      <td>0.0</td>\n",
       "      <td>6.0</td>\n",
       "      <td>203.55</td>\n",
       "    </tr>\n",
       "    <tr>\n",
       "      <th>1</th>\n",
       "      <td>M3300009893</td>\n",
       "      <td>2018</td>\n",
       "      <td>4</td>\n",
       "      <td>24</td>\n",
       "      <td>17</td>\n",
       "      <td>389 970</td>\n",
       "      <td>36.03</td>\n",
       "      <td>245</td>\n",
       "      <td>14.0</td>\n",
       "      <td>0.0</td>\n",
       "      <td>0.45714</td>\n",
       "      <td>5</td>\n",
       "      <td>3.28168</td>\n",
       "      <td>14</td>\n",
       "      <td>12.0</td>\n",
       "      <td>3.0</td>\n",
       "      <td>0.0</td>\n",
       "      <td>12.0</td>\n",
       "      <td>180.15</td>\n",
       "    </tr>\n",
       "    <tr>\n",
       "      <th>2</th>\n",
       "      <td>M3300009893</td>\n",
       "      <td>2018</td>\n",
       "      <td>4</td>\n",
       "      <td>24</td>\n",
       "      <td>17</td>\n",
       "      <td>366 976</td>\n",
       "      <td>30.54</td>\n",
       "      <td>482</td>\n",
       "      <td>12.0</td>\n",
       "      <td>0.0</td>\n",
       "      <td>0.31428</td>\n",
       "      <td>5</td>\n",
       "      <td>2.20001</td>\n",
       "      <td>14</td>\n",
       "      <td>6.0</td>\n",
       "      <td>0.0</td>\n",
       "      <td>0.0</td>\n",
       "      <td>6.0</td>\n",
       "      <td>152.70</td>\n",
       "    </tr>\n",
       "    <tr>\n",
       "      <th>3</th>\n",
       "      <td>M3300009893</td>\n",
       "      <td>2018</td>\n",
       "      <td>4</td>\n",
       "      <td>24</td>\n",
       "      <td>17</td>\n",
       "      <td>367 448</td>\n",
       "      <td>46.40</td>\n",
       "      <td>241</td>\n",
       "      <td>11.0</td>\n",
       "      <td>0.0</td>\n",
       "      <td>0.10345</td>\n",
       "      <td>4</td>\n",
       "      <td>0.79365</td>\n",
       "      <td>14</td>\n",
       "      <td>10.0</td>\n",
       "      <td>0.0</td>\n",
       "      <td>1.0</td>\n",
       "      <td>10.0</td>\n",
       "      <td>185.60</td>\n",
       "    </tr>\n",
       "    <tr>\n",
       "      <th>4</th>\n",
       "      <td>M3300009893</td>\n",
       "      <td>2018</td>\n",
       "      <td>4</td>\n",
       "      <td>24</td>\n",
       "      <td>17</td>\n",
       "      <td>260 461</td>\n",
       "      <td>50.92</td>\n",
       "      <td>245</td>\n",
       "      <td>12.0</td>\n",
       "      <td>0.0</td>\n",
       "      <td>0.39999</td>\n",
       "      <td>5</td>\n",
       "      <td>2.62693</td>\n",
       "      <td>14</td>\n",
       "      <td>12.0</td>\n",
       "      <td>4.0</td>\n",
       "      <td>0.0</td>\n",
       "      <td>12.0</td>\n",
       "      <td>254.60</td>\n",
       "    </tr>\n",
       "  </tbody>\n",
       "</table>\n",
       "</div>"
      ],
      "text/plain": [
       "   НомерЗаказа  ГодЗаказа  МесяцЗаказа  ДеньЗаказа  НеделяЗаказа КодТовара  \\\n",
       "0  M3300009893       2018            4          24            17   389 965   \n",
       "1  M3300009893       2018            4          24            17   389 970   \n",
       "2  M3300009893       2018            4          24            17   366 976   \n",
       "3  M3300009893       2018            4          24            17   367 448   \n",
       "4  M3300009893       2018            4          24            17   260 461   \n",
       "\n",
       "   ЦЕНА_ЗКП_РУБ  СРОК_ГДН_ОСТ_Д  ОСТ_ТЕК_ШТ  ТОВ_В_ПУТ_СУМ_ШТ  ПРДЖ_СР_ШТ_ДО  \\\n",
       "0         67.85             245        21.0               0.0        0.68421   \n",
       "1         36.03             245        14.0               0.0        0.45714   \n",
       "2         30.54             482        12.0               0.0        0.31428   \n",
       "3         46.40             241        11.0               0.0        0.10345   \n",
       "4         50.92             245        12.0               0.0        0.39999   \n",
       "\n",
       "   КВО_ПРДЖ_БАЗА_ШТ  ПРДЖ_БАЗА_СР_ШТ  ППП_ДЛН_Д  ТРБ_МАГ_КВНТ_ШТ  ПРДЖ_ШТ_НЕД  \\\n",
       "0                 3          5.50612         14              6.0          2.0   \n",
       "1                 5          3.28168         14             12.0          3.0   \n",
       "2                 5          2.20001         14              6.0          0.0   \n",
       "3                 4          0.79365         14             10.0          0.0   \n",
       "4                 5          2.62693         14             12.0          4.0   \n",
       "\n",
       "   СПИС_ШТ_НЕД  ЗКЗ_ИТГ_ШТ  Себестоимость  \n",
       "0          0.0         6.0         203.55  \n",
       "1          0.0        12.0         180.15  \n",
       "2          0.0         6.0         152.70  \n",
       "3          1.0        10.0         185.60  \n",
       "4          0.0        12.0         254.60  "
      ]
     },
     "execution_count": 68,
     "metadata": {},
     "output_type": "execute_result"
    }
   ],
   "source": [
    "df = pd.read_csv('Order1c_pred.csv')\n",
    "df['Себестоимость'] = df['ЦЕНА_ЗКП_РУБ']*df['КВО_ПРДЖ_БАЗА_ШТ']\n",
    "df.head()"
   ]
  },
  {
   "cell_type": "code",
   "execution_count": 69,
   "metadata": {},
   "outputs": [
    {
     "name": "stdout",
     "output_type": "stream",
     "text": [
      "<class 'pandas.core.frame.DataFrame'>\n",
      "RangeIndex: 659803 entries, 0 to 659802\n",
      "Data columns (total 19 columns):\n",
      "НомерЗаказа         659803 non-null object\n",
      "ГодЗаказа           659803 non-null int64\n",
      "МесяцЗаказа         659803 non-null int64\n",
      "ДеньЗаказа          659803 non-null int64\n",
      "НеделяЗаказа        659803 non-null int64\n",
      "КодТовара           659803 non-null object\n",
      "ЦЕНА_ЗКП_РУБ        659803 non-null float64\n",
      "СРОК_ГДН_ОСТ_Д      659803 non-null int64\n",
      "ОСТ_ТЕК_ШТ          659803 non-null float64\n",
      "ТОВ_В_ПУТ_СУМ_ШТ    659803 non-null float64\n",
      "ПРДЖ_СР_ШТ_ДО       659803 non-null float64\n",
      "КВО_ПРДЖ_БАЗА_ШТ    659803 non-null int64\n",
      "ПРДЖ_БАЗА_СР_ШТ     659803 non-null float64\n",
      "ППП_ДЛН_Д           659803 non-null int64\n",
      "ТРБ_МАГ_КВНТ_ШТ     659803 non-null float64\n",
      "ПРДЖ_ШТ_НЕД         659803 non-null float64\n",
      "СПИС_ШТ_НЕД         659803 non-null float64\n",
      "ЗКЗ_ИТГ_ШТ          659803 non-null float64\n",
      "Себестоимость       659803 non-null float64\n",
      "dtypes: float64(10), int64(7), object(2)\n",
      "memory usage: 95.6+ MB\n"
     ]
    }
   ],
   "source": [
    "df.info()"
   ]
  },
  {
   "cell_type": "markdown",
   "metadata": {},
   "source": [
    "Найдем топ самых частовстречающихся строк с товарами"
   ]
  },
  {
   "cell_type": "code",
   "execution_count": 70,
   "metadata": {},
   "outputs": [
    {
     "data": {
      "text/plain": [
       "84 566     1021\n",
       "84 560     1012\n",
       "33 793     1011\n",
       "85 009     1010\n",
       "214 116     996\n",
       "Name: КодТовара, dtype: int64"
      ]
     },
     "execution_count": 70,
     "metadata": {},
     "output_type": "execute_result"
    }
   ],
   "source": [
    "df['КодТовара'].value_counts().head()"
   ]
  },
  {
   "cell_type": "markdown",
   "metadata": {},
   "source": [
    "Сделаем выборку по первому товару из списка с кодом 84566"
   ]
  },
  {
   "cell_type": "code",
   "execution_count": 71,
   "metadata": {},
   "outputs": [
    {
     "data": {
      "text/html": [
       "<div>\n",
       "<style scoped>\n",
       "    .dataframe tbody tr th:only-of-type {\n",
       "        vertical-align: middle;\n",
       "    }\n",
       "\n",
       "    .dataframe tbody tr th {\n",
       "        vertical-align: top;\n",
       "    }\n",
       "\n",
       "    .dataframe thead th {\n",
       "        text-align: right;\n",
       "    }\n",
       "</style>\n",
       "<table border=\"1\" class=\"dataframe\">\n",
       "  <thead>\n",
       "    <tr style=\"text-align: right;\">\n",
       "      <th></th>\n",
       "      <th>НомерЗаказа</th>\n",
       "      <th>ГодЗаказа</th>\n",
       "      <th>МесяцЗаказа</th>\n",
       "      <th>ДеньЗаказа</th>\n",
       "      <th>НеделяЗаказа</th>\n",
       "      <th>КодТовара</th>\n",
       "      <th>ЦЕНА_ЗКП_РУБ</th>\n",
       "      <th>СРОК_ГДН_ОСТ_Д</th>\n",
       "      <th>ОСТ_ТЕК_ШТ</th>\n",
       "      <th>ТОВ_В_ПУТ_СУМ_ШТ</th>\n",
       "      <th>ПРДЖ_СР_ШТ_ДО</th>\n",
       "      <th>КВО_ПРДЖ_БАЗА_ШТ</th>\n",
       "      <th>ПРДЖ_БАЗА_СР_ШТ</th>\n",
       "      <th>ППП_ДЛН_Д</th>\n",
       "      <th>ТРБ_МАГ_КВНТ_ШТ</th>\n",
       "      <th>ПРДЖ_ШТ_НЕД</th>\n",
       "      <th>СПИС_ШТ_НЕД</th>\n",
       "      <th>ЗКЗ_ИТГ_ШТ</th>\n",
       "      <th>Себестоимость</th>\n",
       "    </tr>\n",
       "  </thead>\n",
       "  <tbody>\n",
       "    <tr>\n",
       "      <th>1190</th>\n",
       "      <td>M3300009980</td>\n",
       "      <td>2018</td>\n",
       "      <td>4</td>\n",
       "      <td>24</td>\n",
       "      <td>17</td>\n",
       "      <td>84566</td>\n",
       "      <td>21.4</td>\n",
       "      <td>2</td>\n",
       "      <td>0.0</td>\n",
       "      <td>10.0</td>\n",
       "      <td>8.18181</td>\n",
       "      <td>4</td>\n",
       "      <td>57.86321</td>\n",
       "      <td>1</td>\n",
       "      <td>1.0</td>\n",
       "      <td>65.0</td>\n",
       "      <td>3.0</td>\n",
       "      <td>14.0</td>\n",
       "      <td>85.6</td>\n",
       "    </tr>\n",
       "    <tr>\n",
       "      <th>1368</th>\n",
       "      <td>M3300010449</td>\n",
       "      <td>2018</td>\n",
       "      <td>4</td>\n",
       "      <td>29</td>\n",
       "      <td>17</td>\n",
       "      <td>84566</td>\n",
       "      <td>21.4</td>\n",
       "      <td>2</td>\n",
       "      <td>0.0</td>\n",
       "      <td>12.0</td>\n",
       "      <td>8.10000</td>\n",
       "      <td>3</td>\n",
       "      <td>58.27958</td>\n",
       "      <td>1</td>\n",
       "      <td>1.0</td>\n",
       "      <td>59.0</td>\n",
       "      <td>2.0</td>\n",
       "      <td>14.0</td>\n",
       "      <td>64.2</td>\n",
       "    </tr>\n",
       "    <tr>\n",
       "      <th>1799</th>\n",
       "      <td>M3300010577</td>\n",
       "      <td>2018</td>\n",
       "      <td>5</td>\n",
       "      <td>2</td>\n",
       "      <td>18</td>\n",
       "      <td>84566</td>\n",
       "      <td>21.4</td>\n",
       "      <td>2</td>\n",
       "      <td>10.0</td>\n",
       "      <td>8.0</td>\n",
       "      <td>8.10000</td>\n",
       "      <td>3</td>\n",
       "      <td>58.22726</td>\n",
       "      <td>1</td>\n",
       "      <td>1.0</td>\n",
       "      <td>53.0</td>\n",
       "      <td>3.0</td>\n",
       "      <td>6.0</td>\n",
       "      <td>64.2</td>\n",
       "    </tr>\n",
       "    <tr>\n",
       "      <th>3835</th>\n",
       "      <td>M3300010090</td>\n",
       "      <td>2018</td>\n",
       "      <td>4</td>\n",
       "      <td>25</td>\n",
       "      <td>17</td>\n",
       "      <td>84566</td>\n",
       "      <td>21.4</td>\n",
       "      <td>2</td>\n",
       "      <td>4.0</td>\n",
       "      <td>10.0</td>\n",
       "      <td>8.18181</td>\n",
       "      <td>4</td>\n",
       "      <td>57.83369</td>\n",
       "      <td>1</td>\n",
       "      <td>1.0</td>\n",
       "      <td>64.0</td>\n",
       "      <td>3.0</td>\n",
       "      <td>11.0</td>\n",
       "      <td>85.6</td>\n",
       "    </tr>\n",
       "    <tr>\n",
       "      <th>3842</th>\n",
       "      <td>M3300010484</td>\n",
       "      <td>2018</td>\n",
       "      <td>4</td>\n",
       "      <td>30</td>\n",
       "      <td>18</td>\n",
       "      <td>84566</td>\n",
       "      <td>21.4</td>\n",
       "      <td>2</td>\n",
       "      <td>4.0</td>\n",
       "      <td>12.0</td>\n",
       "      <td>8.10000</td>\n",
       "      <td>3</td>\n",
       "      <td>58.17608</td>\n",
       "      <td>1</td>\n",
       "      <td>1.0</td>\n",
       "      <td>60.0</td>\n",
       "      <td>2.0</td>\n",
       "      <td>10.0</td>\n",
       "      <td>64.2</td>\n",
       "    </tr>\n",
       "  </tbody>\n",
       "</table>\n",
       "</div>"
      ],
      "text/plain": [
       "      НомерЗаказа  ГодЗаказа  МесяцЗаказа  ДеньЗаказа  НеделяЗаказа КодТовара  \\\n",
       "1190  M3300009980       2018            4          24            17     84566   \n",
       "1368  M3300010449       2018            4          29            17     84566   \n",
       "1799  M3300010577       2018            5           2            18     84566   \n",
       "3835  M3300010090       2018            4          25            17     84566   \n",
       "3842  M3300010484       2018            4          30            18     84566   \n",
       "\n",
       "      ЦЕНА_ЗКП_РУБ  СРОК_ГДН_ОСТ_Д  ОСТ_ТЕК_ШТ  ТОВ_В_ПУТ_СУМ_ШТ  \\\n",
       "1190          21.4               2         0.0              10.0   \n",
       "1368          21.4               2         0.0              12.0   \n",
       "1799          21.4               2        10.0               8.0   \n",
       "3835          21.4               2         4.0              10.0   \n",
       "3842          21.4               2         4.0              12.0   \n",
       "\n",
       "      ПРДЖ_СР_ШТ_ДО  КВО_ПРДЖ_БАЗА_ШТ  ПРДЖ_БАЗА_СР_ШТ  ППП_ДЛН_Д  \\\n",
       "1190        8.18181                 4         57.86321          1   \n",
       "1368        8.10000                 3         58.27958          1   \n",
       "1799        8.10000                 3         58.22726          1   \n",
       "3835        8.18181                 4         57.83369          1   \n",
       "3842        8.10000                 3         58.17608          1   \n",
       "\n",
       "      ТРБ_МАГ_КВНТ_ШТ  ПРДЖ_ШТ_НЕД  СПИС_ШТ_НЕД  ЗКЗ_ИТГ_ШТ  Себестоимость  \n",
       "1190              1.0         65.0          3.0        14.0           85.6  \n",
       "1368              1.0         59.0          2.0        14.0           64.2  \n",
       "1799              1.0         53.0          3.0         6.0           64.2  \n",
       "3835              1.0         64.0          3.0        11.0           85.6  \n",
       "3842              1.0         60.0          2.0        10.0           64.2  "
      ]
     },
     "execution_count": 71,
     "metadata": {},
     "output_type": "execute_result"
    }
   ],
   "source": [
    "df['КодТовара'] = df['КодТовара'].str.replace('\\s', '')\n",
    "df_filter = df['КодТовара'].isin([\"84566\"])\n",
    "df = df[df_filter]\n",
    "\n",
    "df.head()"
   ]
  },
  {
   "cell_type": "code",
   "execution_count": 72,
   "metadata": {
    "scrolled": true
   },
   "outputs": [
    {
     "data": {
      "text/html": [
       "<div>\n",
       "<style scoped>\n",
       "    .dataframe tbody tr th:only-of-type {\n",
       "        vertical-align: middle;\n",
       "    }\n",
       "\n",
       "    .dataframe tbody tr th {\n",
       "        vertical-align: top;\n",
       "    }\n",
       "\n",
       "    .dataframe thead th {\n",
       "        text-align: right;\n",
       "    }\n",
       "</style>\n",
       "<table border=\"1\" class=\"dataframe\">\n",
       "  <thead>\n",
       "    <tr style=\"text-align: right;\">\n",
       "      <th></th>\n",
       "      <th>ГодЗаказа</th>\n",
       "      <th>МесяцЗаказа</th>\n",
       "      <th>ДеньЗаказа</th>\n",
       "      <th>НеделяЗаказа</th>\n",
       "      <th>ЦЕНА_ЗКП_РУБ</th>\n",
       "      <th>СРОК_ГДН_ОСТ_Д</th>\n",
       "      <th>ОСТ_ТЕК_ШТ</th>\n",
       "      <th>ТОВ_В_ПУТ_СУМ_ШТ</th>\n",
       "      <th>ПРДЖ_СР_ШТ_ДО</th>\n",
       "      <th>КВО_ПРДЖ_БАЗА_ШТ</th>\n",
       "      <th>ПРДЖ_БАЗА_СР_ШТ</th>\n",
       "      <th>ППП_ДЛН_Д</th>\n",
       "      <th>ТРБ_МАГ_КВНТ_ШТ</th>\n",
       "      <th>ПРДЖ_ШТ_НЕД</th>\n",
       "      <th>СПИС_ШТ_НЕД</th>\n",
       "      <th>ЗКЗ_ИТГ_ШТ</th>\n",
       "      <th>Себестоимость</th>\n",
       "    </tr>\n",
       "  </thead>\n",
       "  <tbody>\n",
       "    <tr>\n",
       "      <th>1190</th>\n",
       "      <td>2018</td>\n",
       "      <td>4</td>\n",
       "      <td>24</td>\n",
       "      <td>17</td>\n",
       "      <td>21.4</td>\n",
       "      <td>2</td>\n",
       "      <td>0.0</td>\n",
       "      <td>10.0</td>\n",
       "      <td>8.18181</td>\n",
       "      <td>4</td>\n",
       "      <td>57.86321</td>\n",
       "      <td>1</td>\n",
       "      <td>1.0</td>\n",
       "      <td>65.0</td>\n",
       "      <td>3.0</td>\n",
       "      <td>14.0</td>\n",
       "      <td>85.6</td>\n",
       "    </tr>\n",
       "    <tr>\n",
       "      <th>1368</th>\n",
       "      <td>2018</td>\n",
       "      <td>4</td>\n",
       "      <td>29</td>\n",
       "      <td>17</td>\n",
       "      <td>21.4</td>\n",
       "      <td>2</td>\n",
       "      <td>0.0</td>\n",
       "      <td>12.0</td>\n",
       "      <td>8.10000</td>\n",
       "      <td>3</td>\n",
       "      <td>58.27958</td>\n",
       "      <td>1</td>\n",
       "      <td>1.0</td>\n",
       "      <td>59.0</td>\n",
       "      <td>2.0</td>\n",
       "      <td>14.0</td>\n",
       "      <td>64.2</td>\n",
       "    </tr>\n",
       "    <tr>\n",
       "      <th>1799</th>\n",
       "      <td>2018</td>\n",
       "      <td>5</td>\n",
       "      <td>2</td>\n",
       "      <td>18</td>\n",
       "      <td>21.4</td>\n",
       "      <td>2</td>\n",
       "      <td>10.0</td>\n",
       "      <td>8.0</td>\n",
       "      <td>8.10000</td>\n",
       "      <td>3</td>\n",
       "      <td>58.22726</td>\n",
       "      <td>1</td>\n",
       "      <td>1.0</td>\n",
       "      <td>53.0</td>\n",
       "      <td>3.0</td>\n",
       "      <td>6.0</td>\n",
       "      <td>64.2</td>\n",
       "    </tr>\n",
       "    <tr>\n",
       "      <th>3835</th>\n",
       "      <td>2018</td>\n",
       "      <td>4</td>\n",
       "      <td>25</td>\n",
       "      <td>17</td>\n",
       "      <td>21.4</td>\n",
       "      <td>2</td>\n",
       "      <td>4.0</td>\n",
       "      <td>10.0</td>\n",
       "      <td>8.18181</td>\n",
       "      <td>4</td>\n",
       "      <td>57.83369</td>\n",
       "      <td>1</td>\n",
       "      <td>1.0</td>\n",
       "      <td>64.0</td>\n",
       "      <td>3.0</td>\n",
       "      <td>11.0</td>\n",
       "      <td>85.6</td>\n",
       "    </tr>\n",
       "    <tr>\n",
       "      <th>3842</th>\n",
       "      <td>2018</td>\n",
       "      <td>4</td>\n",
       "      <td>30</td>\n",
       "      <td>18</td>\n",
       "      <td>21.4</td>\n",
       "      <td>2</td>\n",
       "      <td>4.0</td>\n",
       "      <td>12.0</td>\n",
       "      <td>8.10000</td>\n",
       "      <td>3</td>\n",
       "      <td>58.17608</td>\n",
       "      <td>1</td>\n",
       "      <td>1.0</td>\n",
       "      <td>60.0</td>\n",
       "      <td>2.0</td>\n",
       "      <td>10.0</td>\n",
       "      <td>64.2</td>\n",
       "    </tr>\n",
       "  </tbody>\n",
       "</table>\n",
       "</div>"
      ],
      "text/plain": [
       "      ГодЗаказа  МесяцЗаказа  ДеньЗаказа  НеделяЗаказа  ЦЕНА_ЗКП_РУБ  \\\n",
       "1190       2018            4          24            17          21.4   \n",
       "1368       2018            4          29            17          21.4   \n",
       "1799       2018            5           2            18          21.4   \n",
       "3835       2018            4          25            17          21.4   \n",
       "3842       2018            4          30            18          21.4   \n",
       "\n",
       "      СРОК_ГДН_ОСТ_Д  ОСТ_ТЕК_ШТ  ТОВ_В_ПУТ_СУМ_ШТ  ПРДЖ_СР_ШТ_ДО  \\\n",
       "1190               2         0.0              10.0        8.18181   \n",
       "1368               2         0.0              12.0        8.10000   \n",
       "1799               2        10.0               8.0        8.10000   \n",
       "3835               2         4.0              10.0        8.18181   \n",
       "3842               2         4.0              12.0        8.10000   \n",
       "\n",
       "      КВО_ПРДЖ_БАЗА_ШТ  ПРДЖ_БАЗА_СР_ШТ  ППП_ДЛН_Д  ТРБ_МАГ_КВНТ_ШТ  \\\n",
       "1190                 4         57.86321          1              1.0   \n",
       "1368                 3         58.27958          1              1.0   \n",
       "1799                 3         58.22726          1              1.0   \n",
       "3835                 4         57.83369          1              1.0   \n",
       "3842                 3         58.17608          1              1.0   \n",
       "\n",
       "      ПРДЖ_ШТ_НЕД  СПИС_ШТ_НЕД  ЗКЗ_ИТГ_ШТ  Себестоимость  \n",
       "1190         65.0          3.0        14.0           85.6  \n",
       "1368         59.0          2.0        14.0           64.2  \n",
       "1799         53.0          3.0         6.0           64.2  \n",
       "3835         64.0          3.0        11.0           85.6  \n",
       "3842         60.0          2.0        10.0           64.2  "
      ]
     },
     "execution_count": 72,
     "metadata": {},
     "output_type": "execute_result"
    }
   ],
   "source": [
    "df = df.select_dtypes(include = ['float64', 'int64'])\n",
    "df.head()"
   ]
  },
  {
   "cell_type": "markdown",
   "metadata": {},
   "source": [
    "Посмотрим, какие предикторы коррелируют с игреком, а какие нет. Оставим, которые коррелируют. "
   ]
  },
  {
   "cell_type": "code",
   "execution_count": 73,
   "metadata": {},
   "outputs": [
    {
     "data": {
      "text/plain": [
       "array([ 85.6 ,  64.2 ,  64.2 , ..., 100.25,  20.05, 120.3 ])"
      ]
     },
     "execution_count": 73,
     "metadata": {},
     "output_type": "execute_result"
    }
   ],
   "source": [
    "y = df['Себестоимость'].values\n",
    "y"
   ]
  },
  {
   "cell_type": "code",
   "execution_count": 74,
   "metadata": {},
   "outputs": [
    {
     "data": {
      "text/plain": [
       "array([[1.        , 0.15337899],\n",
       "       [0.15337899, 1.        ]])"
      ]
     },
     "execution_count": 74,
     "metadata": {},
     "output_type": "execute_result"
    }
   ],
   "source": [
    "np.corrcoef(df['ЦЕНА_ЗКП_РУБ'].values, y)"
   ]
  },
  {
   "cell_type": "code",
   "execution_count": 75,
   "metadata": {},
   "outputs": [
    {
     "data": {
      "text/plain": [
       "array([[ 1.        , -0.08251237],\n",
       "       [-0.08251237,  1.        ]])"
      ]
     },
     "execution_count": 75,
     "metadata": {},
     "output_type": "execute_result"
    }
   ],
   "source": [
    "np.corrcoef(df['СРОК_ГДН_ОСТ_Д'].values, y)"
   ]
  },
  {
   "cell_type": "code",
   "execution_count": 76,
   "metadata": {},
   "outputs": [
    {
     "data": {
      "text/plain": [
       "array([[1.        , 0.12064896],\n",
       "       [0.12064896, 1.        ]])"
      ]
     },
     "execution_count": 76,
     "metadata": {},
     "output_type": "execute_result"
    }
   ],
   "source": [
    "np.corrcoef(df['ОСТ_ТЕК_ШТ'].values, y)"
   ]
  },
  {
   "cell_type": "code",
   "execution_count": 77,
   "metadata": {},
   "outputs": [
    {
     "data": {
      "text/plain": [
       "array([[1.        , 0.18100096],\n",
       "       [0.18100096, 1.        ]])"
      ]
     },
     "execution_count": 77,
     "metadata": {},
     "output_type": "execute_result"
    }
   ],
   "source": [
    "np.corrcoef(df['ПРДЖ_СР_ШТ_ДО'].values, y)"
   ]
  },
  {
   "cell_type": "code",
   "execution_count": 78,
   "metadata": {},
   "outputs": [
    {
     "data": {
      "text/plain": [
       "array([[1.       , 0.9916859],\n",
       "       [0.9916859, 1.       ]])"
      ]
     },
     "execution_count": 78,
     "metadata": {},
     "output_type": "execute_result"
    }
   ],
   "source": [
    "np.corrcoef(df['КВО_ПРДЖ_БАЗА_ШТ'].values, y)"
   ]
  },
  {
   "cell_type": "code",
   "execution_count": 79,
   "metadata": {},
   "outputs": [
    {
     "data": {
      "text/plain": [
       "array([[1.        , 0.19975945],\n",
       "       [0.19975945, 1.        ]])"
      ]
     },
     "execution_count": 79,
     "metadata": {},
     "output_type": "execute_result"
    }
   ],
   "source": [
    "np.corrcoef(df['ПРДЖ_БАЗА_СР_ШТ'].values, y)"
   ]
  },
  {
   "cell_type": "code",
   "execution_count": 80,
   "metadata": {},
   "outputs": [
    {
     "data": {
      "text/plain": [
       "array([[1.        , 0.03095591],\n",
       "       [0.03095591, 1.        ]])"
      ]
     },
     "execution_count": 80,
     "metadata": {},
     "output_type": "execute_result"
    }
   ],
   "source": [
    "np.corrcoef(df['ППП_ДЛН_Д'].values, y)"
   ]
  },
  {
   "cell_type": "code",
   "execution_count": 81,
   "metadata": {},
   "outputs": [
    {
     "data": {
      "text/plain": [
       "1.0    1021\n",
       "Name: ТРБ_МАГ_КВНТ_ШТ, dtype: int64"
      ]
     },
     "execution_count": 81,
     "metadata": {},
     "output_type": "execute_result"
    }
   ],
   "source": [
    "df['ТРБ_МАГ_КВНТ_ШТ'].value_counts()"
   ]
  },
  {
   "cell_type": "code",
   "execution_count": 82,
   "metadata": {},
   "outputs": [
    {
     "data": {
      "text/plain": [
       "array([[1.        , 0.07283007],\n",
       "       [0.07283007, 1.        ]])"
      ]
     },
     "execution_count": 82,
     "metadata": {},
     "output_type": "execute_result"
    }
   ],
   "source": [
    "np.corrcoef(df['ПРДЖ_ШТ_НЕД'].values, y)"
   ]
  },
  {
   "cell_type": "code",
   "execution_count": 83,
   "metadata": {},
   "outputs": [
    {
     "data": {
      "text/plain": [
       "array([[1.        , 0.08384183],\n",
       "       [0.08384183, 1.        ]])"
      ]
     },
     "execution_count": 83,
     "metadata": {},
     "output_type": "execute_result"
    }
   ],
   "source": [
    "np.corrcoef(df['СПИС_ШТ_НЕД'].values, y)"
   ]
  },
  {
   "cell_type": "code",
   "execution_count": 84,
   "metadata": {},
   "outputs": [
    {
     "data": {
      "text/plain": [
       "array([[1.        , 0.00327601],\n",
       "       [0.00327601, 1.        ]])"
      ]
     },
     "execution_count": 84,
     "metadata": {},
     "output_type": "execute_result"
    }
   ],
   "source": [
    "np.corrcoef(df['ТОВ_В_ПУТ_СУМ_ШТ'].values, y)"
   ]
  },
  {
   "cell_type": "code",
   "execution_count": 85,
   "metadata": {},
   "outputs": [
    {
     "data": {
      "text/plain": [
       "array([[1.        , 0.22572195],\n",
       "       [0.22572195, 1.        ]])"
      ]
     },
     "execution_count": 85,
     "metadata": {},
     "output_type": "execute_result"
    }
   ],
   "source": [
    "np.corrcoef(df['НеделяЗаказа'].values, y)"
   ]
  },
  {
   "cell_type": "code",
   "execution_count": 86,
   "metadata": {},
   "outputs": [
    {
     "data": {
      "text/plain": [
       "array([[1.        , 0.21919628],\n",
       "       [0.21919628, 1.        ]])"
      ]
     },
     "execution_count": 86,
     "metadata": {},
     "output_type": "execute_result"
    }
   ],
   "source": [
    "np.corrcoef(df['МесяцЗаказа'].values, y)"
   ]
  },
  {
   "cell_type": "markdown",
   "metadata": {},
   "source": [
    "Выбираю два предиктора НеделяЗаказа и КВО_ПРДЖ_БАЗА_ШТ. Далее идет расчет коэффициентов линейной регрессии с матричным способом"
   ]
  },
  {
   "cell_type": "code",
   "execution_count": 90,
   "metadata": {},
   "outputs": [
    {
     "data": {
      "text/plain": [
       "(1021, 1)"
      ]
     },
     "execution_count": 90,
     "metadata": {},
     "output_type": "execute_result"
    }
   ],
   "source": [
    "y.shape"
   ]
  },
  {
   "cell_type": "code",
   "execution_count": 91,
   "metadata": {},
   "outputs": [
    {
     "data": {
      "text/plain": [
       "array([[ 85.6 ],\n",
       "       [ 64.2 ],\n",
       "       [ 64.2 ],\n",
       "       ...,\n",
       "       [100.25],\n",
       "       [ 20.05],\n",
       "       [120.3 ]])"
      ]
     },
     "execution_count": 91,
     "metadata": {},
     "output_type": "execute_result"
    }
   ],
   "source": [
    "y = y.reshape(df.shape[0], 1)\n",
    "y"
   ]
  },
  {
   "cell_type": "code",
   "execution_count": 92,
   "metadata": {},
   "outputs": [
    {
     "data": {
      "text/plain": [
       "(1021, 1)"
      ]
     },
     "execution_count": 92,
     "metadata": {},
     "output_type": "execute_result"
    }
   ],
   "source": [
    "y.shape"
   ]
  },
  {
   "cell_type": "code",
   "execution_count": 93,
   "metadata": {},
   "outputs": [
    {
     "data": {
      "text/plain": [
       "array([[ 4, 17],\n",
       "       [ 3, 17],\n",
       "       [ 3, 18],\n",
       "       ...,\n",
       "       [ 5, 44],\n",
       "       [ 1,  4],\n",
       "       [ 6, 44]], dtype=int64)"
      ]
     },
     "execution_count": 93,
     "metadata": {},
     "output_type": "execute_result"
    }
   ],
   "source": [
    "X = df.loc[:,['КВО_ПРДЖ_БАЗА_ШТ', 'НеделяЗаказа']].values\n",
    "X"
   ]
  },
  {
   "cell_type": "code",
   "execution_count": 94,
   "metadata": {},
   "outputs": [
    {
     "data": {
      "text/plain": [
       "(1021, 2)"
      ]
     },
     "execution_count": 94,
     "metadata": {},
     "output_type": "execute_result"
    }
   ],
   "source": [
    "X.shape"
   ]
  },
  {
   "cell_type": "code",
   "execution_count": 95,
   "metadata": {},
   "outputs": [
    {
     "data": {
      "text/plain": [
       "array([[ 1.,  4., 17.],\n",
       "       [ 1.,  3., 17.],\n",
       "       [ 1.,  3., 18.],\n",
       "       ...,\n",
       "       [ 1.,  5., 44.],\n",
       "       [ 1.,  1.,  4.],\n",
       "       [ 1.,  6., 44.]])"
      ]
     },
     "execution_count": 95,
     "metadata": {},
     "output_type": "execute_result"
    }
   ],
   "source": [
    "X = np.hstack([np.ones((df.shape[0], 1)), X])\n",
    "X"
   ]
  },
  {
   "cell_type": "code",
   "execution_count": 96,
   "metadata": {},
   "outputs": [
    {
     "data": {
      "text/plain": [
       "(1021, 3)"
      ]
     },
     "execution_count": 96,
     "metadata": {},
     "output_type": "execute_result"
    }
   ],
   "source": [
    "X.shape"
   ]
  },
  {
   "cell_type": "code",
   "execution_count": 97,
   "metadata": {},
   "outputs": [
    {
     "data": {
      "text/plain": [
       "array([[-0.13399788],\n",
       "       [20.44824373],\n",
       "       [ 0.02281416]])"
      ]
     },
     "execution_count": 97,
     "metadata": {},
     "output_type": "execute_result"
    }
   ],
   "source": [
    "B = np.dot(np.linalg.inv(np.dot(X.T, X)), X.T@y)\n",
    "B"
   ]
  },
  {
   "cell_type": "code",
   "execution_count": 98,
   "metadata": {},
   "outputs": [
    {
     "data": {
      "text/plain": [
       "(3, 1)"
      ]
     },
     "execution_count": 98,
     "metadata": {},
     "output_type": "execute_result"
    }
   ],
   "source": [
    "B.shape"
   ]
  },
  {
   "cell_type": "code",
   "execution_count": 99,
   "metadata": {},
   "outputs": [
    {
     "data": {
      "text/html": [
       "<div>\n",
       "<style scoped>\n",
       "    .dataframe tbody tr th:only-of-type {\n",
       "        vertical-align: middle;\n",
       "    }\n",
       "\n",
       "    .dataframe tbody tr th {\n",
       "        vertical-align: top;\n",
       "    }\n",
       "\n",
       "    .dataframe thead th {\n",
       "        text-align: right;\n",
       "    }\n",
       "</style>\n",
       "<table border=\"1\" class=\"dataframe\">\n",
       "  <thead>\n",
       "    <tr style=\"text-align: right;\">\n",
       "      <th></th>\n",
       "      <th>y</th>\n",
       "      <th>y_hat</th>\n",
       "    </tr>\n",
       "  </thead>\n",
       "  <tbody>\n",
       "    <tr>\n",
       "      <th>0</th>\n",
       "      <td>85.6</td>\n",
       "      <td>82.046818</td>\n",
       "    </tr>\n",
       "    <tr>\n",
       "      <th>1</th>\n",
       "      <td>64.2</td>\n",
       "      <td>61.598574</td>\n",
       "    </tr>\n",
       "    <tr>\n",
       "      <th>2</th>\n",
       "      <td>64.2</td>\n",
       "      <td>61.621388</td>\n",
       "    </tr>\n",
       "    <tr>\n",
       "      <th>3</th>\n",
       "      <td>85.6</td>\n",
       "      <td>82.046818</td>\n",
       "    </tr>\n",
       "    <tr>\n",
       "      <th>4</th>\n",
       "      <td>64.2</td>\n",
       "      <td>61.621388</td>\n",
       "    </tr>\n",
       "    <tr>\n",
       "      <th>5</th>\n",
       "      <td>64.2</td>\n",
       "      <td>61.598574</td>\n",
       "    </tr>\n",
       "    <tr>\n",
       "      <th>6</th>\n",
       "      <td>64.2</td>\n",
       "      <td>61.644202</td>\n",
       "    </tr>\n",
       "    <tr>\n",
       "      <th>7</th>\n",
       "      <td>64.2</td>\n",
       "      <td>61.621388</td>\n",
       "    </tr>\n",
       "    <tr>\n",
       "      <th>8</th>\n",
       "      <td>64.2</td>\n",
       "      <td>61.644202</td>\n",
       "    </tr>\n",
       "    <tr>\n",
       "      <th>9</th>\n",
       "      <td>64.2</td>\n",
       "      <td>61.621388</td>\n",
       "    </tr>\n",
       "    <tr>\n",
       "      <th>10</th>\n",
       "      <td>64.2</td>\n",
       "      <td>61.598574</td>\n",
       "    </tr>\n",
       "    <tr>\n",
       "      <th>11</th>\n",
       "      <td>42.8</td>\n",
       "      <td>41.195959</td>\n",
       "    </tr>\n",
       "    <tr>\n",
       "      <th>12</th>\n",
       "      <td>64.2</td>\n",
       "      <td>61.621388</td>\n",
       "    </tr>\n",
       "    <tr>\n",
       "      <th>13</th>\n",
       "      <td>64.2</td>\n",
       "      <td>61.644202</td>\n",
       "    </tr>\n",
       "    <tr>\n",
       "      <th>14</th>\n",
       "      <td>64.2</td>\n",
       "      <td>61.621388</td>\n",
       "    </tr>\n",
       "    <tr>\n",
       "      <th>15</th>\n",
       "      <td>42.8</td>\n",
       "      <td>41.195959</td>\n",
       "    </tr>\n",
       "    <tr>\n",
       "      <th>16</th>\n",
       "      <td>64.2</td>\n",
       "      <td>61.667016</td>\n",
       "    </tr>\n",
       "    <tr>\n",
       "      <th>17</th>\n",
       "      <td>64.2</td>\n",
       "      <td>61.621388</td>\n",
       "    </tr>\n",
       "    <tr>\n",
       "      <th>18</th>\n",
       "      <td>64.2</td>\n",
       "      <td>61.644202</td>\n",
       "    </tr>\n",
       "    <tr>\n",
       "      <th>19</th>\n",
       "      <td>64.2</td>\n",
       "      <td>61.667016</td>\n",
       "    </tr>\n",
       "  </tbody>\n",
       "</table>\n",
       "</div>"
      ],
      "text/plain": [
       "       y      y_hat\n",
       "0   85.6  82.046818\n",
       "1   64.2  61.598574\n",
       "2   64.2  61.621388\n",
       "3   85.6  82.046818\n",
       "4   64.2  61.621388\n",
       "5   64.2  61.598574\n",
       "6   64.2  61.644202\n",
       "7   64.2  61.621388\n",
       "8   64.2  61.644202\n",
       "9   64.2  61.621388\n",
       "10  64.2  61.598574\n",
       "11  42.8  41.195959\n",
       "12  64.2  61.621388\n",
       "13  64.2  61.644202\n",
       "14  64.2  61.621388\n",
       "15  42.8  41.195959\n",
       "16  64.2  61.667016\n",
       "17  64.2  61.621388\n",
       "18  64.2  61.644202\n",
       "19  64.2  61.667016"
      ]
     },
     "execution_count": 99,
     "metadata": {},
     "output_type": "execute_result"
    }
   ],
   "source": [
    "df2 = pd.DataFrame(data=y, columns=['y'])\n",
    "df2['y_hat'] = np.dot(X, B)\n",
    "df2.head(20)"
   ]
  },
  {
   "cell_type": "code",
   "execution_count": 100,
   "metadata": {},
   "outputs": [
    {
     "data": {
      "image/png": "[encoded data removed]",
      "text/plain": [
       "<Figure size 1296x864 with 1 Axes>"
      ]
     },
     "metadata": {
      "needs_background": "light"
     },
     "output_type": "display_data"
    }
   ],
   "source": [
    "rcParams[\"figure.figsize\"] = 18, 12\n",
    "%config InlineBackend.figure_format\n",
    "from mpl_toolkits.mplot3d import Axes3D\n",
    "\n",
    "label_font = {\n",
    "    \"fontsize\": 9,\n",
    "    \"family\": \"serif\",\n",
    "}\n",
    "\n",
    "fig = plt.figure()\n",
    "ax = fig.add_subplot(111, projection='3d')\n",
    "ax.scatter(df['КВО_ПРДЖ_БАЗА_ШТ'], df['НеделяЗаказа'], y, zdir='z', c= 'red')\n",
    "ax.scatter(df['КВО_ПРДЖ_БАЗА_ШТ'], df['НеделяЗаказа'], np.dot(X, B), zdir='z', c= 'green')\n",
    "plt.xlabel(\"КВО_ПРДЖ_БАЗА_ШТ\", fontdict=label_font)\n",
    "plt.ylabel(\"НеделяЗаказа\", fontdict=label_font)\n",
    "plt.title(\"Себестоимость, руб реальная и спрогнозированая\")\n",
    "plt.legend(labels=[\"y\", \"y_hat\"])\n",
    "plt.show()"
   ]
  },
  {
   "cell_type": "code",
   "execution_count": 101,
   "metadata": {},
   "outputs": [
    {
     "data": {
      "text/plain": [
       "10.349318361900725"
      ]
     },
     "execution_count": 101,
     "metadata": {},
     "output_type": "execute_result"
    }
   ],
   "source": [
    "mse = ((y-np.dot(X, B))**2).sum()/len(y)\n",
    "mse"
   ]
  },
  {
   "cell_type": "code",
   "execution_count": 102,
   "metadata": {},
   "outputs": [
    {
     "data": {
      "text/plain": [
       "3.1821512833698655"
      ]
     },
     "execution_count": 102,
     "metadata": {},
     "output_type": "execute_result"
    }
   ],
   "source": [
    "A_mean = 100 * np.mean(np.abs((y - np.dot(X, B)) / y))\n",
    "A_mean"
   ]
  },
  {
   "cell_type": "markdown",
   "metadata": {},
   "source": [
    "Проверим, является ли полученная модель статистически значимой с помощью критерия Фишера. Установим уровень значимости альфа = 0,05. \n",
    "* 1) H0: модель не является статистически значимой\n",
    "* 2) H1: модель является статистически значимой"
   ]
  },
  {
   "cell_type": "code",
   "execution_count": 103,
   "metadata": {},
   "outputs": [
    {
     "data": {
      "text/plain": [
       "(1021, 3, 0.05)"
      ]
     },
     "execution_count": 103,
     "metadata": {},
     "output_type": "execute_result"
    }
   ],
   "source": [
    "n = len(y)\n",
    "p = X.shape[1]\n",
    "alpha = 0.05\n",
    "n, p, alpha"
   ]
  },
  {
   "cell_type": "code",
   "execution_count": 104,
   "metadata": {},
   "outputs": [
    {
     "data": {
      "text/plain": [
       "2"
      ]
     },
     "execution_count": 104,
     "metadata": {},
     "output_type": "execute_result"
    }
   ],
   "source": [
    "df1 = p - 1\n",
    "df1"
   ]
  },
  {
   "cell_type": "code",
   "execution_count": 105,
   "metadata": {},
   "outputs": [
    {
     "data": {
      "text/plain": [
       "1018"
      ]
     },
     "execution_count": 105,
     "metadata": {},
     "output_type": "execute_result"
    }
   ],
   "source": [
    "df2 = n - p\n",
    "df2"
   ]
  },
  {
   "cell_type": "code",
   "execution_count": 106,
   "metadata": {},
   "outputs": [
    {
     "data": {
      "text/plain": [
       "634157.2676578157"
      ]
     },
     "execution_count": 106,
     "metadata": {},
     "output_type": "execute_result"
    }
   ],
   "source": [
    "SSf = ((np.dot(X, B) - y.mean())**2).sum()\n",
    "SSf"
   ]
  },
  {
   "cell_type": "code",
   "execution_count": 107,
   "metadata": {},
   "outputs": [
    {
     "data": {
      "text/plain": [
       "10566.65404750064"
      ]
     },
     "execution_count": 107,
     "metadata": {},
     "output_type": "execute_result"
    }
   ],
   "source": [
    "SSo = ((y-np.dot(X, B))**2).sum()\n",
    "SSo"
   ]
  },
  {
   "cell_type": "code",
   "execution_count": 108,
   "metadata": {},
   "outputs": [
    {
     "data": {
      "text/plain": [
       "317078.63382890786"
      ]
     },
     "execution_count": 108,
     "metadata": {},
     "output_type": "execute_result"
    }
   ],
   "source": [
    "MSf = SSf / df1\n",
    "MSf"
   ]
  },
  {
   "cell_type": "code",
   "execution_count": 109,
   "metadata": {},
   "outputs": [
    {
     "data": {
      "text/plain": [
       "10.379817335462318"
      ]
     },
     "execution_count": 109,
     "metadata": {},
     "output_type": "execute_result"
    }
   ],
   "source": [
    "MSo = SSo / df2\n",
    "MSo"
   ]
  },
  {
   "cell_type": "code",
   "execution_count": 110,
   "metadata": {},
   "outputs": [
    {
     "data": {
      "text/plain": [
       "30547.61211891646"
      ]
     },
     "execution_count": 110,
     "metadata": {},
     "output_type": "execute_result"
    }
   ],
   "source": [
    "Fp = MSf / MSo\n",
    "Fp"
   ]
  },
  {
   "cell_type": "markdown",
   "metadata": {},
   "source": [
    "При 5 % уровне значимости и степенях свободы k1=2 и k2=1021−2=1018 табличное значение критерия: Fкр=4.6."
   ]
  },
  {
   "cell_type": "markdown",
   "metadata": {},
   "source": [
    "Fp > Ft модель является статистически значимой на уровне значимости альфа = 0,05"
   ]
  },
  {
   "cell_type": "markdown",
   "metadata": {},
   "source": [
    "Далее идет немного EDA..."
   ]
  },
  {
   "cell_type": "code",
   "execution_count": 111,
   "metadata": {},
   "outputs": [
    {
     "name": "stderr",
     "output_type": "stream",
     "text": [
      "Enabling notebook extension jupyter-js-widgets/extension...\n",
      "      - Validating: ok\n"
     ]
    }
   ],
   "source": [
    "!pip install -U -q ipywidgets\n",
    "!jupyter nbextension enable --py widgetsnbextension"
   ]
  },
  {
   "cell_type": "code",
   "execution_count": 112,
   "metadata": {},
   "outputs": [],
   "source": [
    "import pylab\n",
    "import matplotlib.dates\n",
    "from pylab import rcParams\n",
    "\n",
    "\n",
    "import ipywidgets as widgets\n",
    "from ipywidgets import interact, interact_manual\n",
    "from IPython.display import Image, display, HTML"
   ]
  },
  {
   "cell_type": "code",
   "execution_count": 116,
   "metadata": {},
   "outputs": [],
   "source": [
    "df = pd.read_csv('Order1c_pred.csv')\n",
    "df['Себестоимость'] = df['ЦЕНА_ЗКП_РУБ']*df['КВО_ПРДЖ_БАЗА_ШТ']"
   ]
  },
  {
   "cell_type": "code",
   "execution_count": 117,
   "metadata": {},
   "outputs": [
    {
     "data": {
      "application/vnd.jupyter.widget-view+json": {
       "model_id": "905c6a2e290844e1b8b0998f4edbc5bb",
       "version_major": 2,
       "version_minor": 0
      },
      "text/plain": [
       "interactive(children=(Dropdown(description='Год заказа:', options=(2018, 2016, 2017, 2015), value=2018), Dropd…"
      ]
     },
     "metadata": {},
     "output_type": "display_data"
    }
   ],
   "source": [
    "def plot_up_to(year, goods):   \n",
    "    result = df.query(f'(КодТовара == \"{goods}\") & (ГодЗаказа == \"{year}\")')\n",
    "    xdata = result['НеделяЗаказа']\n",
    "    ydata = result['Себестоимость']\n",
    "    rcParams[\"figure.figsize\"] = 10, 8\n",
    "\n",
    "    plt.scatter(xdata,ydata)\n",
    "    plt.title('Себестоимость, руб товара по неделям')\n",
    "    plt.show()\n",
    "\n",
    "_ = interact(plot_up_to, year=widgets.Dropdown(options=list(df[\"ГодЗаказа\"].unique()), value=2018, description='Год заказа:'), \n",
    "             goods=widgets.Dropdown(options=list(df[\"КодТовара\"].unique()), description='Код товара:'))"
   ]
  },
  {
   "cell_type": "code",
   "execution_count": null,
   "metadata": {},
   "outputs": [],
   "source": []
  }
 ],
 "metadata": {
  "kernelspec": {
   "display_name": "Python 3",
   "language": "python",
   "name": "python3"
  },
  "language_info": {
   "codemirror_mode": {
    "name": "ipython",
    "version": 3
   },
   "file_extension": ".py",
   "mimetype": "text/x-python",
   "name": "python",
   "nbconvert_exporter": "python",
   "pygments_lexer": "ipython3",
   "version": "3.7.5"
  }
 },
 "nbformat": 4,
 "nbformat_minor": 2
}
